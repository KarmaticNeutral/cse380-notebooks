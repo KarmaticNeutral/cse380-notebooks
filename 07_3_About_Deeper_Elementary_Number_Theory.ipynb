{
  "nbformat": 4,
  "nbformat_minor": 0,
  "metadata": {
    "colab": {
      "name": " 07_3_About_Deeper_Elementary_Number_Theory.ipynb",
      "provenance": [],
      "include_colab_link": true
    },
    "kernelspec": {
      "name": "python3",
      "display_name": "Python 3"
    }
  },
  "cells": [
    {
      "cell_type": "markdown",
      "metadata": {
        "id": "view-in-github",
        "colab_type": "text"
      },
      "source": [
        "<a href=\"https://colab.research.google.com/github/KarmaticNeutral/cse380-notebooks/blob/master/07_3_About_Deeper_Elementary_Number_Theory.ipynb\" target=\"_parent\"><img src=\"https://colab.research.google.com/assets/colab-badge.svg\" alt=\"Open In Colab\"/></a>"
      ]
    },
    {
      "cell_type": "markdown",
      "metadata": {
        "id": "fKBSJ5Hh6UMv"
      },
      "source": [
        "# About Deeper Elementary Number Theory\n",
        "## Class Directed Learning\n",
        "### Due: Wednesday, 17 February 2021, 11:59 pm"
      ]
    },
    {
      "cell_type": "markdown",
      "metadata": {
        "id": "yx-XMrWE6hEw"
      },
      "source": [
        "## Read and Ponder\n",
        "https://byui-cse.github.io/cse380-course/about-deeper-elementary-number-theory.pdf\n",
        "\n",
        "Put your answers in cells you will add below.\n",
        "\n",
        "Above and beyond behavior: Incorporate the material in the PDF into this notebook."
      ]
    },
    {
      "cell_type": "markdown",
      "metadata": {
        "id": "KHbZmGZLOPrV"
      },
      "source": [
        "Explore Another Proof\r\n",
        "Here is another proof of Fermat’s Little Theorem:\r\n",
        "1. Suppose we have beads in X different colors, and we wish to make bracelets using\r\n",
        "exactly N beads.\r\n",
        "2. First we put N beads on a string.\r\n",
        "3. Since each of the beads can be chosen in X ways, by the product rule there are XN\r\n",
        "possible strings.\r\n",
        "4. For each of the X colors, there is one string entirely of that color, which we throw\r\n",
        "away, leaving XN − X strings.\r\n",
        "5. We join the two ends of each of these remaining strings to form bracelets.\r\n",
        "6. We observe that if two strings differ only by a cyclic permutation of the beads, the\r\n",
        "resulting bracelets will be indistinguishable.\r\n",
        "7. There are N cyclic permutations of the N beads on a string.\r\n",
        "8. Therefore the number of distinguishable bracelets is (XN − X)/N.\r\n",
        "9. Therefore (XN − X)/N must be an integer.\r\n",
        "10. Therefore XN − X is divisible by N.\r\n",
        "11. Q.E.D.\r\n",
        "\r\n",
        "The hypothesis (N is prime) is implicitly used in one step of this proof. In other words, if\r\n",
        "“Blah” is what the step says, to be complete it should say “Blah, since N is prime.” Which\r\n",
        "step is it?\r\n",
        "\r\n",
        "Find an explanation of this proof online in written or video form.\r\n",
        "\r\n",
        "https://mathlesstraveled.com/2017/12/12/fermats-little-theorem-proof-by-necklaces/\r\n",
        "\r\n",
        "Step 7 requires that N is a prime number.\r\n"
      ]
    },
    {
      "cell_type": "code",
      "metadata": {
        "id": "HcJ8G15JLSi0",
        "outputId": "5c27a6b2-91ff-4b97-90c7-1d17e525c4f4",
        "colab": {
          "base_uri": "https://localhost:8080/"
        }
      },
      "source": [
        "def is_int(x, n):\r\n",
        "  res = ((x ** n) - x) / n\r\n",
        "  res_int = ((x ** n) - x) // n\r\n",
        "  print(res, res_int)\r\n",
        "  return res == res_int\r\n",
        "\r\n",
        "#for x in range(1, 30):\r\n",
        "#  for n in range(1, 30):\r\n",
        "#    if not is_int(x, n):\r\n",
        "x = 32\r\n",
        "n = 11\r\n",
        "print(x, n, is_int(x, n))"
      ],
      "execution_count": 12,
      "outputs": [
        {
          "output_type": "stream",
          "text": [
            "3275345183542176.0 3275345183542176\n",
            "32 11 True\n"
          ],
          "name": "stdout"
        }
      ]
    },
    {
      "cell_type": "markdown",
      "metadata": {
        "id": "DOjH5oGgIYyz"
      },
      "source": [
        "### TODO Explore Primes and Probability Further\r\n",
        "You have already seen one connection between coprimality and probability in the determination that the probability that two randomly chosen positive integers are coprime being\r\n",
        "the reciprocal $(6/π^2)$ of the sum of the reciprocals of the squares of the positive integers\r\n",
        "$(π^2/6)$.\r\n",
        "\r\n",
        "There are other connections between primality and probability!\r\n",
        "\r\n",
        "A probabilistic algorithm is an algorithm that might give the incorrect answer, but\r\n",
        "only with small probability. For example, there are good probabilistic algorithms that test\r\n",
        "whether or not a natural number is prime. Many of these are based on a deterministic\r\n",
        "test using Fermat’s little theorem, which, going back to the first statement of it, says\r\n",
        "that if N is prime, then N divides $X^N - X$. Which implies that if N doesn’t divide $X^N - X$\r\n",
        "for some X, then N can’t be prime.\r\n",
        "\r\n",
        "Unfortunately, this test doesn’t always work, because pseudoprimes fool it.\r\n",
        "In the book is a brief mention of the Prime Number Theorem. This theorem states that\r\n",
        "the number of primes not exceeding (less than or equal to) the number $n$ is approximately\r\n",
        "equal to $n / log(n)$. \r\n",
        "\r\n",
        "Can you use this theorem to estimate the probability that a randomly chosen k-digit number is prime?"
      ]
    },
    {
      "cell_type": "markdown",
      "metadata": {
        "id": "gSS9hSPqPU9q"
      },
      "source": [
        "k = 5\r\n",
        "\r\n",
        "10000 -> 99999\r\n",
        "\r\n",
        "In all numbers under n\r\n",
        "\r\n",
        "n/log(n) -> num primes primes <= n\r\n",
        "\r\n",
        "m -> all numbers under the lower limit of k OR 1 -> 9999\r\n",
        "\r\n",
        "m/(log(m)) -> nun priumes <= m\r\n",
        "\r\n",
        "n - m / n/logn - m/logm = P(random k-digit being prime)"
      ]
    },
    {
      "cell_type": "code",
      "metadata": {
        "id": "TnwbYB_GQntV",
        "outputId": "2c55ca7e-f27a-4c8b-b34e-c8507b2779b9",
        "colab": {
          "base_uri": "https://localhost:8080/"
        }
      },
      "source": [
        "from math import log\r\n",
        "\r\n",
        "def prob_prime_for_digits(k):\r\n",
        "  n = (10 ** (k + 1)) - 1\r\n",
        "  m = (10 ** k) - 1\r\n",
        "  \r\n",
        "  return ((n / log(n)) - (m / log(m))) / (n - m)\r\n",
        "\r\n",
        "\r\n",
        "for k in range(1, 10):\r\n",
        "  print(\"P(\", k, \") =\", prob_prime_for_digits(k))\r\n"
      ],
      "execution_count": 21,
      "outputs": [
        {
          "output_type": "stream",
          "text": [
            "P( 1 ) = 0.1938724368727183\n",
            "P( 2 ) = 0.13677379560330394\n",
            "P( 3 ) = 0.10455537855843747\n",
            "P( 4 ) = 0.08444634338553433\n",
            "P( 5 ) = 0.07077392909303835\n",
            "P( 6 ) = 0.06089314263700293\n",
            "P( 7 ) = 0.053425114913450325\n",
            "P( 8 ) = 0.047584734905908165\n",
            "P( 9 ) = 0.04289328216377114\n"
          ],
          "name": "stdout"
        }
      ]
    },
    {
      "cell_type": "code",
      "metadata": {
        "id": "Ug5jnzdFSLB-"
      },
      "source": [
        ""
      ],
      "execution_count": null,
      "outputs": []
    }
  ]
}