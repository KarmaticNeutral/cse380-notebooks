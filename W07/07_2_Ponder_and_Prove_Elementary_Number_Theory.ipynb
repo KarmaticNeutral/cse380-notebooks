{
  "nbformat": 4,
  "nbformat_minor": 0,
  "metadata": {
    "kernelspec": {
      "display_name": "Python 3",
      "language": "python",
      "name": "python3"
    },
    "language_info": {
      "codemirror_mode": {
        "name": "ipython",
        "version": 3
      },
      "file_extension": ".py",
      "mimetype": "text/x-python",
      "name": "python",
      "nbconvert_exporter": "python",
      "pygments_lexer": "ipython3",
      "version": "3.9.0"
    },
    "colab": {
      "name": "07_2_Ponder_and_Prove_Elementary_Number_Theory.ipynb",
      "provenance": [],
      "include_colab_link": true
    }
  },
  "cells": [
    {
      "cell_type": "markdown",
      "metadata": {
        "id": "view-in-github",
        "colab_type": "text"
      },
      "source": [
        "<a href=\"https://colab.research.google.com/github/KarmaticNeutral/cse380-notebooks/blob/master/W07/07_2_Ponder_and_Prove_Elementary_Number_Theory.ipynb\" target=\"_parent\"><img src=\"https://colab.research.google.com/assets/colab-badge.svg\" alt=\"Open In Colab\"/></a>"
      ]
    },
    {
      "cell_type": "markdown",
      "metadata": {
        "id": "1rG4k7VvQ2WT"
      },
      "source": [
        "# Ponder and Prove Elementary Number Theory\n",
        "#### Due: Saturday, 20 February 2021, 11:59 pm."
      ]
    },
    {
      "cell_type": "markdown",
      "metadata": {
        "id": "W0WxE3IAQ2WU"
      },
      "source": [
        "## Explore Fermat's Little Theorem Further\n"
      ]
    },
    {
      "cell_type": "markdown",
      "metadata": {
        "id": "w2vby9erSjOv"
      },
      "source": [
        "Fermat's Little Theorem (FLT) says that if $N$ is prime, then $N$ divides $X^N - X$.\n",
        "\n",
        "Remember, the contrapositive of the conditional statement in this theorem is that if $N$ **doesn't** divide $X^N - X$ for some $X$, then $N$ **can't** be prime.\n",
        "\n",
        "Unfortunately, this simple primality test doesn't always work, because it can be fooled by **pseudoprimes**.\n",
        "\n",
        "For example, $341 = 11 \\cdot 31$ is not prime. But $341$ **does** divide $2^{341} - 2$ as verified below:"
      ]
    },
    {
      "cell_type": "code",
      "metadata": {
        "id": "NBrPMgZoTLAe",
        "colab": {
          "base_uri": "https://localhost:8080/"
        },
        "outputId": "cb1db1cf-7b6c-4716-9383-cf81f4efea80"
      },
      "source": [
        "((2 ** 341) - 2) % 341"
      ],
      "execution_count": null,
      "outputs": [
        {
          "output_type": "execute_result",
          "data": {
            "text/plain": [
              "0"
            ]
          },
          "metadata": {
            "tags": []
          },
          "execution_count": 1
        }
      ]
    },
    {
      "cell_type": "markdown",
      "metadata": {
        "id": "igGoVqAOTTm_"
      },
      "source": [
        "So $341$ is a so-called **base-2 pseudoprime**. What about **base-3**?"
      ]
    },
    {
      "cell_type": "code",
      "metadata": {
        "id": "hwrSZ1xDTVxW",
        "colab": {
          "base_uri": "https://localhost:8080/"
        },
        "outputId": "e1328d92-99d7-4ce8-9cd3-f2e36fffa00b"
      },
      "source": [
        "((3 ** 341) - 3) % 341"
      ],
      "execution_count": null,
      "outputs": [
        {
          "output_type": "execute_result",
          "data": {
            "text/plain": [
              "165"
            ]
          },
          "metadata": {
            "tags": []
          },
          "execution_count": 2
        }
      ]
    },
    {
      "cell_type": "markdown",
      "metadata": {
        "id": "sc9w28MiTZXk"
      },
      "source": [
        "Check that the result is not zero, therefore $341$ is **not** a **base-3 pseudoprime**.\n",
        "\n",
        "Are there any other bases that will not fool the FLT test for $341$?\n",
        "\n",
        "Are there any pseudoprimes that will fool the FLT for **any choice** of base coprime to them?"
      ]
    },
    {
      "cell_type": "markdown",
      "metadata": {
        "id": "AMFTYECVTgy4"
      },
      "source": [
        "### The answer is yes."
      ]
    },
    {
      "cell_type": "markdown",
      "metadata": {
        "id": "u-CxbDylTkYp"
      },
      "source": [
        "Your task is the find the first 4-digit **bullet-proof pseudoprime** (**bppp**) and **prove** (yes, **PROVE**) that it will fool the FLT test for every base coprime to it.\n",
        "\n",
        "Your proof must use all of the following:\n",
        "1. the definition of coprime,\n",
        "2. a consequence of coprimality,\n",
        "3. the factorization of the **bppp**,\n",
        "4. FLT, and the\n",
        "5. CRT (Chinese Remainder Theorem).\n"
      ]
    },
    {
      "cell_type": "code",
      "metadata": {
        "id": "XY45OcLbV3_f",
        "colab": {
          "base_uri": "https://localhost:8080/"
        },
        "outputId": "d30e39af-5c2a-42f3-b47f-e2e24aad37d1"
      },
      "source": [
        "from math import gcd\r\n",
        "from sympy import isprime\r\n",
        "\r\n",
        "def passes_FLT_test_even_though_not_prime(b, n):\r\n",
        "  # primes don't count as pseudoprimes\r\n",
        "  return not isprime(n) and (b ** n) % n == b\r\n",
        "\r\n",
        "def is_bppp(n):\r\n",
        "  bases_coprime_to_n = [b for b in range(2, n) if gcd(b, n) == 1]\r\n",
        "  return all(list(map(lambda b: passes_FLT_test_even_though_not_prime(b, n), \r\n",
        "                      bases_coprime_to_n)))\r\n",
        "\r\n",
        "n = 1000\r\n",
        "while not is_bppp(n):\r\n",
        "  n += 1\r\n",
        "\r\n",
        "n"
      ],
      "execution_count": null,
      "outputs": [
        {
          "output_type": "execute_result",
          "data": {
            "text/plain": [
              "1105"
            ]
          },
          "metadata": {
            "tags": []
          },
          "execution_count": 4
        }
      ]
    },
    {
      "cell_type": "markdown",
      "metadata": {
        "id": "y65ie9OdWIHf"
      },
      "source": [
        "###Proof\r\n",
        "\r\n",
        "Fermat's Little Therom: $X^{N - 1} \\equiv_N 1$\r\n",
        "\r\n",
        "1. We know that 1105 is composite since it is the product of 5, 13 and 17.\r\n",
        "\r\n",
        "2. We know that two numbers are coprime of to each other if their GCD is 1.\r\n",
        "\r\n",
        "3. It is a consequence of coprimality that if a and b are comprime, then b is also coprime to the prime factors of a. In our case: gcd(1105, b) = gcd(5, b) = 1.\r\n",
        "\r\n",
        "4. We then apply Fermat's Little Therom:\r\n",
        "\r\n",
        "  $b^{5-1} = b^{4} \\equiv_5 1$\r\n",
        "\r\n",
        "  $b^{13-1} = b^{12} \\equiv_{13} 1$\r\n",
        "\r\n",
        "  $b^{17-1} = b^{16} \\equiv_{17} 1$\r\n",
        "\r\n",
        "5. Since we know that $b^{1104} \\equiv_1105\r\n",
        "1$, we know that the following are also true:\r\n",
        "  \r\n",
        "  $(b^4)^{276} = b^{1104} \\equiv_{5} 1$\r\n",
        "  \r\n",
        "  $(b^{12})^{92} = b^{1104} \\equiv_{13} 1$\r\n",
        "  \r\n",
        "  $(b^{16})^{69} = b^{1104} \\equiv_{17} 1$\r\n",
        "\r\n",
        "6. By the Chinese Remainder Therom:\r\n",
        "\r\n",
        "  $x \\equiv_p r$ and $x \\equiv_q r$ and $x \\equiv_s r$, then $x \\equiv_pqs r$\r\n",
        "\r\n",
        "7. Therefore 1105 foes fool Fermat's Little Therom for all possible 'b's coprime to it.\r\n",
        "\r\n",
        "8. QED"
      ]
    },
    {
      "cell_type": "markdown",
      "metadata": {
        "id": "dcwq2qgl-7nJ"
      },
      "source": [
        "$\\color{red}{\\text{Excellent work!}}$"
      ]
    },
    {
      "cell_type": "markdown",
      "metadata": {
        "id": "81dbKwHenxnT"
      },
      "source": [
        "# DONE My Report on What I Did and What I Learned"
      ]
    },
    {
      "cell_type": "markdown",
      "metadata": {
        "id": "C8BeiIern33B"
      },
      "source": [
        "## Fun\n",
        "This was a difficult assignment for me to get into. Once I did however, I was able to quickly begin enjoying my time. I love these kinds of assignments, the manipulation of numbers, as long as I feel I have some idea of direction I should be going."
      ]
    },
    {
      "cell_type": "markdown",
      "metadata": {
        "id": "OzOkZ3son-u9"
      },
      "source": [
        "## New\n",
        "As I haven't really worked with proofs before, this was a difficult task. It required me to consider the same problems I have been doing from a different perspective. For example, I have often worked with GCDs and primality in the past, it just took me some time to start looking at those same tools in this new light."
      ]
    },
    {
      "cell_type": "markdown",
      "metadata": {
        "id": "mJHvoj6GokaZ"
      },
      "source": [
        "## Meaningful\n",
        "My answer to this question is very similar to that of the previous. I explored proofs and became far more familiar with them. This is a part of logic that is not going to leave my life any time soon. Therefore, becoming more familar is significant and meaningful to me."
      ]
    },
    {
      "cell_type": "markdown",
      "metadata": {
        "id": "_RBE03fhpNUG"
      },
      "source": [
        "## Other\n",
        "Due to how timing worked out and the fact that I was very sick on Saturday and wasn't able to complete the assignment that day. I used many video and refreshers on Fermat's Little Theorom, number theroy, primality and more to help me work through this problem."
      ]
    },
    {
      "cell_type": "markdown",
      "metadata": {
        "id": "Nrk-8EmgW4NP"
      },
      "source": [
        "# DONE What is True?\n",
        "Click on each warranted checkbox to toggle it to True (or back to False). \n",
        "\n",
        "NOTE: *This only works in Colab. If you run it in some other Jupyter notebook client/server environment you may have to change False to True (or vice versa) manually.*\n",
        "\n",
        "This self-assessment is subject to revision by a grader."
      ]
    },
    {
      "cell_type": "code",
      "metadata": {
        "id": "qGAjzgVRXR4M"
      },
      "source": [
        "#@markdown ## What is True about what I did?\n",
        "#@markdown ### I had fun.\n",
        "cb00 = True #@param {type:'boolean'}\n",
        "#@markdown ### I learned something new.\n",
        "cb01 = True #@param {type:'boolean'}\n",
        "#@markdown ### I achieved something meaningful, or something I can build upon at a later time.\n",
        "cb02 = True #@param {type:'boolean'}\n",
        "#@markdown ## What is true about my report?\n",
        "#@markdown ### I wrote a sufficient number of well-written sentences.\n",
        "cb03 = True #@param {type:'boolean'}\n",
        "#@markdown ### My report is free of mechanical infelicities.\n",
        "cb04 = True #@param {type:'boolean'}\n",
        "#@markdown ### I used Grammarly (or something better described in my report) to check for MIs.\n",
        "cb05 = True #@param {type:'boolean'}\n",
        "#@markdown ### I reported on any connections I found between these problems and something I already know. \n",
        "cb06 = True #@param {type:'boolean'}\n",
        "#@markdown ### I reported who were and what contribution each of my collaborators made.\n",
        "cb07 = False #@param {type:'boolean'}\n",
        "#@markdown ## What is true about my proof?\n",
        "#@markdown ### It succinctly uses the definition of coprime.\n",
        "cb08 = True #@param {type:'boolean'}\n",
        "#@markdown ### It correctly uses the definition of coprime.\n",
        "cb09 = True #@param {type:'boolean'}\n",
        "#@markdown ### It succinctly uses a consequence of comprimality\n",
        "cb10 = True #@param {type:'boolean'}\n",
        "#@markdown ### It correctly uses a consequence of comprimality\n",
        "cb11 = True #@param {type:'boolean'}\n",
        "#@markdown ### It succinctly uses the factorization of the **bppp**,\n",
        "cb12 = True #@param {type:'boolean'}\n",
        "#@markdown ### It correctly uses the factorization of the **bppp**,\n",
        "cb13 = True #@param {type:'boolean'}\n",
        "#@markdown ### It succinctly uses Fermat's Little Theorem. \n",
        "cb14 = True #@param {type:'boolean'}\n",
        "#@markdown ### It correctly uses Fermat's Little Theorem. \n",
        "cb15 = True #@param {type:'boolean'}\n",
        "#@markdown ### It succinctly uses the Chinese Remainder Theorem.\n",
        "cb16 = True #@param {type:'boolean'}\n",
        "#@markdown ### It correctly uses the Chinese Remainder Theorem.\n",
        "cb17 = True #@param {type:'boolean'}\n",
        "\n"
      ],
      "execution_count": null,
      "outputs": []
    },
    {
      "cell_type": "markdown",
      "metadata": {
        "id": "ILpJDyQE_D5w"
      },
      "source": [
        "$\\color{red}{\\text{Forgot to mention who you worked/didn't work with!}}$"
      ]
    }
  ]
}