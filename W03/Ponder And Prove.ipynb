{
 "cells": [
  {
   "cell_type": "code",
   "execution_count": 7,
   "metadata": {},
   "outputs": [
    {
     "data": {
      "text/plain": [
       "[[2, 5, 9, 14, 20, 27, 35, 44, 54, 65],\n",
       " [1, 4, 8, 13, 19, 26, 34, 43, 53, 64],\n",
       " [3, 3, 7, 12, 18, 25, 33, 42, 52, 63],\n",
       " [6, 6, 6, 11, 17, 24, 32, 41, 51, 62],\n",
       " [10, 10, 10, 10, 16, 23, 31, 40, 50, 61],\n",
       " [15, 15, 15, 15, 15, 22, 30, 39, 49, 60],\n",
       " [21, 21, 21, 21, 21, 21, 29, 38, 48, 59],\n",
       " [28, 28, 28, 28, 28, 28, 28, 37, 47, 58],\n",
       " [36, 36, 36, 36, 36, 36, 36, 36, 46, 57],\n",
       " [45, 45, 45, 45, 45, 45, 45, 45, 45, 56]]"
      ]
     },
     "execution_count": 7,
     "metadata": {},
     "output_type": "execute_result"
    }
   ],
   "source": [
    "tri = lambda x: x * (x + 1) // 2\n",
    "c2 = lambda x,y: tri(x) + (0 if y < x else tri(y+2) - tri(x+1))\n",
    "c2alt = lambda x,y: sum(range(1,x+1)) + sum(range(x+2,y+2+1))\n",
    "\n",
    "def build_table(use_alt, show_all):\n",
    "  pfw = c2alt if use_alt else c2\n",
    "  pairings = []\n",
    "  for x in range(0,10):\n",
    "    paired = []\n",
    "    for y in range(0,10):\n",
    "      if show_all or y >= x:\n",
    "        paired.append(pfw(x, y))\n",
    "      else:\n",
    "        paired.append('-')\n",
    "    pairings.append(paired)\n",
    "  return pairings\n",
    "\n",
    "build_table(True, True)"
   ]
  },
  {
   "cell_type": "code",
   "execution_count": 4,
   "metadata": {},
   "outputs": [
    {
     "data": {
      "text/plain": [
       "[[0, 1, 3, 6, 10, 15, 21, 28, 36, 45],\n",
       " [2, 4, 7, 11, 16, 22, 29, 37, 46, 56],\n",
       " [5, 8, 12, 17, 23, 30, 38, 47, 57, 68],\n",
       " [9, 13, 18, 24, 31, 39, 48, 58, 69, 81],\n",
       " [14, 19, 25, 32, 40, 49, 59, 70, 82, 95],\n",
       " [20, 26, 33, 41, 50, 60, 71, 83, 96, 110],\n",
       " [27, 34, 42, 51, 61, 72, 84, 97, 111, 126],\n",
       " [35, 43, 52, 62, 73, 85, 98, 112, 127, 143],\n",
       " [44, 53, 63, 74, 86, 99, 113, 128, 144, 161],\n",
       " [54, 64, 75, 87, 100, 114, 129, 145, 162, 180]]"
      ]
     },
     "execution_count": 4,
     "metadata": {},
     "output_type": "execute_result"
    }
   ],
   "source": [
    "g = lambda x, y: int(0.5 * (((x + y) ** 2) + (3 * x) + y))\n",
    "\n",
    "def build_table(use_alt, show_all):\n",
    "  pfw = g\n",
    "  pairings = []\n",
    "  for x in range(0,10):\n",
    "    paired = []\n",
    "    for y in range(0,10):\n",
    "      if show_all or y >= x:\n",
    "        paired.append(pfw(x, y))\n",
    "      else:\n",
    "        paired.append('-')\n",
    "    pairings.append(paired)\n",
    "  return pairings\n",
    "\n",
    "build_table(True, True)"
   ]
  },
  {
   "cell_type": "code",
   "execution_count": 10,
   "metadata": {},
   "outputs": [
    {
     "data": {
      "text/plain": [
       "[[1, 2, 4, 7, 11, 16, 22, 29, 37],\n",
       " [3, 5, 8, 12, 17, 23, 30, 38, 47],\n",
       " [6, 9, 13, 18, 24, 31, 39, 48, 58],\n",
       " [10, 14, 19, 25, 32, 40, 49, 59, 70],\n",
       " [15, 20, 26, 33, 41, 50, 60, 71, 83],\n",
       " [21, 27, 34, 42, 51, 61, 72, 84, 97],\n",
       " [28, 35, 43, 52, 62, 73, 85, 98, 112],\n",
       " [36, 44, 53, 63, 74, 86, 99, 113, 128],\n",
       " [45, 54, 64, 75, 87, 100, 114, 129, 145]]"
      ]
     },
     "execution_count": 10,
     "metadata": {},
     "output_type": "execute_result"
    }
   ],
   "source": [
    "f = lambda m, n: ((((m + n) - 2) * ((m + n) - 1)) // 2) + m\n",
    "\n",
    "def build_table(use_alt, show_all):\n",
    "  pfw = f\n",
    "  pairings = []\n",
    "  for x in range(1,10):\n",
    "    paired = []\n",
    "    for y in range(1,10):\n",
    "      if show_all or y >= x:\n",
    "        paired.append(pfw(x, y))\n",
    "      else:\n",
    "        paired.append('-')\n",
    "    pairings.append(paired)\n",
    "  return pairings\n",
    "\n",
    "build_table(True, True)"
   ]
  },
  {
   "cell_type": "code",
   "execution_count": null,
   "metadata": {},
   "outputs": [],
   "source": []
  }
 ],
 "metadata": {
  "kernelspec": {
   "display_name": "Python 3",
   "language": "python",
   "name": "python3"
  },
  "language_info": {
   "codemirror_mode": {
    "name": "ipython",
    "version": 3
   },
   "file_extension": ".py",
   "mimetype": "text/x-python",
   "name": "python",
   "nbconvert_exporter": "python",
   "pygments_lexer": "ipython3",
   "version": "3.9.1"
  }
 },
 "nbformat": 4,
 "nbformat_minor": 4
}
