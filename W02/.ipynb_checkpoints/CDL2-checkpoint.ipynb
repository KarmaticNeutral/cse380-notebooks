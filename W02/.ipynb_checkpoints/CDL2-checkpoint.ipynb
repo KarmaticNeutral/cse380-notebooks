{
 "cells": [
  {
   "cell_type": "code",
   "execution_count": 2,
   "metadata": {},
   "outputs": [],
   "source": [
    "def f(m, n):\n",
    "    x = m + n \n",
    "    return (((x - 2) * (x - 1)) // 2) + m"
   ]
  },
  {
   "cell_type": "code",
   "execution_count": 3,
   "metadata": {},
   "outputs": [
    {
     "data": {
      "text/plain": [
       "4"
      ]
     },
     "execution_count": 3,
     "metadata": {},
     "output_type": "execute_result"
    }
   ],
   "source": [
    "f(1, 3)"
   ]
  },
  {
   "cell_type": "code",
   "execution_count": 22,
   "metadata": {},
   "outputs": [],
   "source": [
    "import math\n",
    "def f_inverse(y):\n",
    "    x = math.ceil((math.sqrt(8 * y + 1) + 3) / 2) - 1\n",
    "    m = y - ((x - 2) * (x - 1)) // 2\n",
    "    n = x - m\n",
    "    return m, n"
   ]
  },
  {
   "cell_type": "markdown",
   "metadata": {},
   "source": [
    "$y = \\frac{(x - 2) * (x - 1)}{2} + m$\n",
    "\n",
    "$y = \\frac{x^2 - 3x + 2}{2} + m$\n",
    "\n",
    "$0 = \\frac{x^2 - 3x + 2}{2} + m - y$\n",
    "\n",
    "$0 = x^2 - 3x + 2 + 2m - 2y$\n",
    "\n",
    "$a = x^2$\n",
    "$b = -3x$\n",
    "$c = 2(m - y + 1)$\n",
    "\n",
    "$x = \\frac{3\\pm \\sqrt{9 - 8(m - y + 1)}}{2}$\n",
    "\n",
    "$x = \\frac{3\\pm \\sqrt{8y - 8m + 1}}{2}$\n",
    "\n",
    "$x = \\frac{\\sqrt{8y + 1} + 3}{2}$"
   ]
  },
  {
   "cell_type": "code",
   "execution_count": 24,
   "metadata": {},
   "outputs": [
    {
     "data": {
      "text/plain": [
       "(2, 6)"
      ]
     },
     "execution_count": 24,
     "metadata": {},
     "output_type": "execute_result"
    }
   ],
   "source": [
    "f_inverse(23)"
   ]
  },
  {
   "cell_type": "code",
   "execution_count": 25,
   "metadata": {},
   "outputs": [
    {
     "data": {
      "text/plain": [
       "(1, 6)"
      ]
     },
     "execution_count": 25,
     "metadata": {},
     "output_type": "execute_result"
    }
   ],
   "source": [
    "f_inverse(16)"
   ]
  }
 ],
 "metadata": {
  "kernelspec": {
   "display_name": "Python 3",
   "language": "python",
   "name": "python3"
  },
  "language_info": {
   "codemirror_mode": {
    "name": "ipython",
    "version": 3
   },
   "file_extension": ".py",
   "mimetype": "text/x-python",
   "name": "python",
   "nbconvert_exporter": "python",
   "pygments_lexer": "ipython3",
   "version": "3.9.1"
  }
 },
 "nbformat": 4,
 "nbformat_minor": 4
}
