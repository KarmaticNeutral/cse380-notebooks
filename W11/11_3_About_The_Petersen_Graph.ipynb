{
  "nbformat": 4,
  "nbformat_minor": 0,
  "metadata": {
    "colab": {
      "name": "11_3_About_The_Petersen_Graph.ipynb",
      "provenance": [],
      "include_colab_link": true
    },
    "kernelspec": {
      "name": "python3",
      "display_name": "Python 3"
    }
  },
  "cells": [
    {
      "cell_type": "markdown",
      "metadata": {
        "id": "view-in-github",
        "colab_type": "text"
      },
      "source": [
        "<a href=\"https://colab.research.google.com/github/KarmaticNeutral/cse380-notebooks/blob/master/11_3_About_The_Petersen_Graph.ipynb\" target=\"_parent\"><img src=\"https://colab.research.google.com/assets/colab-badge.svg\" alt=\"Open In Colab\"/></a>"
      ]
    },
    {
      "cell_type": "markdown",
      "metadata": {
        "id": "0lYSr_8JNUpQ"
      },
      "source": [
        "# About The Petersen Graph\n",
        "## Class Directed Learning\n",
        "### Due: Tuesday, 16 March 2021, 11:59 pm\n",
        "### Collaborators: Matthew Reed, Claire Hocker"
      ]
    },
    {
      "cell_type": "markdown",
      "metadata": {
        "id": "0PuwZHqzNfTa"
      },
      "source": [
        "## TODO Explore and Wonder"
      ]
    },
    {
      "cell_type": "markdown",
      "metadata": {
        "id": "Gsu1FnbuNptP"
      },
      "source": [
        "The Petersen graph is described as the complement of the line graph of $K_5$.\n",
        "\n",
        "Draw each step of this construction using any graph-drawing tools in your toolbox.\n",
        "\n",
        "Teach one another how to use the tools you each have."
      ]
    },
    {
      "cell_type": "code",
      "metadata": {
        "id": "gcy3VqgM95ZI",
        "outputId": "9c0baeb9-c536-42bc-d5e0-d1e2a243b7d2",
        "colab": {
          "base_uri": "https://localhost:8080/"
        }
      },
      "source": [
        "!pip install graphviz"
      ],
      "execution_count": 7,
      "outputs": [
        {
          "output_type": "stream",
          "text": [
            "Requirement already satisfied: graphviz in /usr/local/lib/python3.7/dist-packages (0.10.1)\n"
          ],
          "name": "stdout"
        }
      ]
    },
    {
      "cell_type": "code",
      "metadata": {
        "id": "u8O1CfFp69Pr"
      },
      "source": [
        "from graphviz import Graph\r\n",
        "from IPython.display import SVG, display"
      ],
      "execution_count": 8,
      "outputs": []
    },
    {
      "cell_type": "code",
      "metadata": {
        "id": "SPYodcEf7D4Z"
      },
      "source": [
        "nodes = ['a', 'b', 'c', 'd', 'e', 'f', 'g', 'h', 'i', 'j']\r\n",
        "links = [\r\n",
        "    ('a', 'b'),\r\n",
        "    ('b', 'c'),\r\n",
        "    ('c', 'd'),\r\n",
        "    ('d', 'e'),\r\n",
        "    ('e', 'a'),\r\n",
        "    ('a', 'f'),\r\n",
        "    ('b', 'g'),\r\n",
        "    ('c', 'h'),\r\n",
        "    ('d', 'i'),\r\n",
        "    ('e', 'j'),\r\n",
        "    ('j', 'h'),\r\n",
        "    ('i', 'g'),\r\n",
        "    ('g', 'j'),\r\n",
        "    ('i', 'f'),\r\n",
        "    ('f', 'h')\r\n",
        "]"
      ],
      "execution_count": 12,
      "outputs": []
    },
    {
      "cell_type": "code",
      "metadata": {
        "id": "v8Lm9btV7OqO",
        "outputId": "5b8381cc-c4ee-49a7-d4c2-782ddb4b02d7",
        "colab": {
          "base_uri": "https://localhost:8080/",
          "height": 587
        }
      },
      "source": [
        "dot = Graph(format = 'svg')\r\n",
        "dot.engine = \"circo\"\r\n",
        "\r\n",
        "[*map(lambda n: dot.node(str(n)), nodes)]\r\n",
        "[*map(lambda l: dot.edge(str(l[0]), str(l[1])), links)]\r\n",
        "\r\n",
        "dot.render('test-output/graph')\r\n",
        "display(SVG('test-output/graph.svg'))"
      ],
      "execution_count": 17,
      "outputs": [
        {
          "output_type": "display_data",
          "data": {
            "text/plain": [
              "<IPython.core.display.SVG object>"
            ],
            "image/svg+xml": "<svg height=\"425pt\" viewBox=\"0.00 0.00 463.07 425.44\" width=\"463pt\" xmlns=\"http://www.w3.org/2000/svg\" xmlns:xlink=\"http://www.w3.org/1999/xlink\">\n<g class=\"graph\" id=\"graph0\" transform=\"scale(1 1) rotate(0) translate(4 421.4407)\">\n<title>%3</title>\n<polygon fill=\"#ffffff\" points=\"-4,4 -4,-421.4407 459.0705,-421.4407 459.0705,4 -4,4\" stroke=\"transparent\"/>\n<!-- a -->\n<g class=\"node\" id=\"node1\">\n<title>a</title>\n<ellipse cx=\"389.7716\" cy=\"-90.8487\" fill=\"none\" rx=\"27\" ry=\"18\" stroke=\"#000000\"/>\n<text fill=\"#000000\" font-family=\"Times,serif\" font-size=\"14.00\" text-anchor=\"middle\" x=\"389.7716\" y=\"-87.1487\">a</text>\n</g>\n<!-- b -->\n<g class=\"node\" id=\"node2\">\n<title>b</title>\n<ellipse cx=\"289.504\" cy=\"-18\" fill=\"none\" rx=\"27\" ry=\"18\" stroke=\"#000000\"/>\n<text fill=\"#000000\" font-family=\"Times,serif\" font-size=\"14.00\" text-anchor=\"middle\" x=\"289.504\" y=\"-14.3\">b</text>\n</g>\n<!-- a&#45;&#45;b -->\n<g class=\"edge\" id=\"edge1\">\n<title>a--b</title>\n<path d=\"M371.381,-77.4871C353.2895,-64.3429 325.8292,-44.3918 307.7781,-31.2769\" fill=\"none\" stroke=\"#000000\"/>\n</g>\n<!-- f -->\n<g class=\"node\" id=\"node6\">\n<title>f</title>\n<ellipse cx=\"428.0705\" cy=\"-208.7203\" fill=\"none\" rx=\"27\" ry=\"18\" stroke=\"#000000\"/>\n<text fill=\"#000000\" font-family=\"Times,serif\" font-size=\"14.00\" text-anchor=\"middle\" x=\"428.0705\" y=\"-205.0203\">f</text>\n</g>\n<!-- a&#45;&#45;f -->\n<g class=\"edge\" id=\"edge6\">\n<title>a--f</title>\n<path d=\"M395.5054,-108.4953C402.7255,-130.7165 415.059,-168.6751 422.2975,-190.9531\" fill=\"none\" stroke=\"#000000\"/>\n</g>\n<!-- c -->\n<g class=\"node\" id=\"node3\">\n<title>c</title>\n<ellipse cx=\"165.5664\" cy=\"-18\" fill=\"none\" rx=\"27\" ry=\"18\" stroke=\"#000000\"/>\n<text fill=\"#000000\" font-family=\"Times,serif\" font-size=\"14.00\" text-anchor=\"middle\" x=\"165.5664\" y=\"-14.3\">c</text>\n</g>\n<!-- b&#45;&#45;c -->\n<g class=\"edge\" id=\"edge2\">\n<title>b--c</title>\n<path d=\"M262.3054,-18C241.6412,-18 213.3502,-18 192.7016,-18\" fill=\"none\" stroke=\"#000000\"/>\n</g>\n<!-- g -->\n<g class=\"node\" id=\"node7\">\n<title>g</title>\n<ellipse cx=\"165.5664\" cy=\"-399.4407\" fill=\"none\" rx=\"27\" ry=\"18\" stroke=\"#000000\"/>\n<text fill=\"#000000\" font-family=\"Times,serif\" font-size=\"14.00\" text-anchor=\"middle\" x=\"165.5664\" y=\"-395.7407\">g</text>\n</g>\n<!-- b&#45;&#45;g -->\n<g class=\"edge\" id=\"edge7\">\n<title>b--g</title>\n<path d=\"M283.7748,-35.6327C263.0658,-99.3685 192.2189,-317.4129 171.3778,-381.5551\" fill=\"none\" stroke=\"#000000\"/>\n</g>\n<!-- d -->\n<g class=\"node\" id=\"node4\">\n<title>d</title>\n<ellipse cx=\"65.2988\" cy=\"-90.8487\" fill=\"none\" rx=\"27\" ry=\"18\" stroke=\"#000000\"/>\n<text fill=\"#000000\" font-family=\"Times,serif\" font-size=\"14.00\" text-anchor=\"middle\" x=\"65.2988\" y=\"-87.1487\">d</text>\n</g>\n<!-- c&#45;&#45;d -->\n<g class=\"edge\" id=\"edge3\">\n<title>c--d</title>\n<path d=\"M147.1758,-31.3616C129.0843,-44.5058 101.624,-64.4569 83.5729,-77.5718\" fill=\"none\" stroke=\"#000000\"/>\n</g>\n<!-- h -->\n<g class=\"node\" id=\"node8\">\n<title>h</title>\n<ellipse cx=\"389.7716\" cy=\"-326.592\" fill=\"none\" rx=\"27\" ry=\"18\" stroke=\"#000000\"/>\n<text fill=\"#000000\" font-family=\"Times,serif\" font-size=\"14.00\" text-anchor=\"middle\" x=\"389.7716\" y=\"-322.892\">h</text>\n</g>\n<!-- c&#45;&#45;h -->\n<g class=\"edge\" id=\"edge8\">\n<title>c--h</title>\n<path d=\"M177.6207,-34.5912C216.641,-88.2981 339.2147,-257.0063 377.9299,-310.2932\" fill=\"none\" stroke=\"#000000\"/>\n</g>\n<!-- e -->\n<g class=\"node\" id=\"node5\">\n<title>e</title>\n<ellipse cx=\"27\" cy=\"-208.7203\" fill=\"none\" rx=\"27\" ry=\"18\" stroke=\"#000000\"/>\n<text fill=\"#000000\" font-family=\"Times,serif\" font-size=\"14.00\" text-anchor=\"middle\" x=\"27\" y=\"-205.0203\">e</text>\n</g>\n<!-- d&#45;&#45;e -->\n<g class=\"edge\" id=\"edge4\">\n<title>d--e</title>\n<path d=\"M59.5651,-108.4953C52.345,-130.7165 40.0115,-168.6751 32.7729,-190.9531\" fill=\"none\" stroke=\"#000000\"/>\n</g>\n<!-- i -->\n<g class=\"node\" id=\"node9\">\n<title>i</title>\n<ellipse cx=\"289.504\" cy=\"-399.4407\" fill=\"none\" rx=\"27\" ry=\"18\" stroke=\"#000000\"/>\n<text fill=\"#000000\" font-family=\"Times,serif\" font-size=\"14.00\" text-anchor=\"middle\" x=\"289.504\" y=\"-395.7407\">i</text>\n</g>\n<!-- d&#45;&#45;i -->\n<g class=\"edge\" id=\"edge9\">\n<title>d--i</title>\n<path d=\"M77.3531,-107.4399C116.3734,-161.1468 238.947,-329.855 277.6623,-383.1419\" fill=\"none\" stroke=\"#000000\"/>\n</g>\n<!-- e&#45;&#45;a -->\n<g class=\"edge\" id=\"edge5\">\n<title>e--a</title>\n<path d=\"M51.3658,-200.8034C117.294,-179.382 298.6744,-120.448 365.0342,-98.8864\" fill=\"none\" stroke=\"#000000\"/>\n</g>\n<!-- j -->\n<g class=\"node\" id=\"node10\">\n<title>j</title>\n<ellipse cx=\"65.2988\" cy=\"-326.592\" fill=\"none\" rx=\"27\" ry=\"18\" stroke=\"#000000\"/>\n<text fill=\"#000000\" font-family=\"Times,serif\" font-size=\"14.00\" text-anchor=\"middle\" x=\"65.2988\" y=\"-322.892\">j</text>\n</g>\n<!-- e&#45;&#45;j -->\n<g class=\"edge\" id=\"edge10\">\n<title>e--j</title>\n<path d=\"M32.7337,-226.3669C39.9538,-248.5881 52.2873,-286.5468 59.5259,-308.8248\" fill=\"none\" stroke=\"#000000\"/>\n</g>\n<!-- f&#45;&#45;h -->\n<g class=\"edge\" id=\"edge15\">\n<title>f--h</title>\n<path d=\"M422.3367,-226.3669C415.1166,-248.5881 402.7831,-286.5468 395.5446,-308.8248\" fill=\"none\" stroke=\"#000000\"/>\n</g>\n<!-- g&#45;&#45;j -->\n<g class=\"edge\" id=\"edge13\">\n<title>g--j</title>\n<path d=\"M147.1758,-386.0791C129.0843,-372.9349 101.624,-352.9838 83.5729,-339.8689\" fill=\"none\" stroke=\"#000000\"/>\n</g>\n<!-- i&#45;&#45;f -->\n<g class=\"edge\" id=\"edge14\">\n<title>i--f</title>\n<path d=\"M301.3181,-383.18C327.4972,-347.1475 390.135,-260.9341 416.2863,-224.9399\" fill=\"none\" stroke=\"#000000\"/>\n</g>\n<!-- i&#45;&#45;g -->\n<g class=\"edge\" id=\"edge12\">\n<title>i--g</title>\n<path d=\"M262.3054,-399.4407C241.6412,-399.4407 213.3502,-399.4407 192.7016,-399.4407\" fill=\"none\" stroke=\"#000000\"/>\n</g>\n<!-- j&#45;&#45;h -->\n<g class=\"edge\" id=\"edge11\">\n<title>j--h</title>\n<path d=\"M92.4051,-326.592C153.4822,-326.592 301.2945,-326.592 362.5143,-326.592\" fill=\"none\" stroke=\"#000000\"/>\n</g>\n</g>\n</svg>"
          },
          "metadata": {
            "tags": []
          }
        }
      ]
    },
    {
      "cell_type": "code",
      "metadata": {
        "colab": {
          "base_uri": "https://localhost:8080/",
          "height": 464
        },
        "id": "IzvfZMnb9nlf",
        "outputId": "e2a07251-f3a7-4167-f018-112fc576c643"
      },
      "source": [
        "from graphviz import Graph, Source\r\n",
        "\r\n",
        "g = Source(\"\"\"graph {\r\n",
        "    {rank = same; 0; a;}\r\n",
        "    {rank = same; 1; b; gap1; f; gap2; e;}\r\n",
        "    {rank = same; 2; g; j;}\r\n",
        "    {rank = same; 3; h; i;}\r\n",
        "    {rank = same; 4; c; d;}\r\n",
        "\r\n",
        "   \r\n",
        "    0 [label = \"_\", style = invis]\r\n",
        "    1 [label = \"_\", style = invis]\r\n",
        "    2 [label = \"_\", style = invis]\r\n",
        "    3 [label = \"_\", style = invis]\r\n",
        "    4 [label = \"_\", style = invis]\r\n",
        "    0 -- 1 -- 2 -- 3 -- 4 [style = invis]\r\n",
        "\r\n",
        "    gap1 [label = \"_\", style = invis]\r\n",
        "    gap2 [label = \"_\", style = invis]\r\n",
        "\r\n",
        "    b -- gap1 [style = invis]\r\n",
        "    gap1 -- f [style = invis]\r\n",
        "    f -- gap2 [style = invis]\r\n",
        "    gap2 -- e [style = invis]\r\n",
        "\r\n",
        "    a -- b\r\n",
        "    b -- c\r\n",
        "    c -- d\r\n",
        "    d -- e\r\n",
        "    e -- a\r\n",
        "\r\n",
        "    a -- f\r\n",
        "    b -- g\r\n",
        "    c -- h\r\n",
        "    d -- i\r\n",
        "    e -- j\r\n",
        "\r\n",
        "    j -- h\r\n",
        "    i -- g\r\n",
        "    g -- j\r\n",
        "    f -- h\r\n",
        "    i -- f\r\n",
        "\r\n",
        "    h -- i [style = invis]\r\n",
        "}\"\"\")\r\n",
        "g"
      ],
      "execution_count": 73,
      "outputs": [
        {
          "output_type": "execute_result",
          "data": {
            "text/plain": [
              "<graphviz.files.Source at 0x7efd8602c310>"
            ],
            "image/svg+xml": "<?xml version=\"1.0\" encoding=\"UTF-8\" standalone=\"no\"?>\n<!DOCTYPE svg PUBLIC \"-//W3C//DTD SVG 1.1//EN\"\n \"http://www.w3.org/Graphics/SVG/1.1/DTD/svg11.dtd\">\n<!-- Generated by graphviz version 2.40.1 (20161225.0304)\n -->\n<!-- Title: %3 Pages: 1 -->\n<svg width=\"422pt\" height=\"332pt\"\n viewBox=\"0.00 0.00 422.00 332.00\" xmlns=\"http://www.w3.org/2000/svg\" xmlns:xlink=\"http://www.w3.org/1999/xlink\">\n<g id=\"graph0\" class=\"graph\" transform=\"scale(1 1) rotate(0) translate(4 328)\">\n<title>%3</title>\n<polygon fill=\"#ffffff\" stroke=\"transparent\" points=\"-4,4 -4,-328 418,-328 418,4 -4,4\"/>\n<!-- 0 -->\n<!-- 1 -->\n<!-- 0&#45;&#45;1 -->\n<!-- a -->\n<g id=\"node2\" class=\"node\">\n<title>a</title>\n<ellipse fill=\"none\" stroke=\"#000000\" cx=\"243\" cy=\"-306\" rx=\"27\" ry=\"18\"/>\n<text text-anchor=\"middle\" x=\"243\" y=\"-302.3\" font-family=\"Times,serif\" font-size=\"14.00\" fill=\"#000000\">a</text>\n</g>\n<!-- b -->\n<g id=\"node4\" class=\"node\">\n<title>b</title>\n<ellipse fill=\"none\" stroke=\"#000000\" cx=\"99\" cy=\"-234\" rx=\"27\" ry=\"18\"/>\n<text text-anchor=\"middle\" x=\"99\" y=\"-230.3\" font-family=\"Times,serif\" font-size=\"14.00\" fill=\"#000000\">b</text>\n</g>\n<!-- a&#45;&#45;b -->\n<g id=\"edge9\" class=\"edge\">\n<title>a&#45;&#45;b</title>\n<path fill=\"none\" stroke=\"#000000\" d=\"M221.1295,-295.0647C193.9066,-281.4533 147.703,-258.3515 120.6045,-244.8022\"/>\n</g>\n<!-- f -->\n<g id=\"node6\" class=\"node\">\n<title>f</title>\n<ellipse fill=\"none\" stroke=\"#000000\" cx=\"243\" cy=\"-234\" rx=\"27\" ry=\"18\"/>\n<text text-anchor=\"middle\" x=\"243\" y=\"-230.3\" font-family=\"Times,serif\" font-size=\"14.00\" fill=\"#000000\">f</text>\n</g>\n<!-- a&#45;&#45;f -->\n<g id=\"edge14\" class=\"edge\">\n<title>a&#45;&#45;f</title>\n<path fill=\"none\" stroke=\"#000000\" d=\"M243,-287.8314C243,-277 243,-263.2876 243,-252.4133\"/>\n</g>\n<!-- 2 -->\n<!-- 1&#45;&#45;2 -->\n<!-- gap1 -->\n<!-- b&#45;&#45;gap1 -->\n<!-- g -->\n<g id=\"node10\" class=\"node\">\n<title>g</title>\n<ellipse fill=\"none\" stroke=\"#000000\" cx=\"176\" cy=\"-162\" rx=\"27\" ry=\"18\"/>\n<text text-anchor=\"middle\" x=\"176\" y=\"-158.3\" font-family=\"Times,serif\" font-size=\"14.00\" fill=\"#000000\">g</text>\n</g>\n<!-- b&#45;&#45;g -->\n<g id=\"edge15\" class=\"edge\">\n<title>b&#45;&#45;g</title>\n<path fill=\"none\" stroke=\"#000000\" d=\"M114.9544,-219.0816C128.1696,-206.7246 146.8565,-189.251 160.066,-176.8993\"/>\n</g>\n<!-- c -->\n<g id=\"node16\" class=\"node\">\n<title>c</title>\n<ellipse fill=\"none\" stroke=\"#000000\" cx=\"214\" cy=\"-18\" rx=\"27\" ry=\"18\"/>\n<text text-anchor=\"middle\" x=\"214\" y=\"-14.3\" font-family=\"Times,serif\" font-size=\"14.00\" fill=\"#000000\">c</text>\n</g>\n<!-- b&#45;&#45;c -->\n<g id=\"edge10\" class=\"edge\">\n<title>b&#45;&#45;c</title>\n<path fill=\"none\" stroke=\"#000000\" d=\"M106.3929,-216.4822C119.4126,-186.2237 147.9159,-122.5526 178,-72 185.606,-59.2191 194.9396,-45.2615 202.197,-34.7388\"/>\n</g>\n<!-- gap1&#45;&#45;f -->\n<!-- gap2 -->\n<!-- f&#45;&#45;gap2 -->\n<!-- h -->\n<g id=\"node13\" class=\"node\">\n<title>h</title>\n<ellipse fill=\"none\" stroke=\"#000000\" cx=\"214\" cy=\"-90\" rx=\"27\" ry=\"18\"/>\n<text text-anchor=\"middle\" x=\"214\" y=\"-86.3\" font-family=\"Times,serif\" font-size=\"14.00\" fill=\"#000000\">h</text>\n</g>\n<!-- f&#45;&#45;h -->\n<g id=\"edge22\" class=\"edge\">\n<title>f&#45;&#45;h</title>\n<path fill=\"none\" stroke=\"#000000\" d=\"M239.3858,-216.0535C233.8286,-188.4592 223.2443,-135.9026 217.6598,-108.1727\"/>\n</g>\n<!-- e -->\n<g id=\"node8\" class=\"node\">\n<title>e</title>\n<ellipse fill=\"none\" stroke=\"#000000\" cx=\"387\" cy=\"-234\" rx=\"27\" ry=\"18\"/>\n<text text-anchor=\"middle\" x=\"387\" y=\"-230.3\" font-family=\"Times,serif\" font-size=\"14.00\" fill=\"#000000\">e</text>\n</g>\n<!-- gap2&#45;&#45;e -->\n<!-- e&#45;&#45;a -->\n<g id=\"edge13\" class=\"edge\">\n<title>e&#45;&#45;a</title>\n<path fill=\"none\" stroke=\"#000000\" d=\"M365.3955,-244.8022C338.297,-258.3515 292.0934,-281.4533 264.8705,-295.0647\"/>\n</g>\n<!-- j -->\n<g id=\"node11\" class=\"node\">\n<title>j</title>\n<ellipse fill=\"none\" stroke=\"#000000\" cx=\"324\" cy=\"-162\" rx=\"27\" ry=\"18\"/>\n<text text-anchor=\"middle\" x=\"324\" y=\"-158.3\" font-family=\"Times,serif\" font-size=\"14.00\" fill=\"#000000\">j</text>\n</g>\n<!-- e&#45;&#45;j -->\n<g id=\"edge18\" class=\"edge\">\n<title>e&#45;&#45;j</title>\n<path fill=\"none\" stroke=\"#000000\" d=\"M373.3299,-218.3771C362.7627,-206.3003 348.2039,-189.6616 337.6434,-177.5924\"/>\n</g>\n<!-- 3 -->\n<!-- 2&#45;&#45;3 -->\n<!-- g&#45;&#45;j -->\n<g id=\"edge21\" class=\"edge\">\n<title>g&#45;&#45;j</title>\n<path fill=\"none\" stroke=\"#000000\" d=\"M203.1719,-162C234.3229,-162 265.4739,-162 296.6249,-162\"/>\n</g>\n<!-- j&#45;&#45;h -->\n<g id=\"edge19\" class=\"edge\">\n<title>j&#45;&#45;h</title>\n<path fill=\"none\" stroke=\"#000000\" d=\"M304.5874,-149.2936C284.6039,-136.2135 253.6362,-115.9437 233.5885,-102.8216\"/>\n</g>\n<!-- 4 -->\n<!-- 3&#45;&#45;4 -->\n<!-- i -->\n<g id=\"node14\" class=\"node\">\n<title>i</title>\n<ellipse fill=\"none\" stroke=\"#000000\" cx=\"286\" cy=\"-90\" rx=\"27\" ry=\"18\"/>\n<text text-anchor=\"middle\" x=\"286\" y=\"-86.3\" font-family=\"Times,serif\" font-size=\"14.00\" fill=\"#000000\">i</text>\n</g>\n<!-- h&#45;&#45;i -->\n<!-- i&#45;&#45;f -->\n<g id=\"edge23\" class=\"edge\">\n<title>i&#45;&#45;f</title>\n<path fill=\"none\" stroke=\"#000000\" d=\"M280.6842,-107.8017C272.4049,-135.5278 256.5255,-188.7053 248.2726,-216.3428\"/>\n</g>\n<!-- i&#45;&#45;g -->\n<g id=\"edge20\" class=\"edge\">\n<title>i&#45;&#45;g</title>\n<path fill=\"none\" stroke=\"#000000\" d=\"M266.4115,-102.8216C246.3638,-115.9437 215.3961,-136.2135 195.4126,-149.2936\"/>\n</g>\n<!-- c&#45;&#45;h -->\n<g id=\"edge16\" class=\"edge\">\n<title>c&#45;&#45;h</title>\n<path fill=\"none\" stroke=\"#000000\" d=\"M214,-36.4133C214,-47.2876 214,-61 214,-71.8314\"/>\n</g>\n<!-- d -->\n<g id=\"node17\" class=\"node\">\n<title>d</title>\n<ellipse fill=\"none\" stroke=\"#000000\" cx=\"286\" cy=\"-18\" rx=\"27\" ry=\"18\"/>\n<text text-anchor=\"middle\" x=\"286\" y=\"-14.3\" font-family=\"Times,serif\" font-size=\"14.00\" fill=\"#000000\">d</text>\n</g>\n<!-- c&#45;&#45;d -->\n<g id=\"edge11\" class=\"edge\">\n<title>c&#45;&#45;d</title>\n<path fill=\"none\" stroke=\"#000000\" d=\"M241,-18C246.9766,-18 252.9531,-18 258.9297,-18\"/>\n</g>\n<!-- d&#45;&#45;e -->\n<g id=\"edge12\" class=\"edge\">\n<title>d&#45;&#45;e</title>\n<path fill=\"none\" stroke=\"#000000\" d=\"M297.803,-34.7388C305.0604,-45.2615 314.394,-59.2191 322,-72 340.5041,-103.0939 346.2924,-110.5136 360,-144 369.9497,-168.3063 378.0637,-197.6369 382.7156,-216.0585\"/>\n</g>\n<!-- d&#45;&#45;i -->\n<g id=\"edge17\" class=\"edge\">\n<title>d&#45;&#45;i</title>\n<path fill=\"none\" stroke=\"#000000\" d=\"M286,-36.4133C286,-47.2876 286,-61 286,-71.8314\"/>\n</g>\n</g>\n</svg>\n"
          },
          "metadata": {
            "tags": []
          },
          "execution_count": 73
        }
      ]
    },
    {
      "cell_type": "code",
      "metadata": {
        "id": "VuavAf4FBpsq",
        "outputId": "eb7704af-c5fc-45a7-81ad-22fd867637db",
        "colab": {
          "base_uri": "https://localhost:8080/",
          "height": 271
        }
      },
      "source": [
        "g2 = Source(\"\"\"graph {\r\n",
        "    {rank = same; 1; f}\r\n",
        "    {rank = same; 2; g; j; gap1;}\r\n",
        "    {rank = same; 3; h; i;}\r\n",
        "    \r\n",
        "    1 [label = \"_\", style = invis]\r\n",
        "    2 [label = \"_\", style = invis]\r\n",
        "    3 [label = \"_\", style = invis]\r\n",
        "    1 -- 2 -- 3 [style = invis]\r\n",
        "\r\n",
        "    gap1 [style = invis]\r\n",
        "\r\n",
        "    g -- f [style = invis]\r\n",
        "    g -- gap1 [style = invis]\r\n",
        "    gap1 -- j [style = invis]\r\n",
        "\r\n",
        "    j -- h\r\n",
        "    i -- g\r\n",
        "    g -- j\r\n",
        "    f -- h\r\n",
        "    i -- f\r\n",
        "}\"\"\")\r\n",
        "g2"
      ],
      "execution_count": 82,
      "outputs": [
        {
          "output_type": "execute_result",
          "data": {
            "text/plain": [
              "<graphviz.files.Source at 0x7efd8604f9d0>"
            ],
            "image/svg+xml": "<?xml version=\"1.0\" encoding=\"UTF-8\" standalone=\"no\"?>\n<!DOCTYPE svg PUBLIC \"-//W3C//DTD SVG 1.1//EN\"\n \"http://www.w3.org/Graphics/SVG/1.1/DTD/svg11.dtd\">\n<!-- Generated by graphviz version 2.40.1 (20161225.0304)\n -->\n<!-- Title: %3 Pages: 1 -->\n<svg width=\"358pt\" height=\"188pt\"\n viewBox=\"0.00 0.00 358.00 188.00\" xmlns=\"http://www.w3.org/2000/svg\" xmlns:xlink=\"http://www.w3.org/1999/xlink\">\n<g id=\"graph0\" class=\"graph\" transform=\"scale(1 1) rotate(0) translate(4 184)\">\n<title>%3</title>\n<polygon fill=\"#ffffff\" stroke=\"transparent\" points=\"-4,4 -4,-184 354,-184 354,4 -4,4\"/>\n<!-- 1 -->\n<!-- 2 -->\n<!-- 1&#45;&#45;2 -->\n<!-- f -->\n<g id=\"node2\" class=\"node\">\n<title>f</title>\n<ellipse fill=\"none\" stroke=\"#000000\" cx=\"154\" cy=\"-162\" rx=\"27\" ry=\"18\"/>\n<text text-anchor=\"middle\" x=\"154\" y=\"-158.3\" font-family=\"Times,serif\" font-size=\"14.00\" fill=\"#000000\">f</text>\n</g>\n<!-- h -->\n<g id=\"node8\" class=\"node\">\n<title>h</title>\n<ellipse fill=\"none\" stroke=\"#000000\" cx=\"214\" cy=\"-18\" rx=\"27\" ry=\"18\"/>\n<text text-anchor=\"middle\" x=\"214\" y=\"-14.3\" font-family=\"Times,serif\" font-size=\"14.00\" fill=\"#000000\">h</text>\n</g>\n<!-- f&#45;&#45;h -->\n<g id=\"edge9\" class=\"edge\">\n<title>f&#45;&#45;h</title>\n<path fill=\"none\" stroke=\"#000000\" d=\"M161.2374,-144.6302C172.7697,-116.9528 195.1885,-63.1475 206.7369,-35.4314\"/>\n</g>\n<!-- 3 -->\n<!-- 2&#45;&#45;3 -->\n<!-- g -->\n<g id=\"node4\" class=\"node\">\n<title>g</title>\n<ellipse fill=\"none\" stroke=\"#000000\" cx=\"99\" cy=\"-90\" rx=\"27\" ry=\"18\"/>\n<text text-anchor=\"middle\" x=\"99\" y=\"-86.3\" font-family=\"Times,serif\" font-size=\"14.00\" fill=\"#000000\">g</text>\n</g>\n<!-- g&#45;&#45;f -->\n<!-- j -->\n<g id=\"node5\" class=\"node\">\n<title>j</title>\n<ellipse fill=\"none\" stroke=\"#000000\" cx=\"323\" cy=\"-90\" rx=\"27\" ry=\"18\"/>\n<text text-anchor=\"middle\" x=\"323\" y=\"-86.3\" font-family=\"Times,serif\" font-size=\"14.00\" fill=\"#000000\">j</text>\n</g>\n<!-- g&#45;&#45;j -->\n<g id=\"edge8\" class=\"edge\">\n<title>g&#45;&#45;j</title>\n<path fill=\"none\" stroke=\"#000000\" d=\"M120.1749,-101.3864C154.1979,-118.1147 222.8128,-145.3586 278,-126 289.7067,-121.8935 300.6304,-113.3189 308.783,-105.5681\"/>\n</g>\n<!-- gap1 -->\n<!-- g&#45;&#45;gap1 -->\n<!-- j&#45;&#45;h -->\n<g id=\"edge6\" class=\"edge\">\n<title>j&#45;&#45;h</title>\n<path fill=\"none\" stroke=\"#000000\" d=\"M303.7639,-77.2936C283.9621,-64.2135 253.2758,-43.9437 233.4104,-30.8216\"/>\n</g>\n<!-- gap1&#45;&#45;j -->\n<!-- i -->\n<g id=\"node9\" class=\"node\">\n<title>i</title>\n<ellipse fill=\"none\" stroke=\"#000000\" cx=\"132\" cy=\"-18\" rx=\"27\" ry=\"18\"/>\n<text text-anchor=\"middle\" x=\"132\" y=\"-14.3\" font-family=\"Times,serif\" font-size=\"14.00\" fill=\"#000000\">i</text>\n</g>\n<!-- i&#45;&#45;f -->\n<g id=\"edge10\" class=\"edge\">\n<title>i&#45;&#45;f</title>\n<path fill=\"none\" stroke=\"#000000\" d=\"M134.7764,-36.1727C139.0129,-63.9026 147.0424,-116.4592 151.2582,-144.0535\"/>\n</g>\n<!-- i&#45;&#45;g -->\n<g id=\"edge7\" class=\"edge\">\n<title>i&#45;&#45;g</title>\n<path fill=\"none\" stroke=\"#000000\" d=\"M124.0852,-35.2687C118.9115,-46.5568 112.1768,-61.2506 106.9884,-72.5708\"/>\n</g>\n</g>\n</svg>\n"
          },
          "metadata": {
            "tags": []
          },
          "execution_count": 82
        }
      ]
    },
    {
      "cell_type": "code",
      "metadata": {
        "id": "_TTcueY7JU49"
      },
      "source": [
        ""
      ],
      "execution_count": null,
      "outputs": []
    }
  ]
}