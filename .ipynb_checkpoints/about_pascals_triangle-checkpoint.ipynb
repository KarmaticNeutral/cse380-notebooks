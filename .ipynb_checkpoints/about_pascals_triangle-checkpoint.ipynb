{
 "cells": [
  {
   "cell_type": "markdown",
   "metadata": {},
   "source": [
    "# About Pascal’s Triangle\n",
    "## Class Directed Learning\n",
    "### Due: Tuesday, 2 February 2021, 11:59 pm"
   ]
  },
  {
   "cell_type": "markdown",
   "metadata": {},
   "source": [
    "## A Helper Function\n",
    "Exercise 253 on page 161 shows a recursive definition of `nCk`. Here's a much more efficient way to compute binomial coefficients, which perhaps you can profitably use in your investigations:\n"
   ]
  },
  {
   "cell_type": "code",
   "execution_count": 1,
   "metadata": {},
   "outputs": [],
   "source": [
    "from math import gcd\n",
    "\n",
    "def nCk(n, k):\n",
    "  if k < 0 or k > n:\n",
    "    return 0\n",
    "  else:\n",
    "    result = 1\n",
    "    d = 1\n",
    "    g = 1\n",
    "    m = min(k, n - k)\n",
    "    while (d <= m):\n",
    "      g = gcd(result, d)\n",
    "      result = n * (result // g)\n",
    "      result = (result // (d // g))\n",
    "      n -= 1\n",
    "      d += 1\n",
    "    return result"
   ]
  },
  {
   "cell_type": "markdown",
   "metadata": {},
   "source": [
    "## Predominant and Fundamental\n",
    "The predominant pattern, the fundamental symmetry in Pascal's triangle is captured by the identity:\n",
    "$${n \\choose k} = {n \\choose n - k}$$\n",
    "## Identify Identities\n",
    "Here are two different identities that point out the same pattern in Pascal's triangle. What is the name of this pattern?\n",
    "### Identity 1\n",
    "For nonnegative integers $r$ and $n$:\n",
    "$$\\sum^n_{k=0} {r+k \\choose k} = {r+n+1 \\choose n}$$\n",
    "### Identity 2\n",
    "For nonnegative integers $m$ and $n$:\n",
    "$$\\sum^n_{k=0} {k \\choose m} = {n+1 \\choose m+1}$$\n",
    "\n",
    "### The Rule's Name\n",
    "The rule that these identities represent is Pascal's rule."
   ]
  },
  {
   "cell_type": "code",
   "execution_count": 5,
   "metadata": {},
   "outputs": [],
   "source": [
    "from math import gcd\n",
    "def nCk(n, k):\n",
    "    if k < 0 or k > n:\n",
    "        return 0\n",
    "    else:\n",
    "        result = 1\n",
    "        d = 1\n",
    "        g = 1\n",
    "        m = min(k, n - k)\n",
    "        while (d <= m):\n",
    "            g = gcd(result, d)\n",
    "            result = n * (result // g)\n",
    "            result = (result // (d // g))\n",
    "            n -= 1\n",
    "            d += 1\n",
    "        return result"
   ]
  },
  {
   "cell_type": "code",
   "execution_count": 7,
   "metadata": {},
   "outputs": [],
   "source": [
    "# Print Pascal's Triangle in Java \n",
    "from math import factorial \n",
    "def draw_pascal(n):\n",
    "    for i in range(n): \n",
    "        for j in range(n-i+1):\n",
    "            print(end=\" \") \n",
    "        for j in range(i+1): \n",
    "            print(nCk(i, j), end=\" \")\n",
    "        print() "
   ]
  },
  {
   "cell_type": "code",
   "execution_count": 9,
   "metadata": {},
   "outputs": [
    {
     "name": "stdout",
     "output_type": "stream",
     "text": [
      "                1 \n",
      "               1 1 \n",
      "              1 2 1 \n",
      "             1 3 3 1 \n",
      "            1 4 6 4 1 \n",
      "           1 5 10 10 5 1 \n",
      "          1 6 15 20 15 6 1 \n",
      "         1 7 21 35 35 21 7 1 \n",
      "        1 8 28 56 70 56 28 8 1 \n",
      "       1 9 36 84 126 126 84 36 9 1 \n",
      "      1 10 45 120 210 252 210 120 45 10 1 \n",
      "     1 11 55 165 330 462 462 330 165 55 11 1 \n",
      "    1 12 66 220 495 792 924 792 495 220 66 12 1 \n",
      "   1 13 78 286 715 1287 1716 1716 1287 715 286 78 13 1 \n",
      "  1 14 91 364 1001 2002 3003 3432 3003 2002 1001 364 91 14 1 \n"
     ]
    }
   ],
   "source": [
    "draw_pascal(15)"
   ]
  },
  {
   "cell_type": "markdown",
   "metadata": {},
   "source": [
    "# Investigate A Possible Relationship\n",
    "Does any row in Pascal's Triangle have the Fibonacci numbers' relationship between three consecutive entries? In other words, where x, y, and z are three consecutive entries in a single row, does x + y = z?\n",
    "\n",
    "  The number of rows where this relationship could possibly hold is:\n",
    "  - [ ] Zero.\n",
    "  - [X] At least one.\n",
    "  - [ ] At most one.\n",
    "  - [ ] Exactly one.\n",
    "  - [ ] It cannot be determined.\n",
    "  \n",
    "Given the values of 1001, 2002 and 3003 on line 15 of the triangle, we know that the answers \"Zero\" is not an option. Additionally, Brother Neff told us in class that there was exactly one right answer to this question, and given that we know that one instance exists, the answer \"At most one\" is the same as \"Exactly one\" and therefore \"At most one\" is not the correct answer. After researching for some time, we came to the conclusion that the pattern must repeat itself at some point while the triangle extends infinitely downward and chose \"At least one\" as our answer over \"Exactly one\"."
   ]
  },
  {
   "cell_type": "markdown",
   "metadata": {},
   "source": [
    "# Investigate Another Possible Relationship\n",
    "Does any row in Pascal's Triangle have three consecutive entries in the ratio 1:2:3? (12:24:36 is an example of three numbers in a 1:2:3 ratio.)?\n",
    "\n",
    "  The number of rows where this relationship could possibly hold is:\n",
    "  - [ ] Zero.\n",
    "  - [X] At least one.\n",
    "  - [ ] At most one.\n",
    "  - [ ] Exactly one.\n",
    "  - [ ] It cannot be determined.\n",
    "\n",
    "Our reasoning for this answer is the same as our answer to the previous question."
   ]
  }
 ],
 "metadata": {
  "kernelspec": {
   "display_name": "Python 3",
   "language": "python",
   "name": "python3"
  },
  "language_info": {
   "codemirror_mode": {
    "name": "ipython",
    "version": 3
   },
   "file_extension": ".py",
   "mimetype": "text/x-python",
   "name": "python",
   "nbconvert_exporter": "python",
   "pygments_lexer": "ipython3",
   "version": "3.9.1"
  }
 },
 "nbformat": 4,
 "nbformat_minor": 4
}
