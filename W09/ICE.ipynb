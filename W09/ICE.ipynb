{
  "nbformat": 4,
  "nbformat_minor": 0,
  "metadata": {
    "kernelspec": {
      "display_name": "Python 3",
      "language": "python",
      "name": "python3"
    },
    "language_info": {
      "codemirror_mode": {
        "name": "ipython",
        "version": 3
      },
      "file_extension": ".py",
      "mimetype": "text/x-python",
      "name": "python",
      "nbconvert_exporter": "python",
      "pygments_lexer": "ipython3",
      "version": "3.9.1"
    },
    "colab": {
      "name": "ICE.ipynb",
      "provenance": []
    }
  },
  "cells": [
    {
      "cell_type": "markdown",
      "metadata": {
        "id": "xJFBKzeWNBZD"
      },
      "source": [
        "Given a list of gaps, generate list of primes"
      ]
    },
    {
      "cell_type": "code",
      "metadata": {
        "id": "fCQitwIINBZH"
      },
      "source": [
        "#!pip install pyprimesieve\n",
        "from pyprimesieve import primes\n",
        "list_of_primes = primes(179424671)\n",
        "gaps = []\n",
        "prev = 3\n",
        "gap = 0\n",
        "for prime in list(list_of_primes):\n",
        "    gap = prime - prev\n",
        "    prev = prime\n",
        "    gaps.append(gap)"
      ],
      "execution_count": 27,
      "outputs": []
    },
    {
      "cell_type": "code",
      "metadata": {
        "id": "E4OOUiOaNBZI",
        "outputId": "f4afd00d-6eac-46af-b9fd-2488b00e74f7",
        "colab": {
          "base_uri": "https://localhost:8080/"
        }
      },
      "source": [
        "restored_list_of_primes = [3]\n",
        "for gap in gaps:\n",
        "    restored_list_of_primes.append(list_of_primes[-1] + gap)\n",
        "print(len(restored_list_of_primes), restored_list_of_primes[-1])\n",
        "print(len(list_of_primes), list_of_primes[-1])\n",
        "print(restored_list_of_primes == list_of_primes)\n"
      ],
      "execution_count": 28,
      "outputs": [
        {
          "output_type": "stream",
          "text": [
            "9999999 179424705\n",
            "9999998 179424667\n",
            "False\n"
          ],
          "name": "stdout"
        }
      ]
    },
    {
      "cell_type": "code",
      "metadata": {
        "id": "kvPQEyxzNBZI"
      },
      "source": [
        ""
      ],
      "execution_count": null,
      "outputs": []
    }
  ]
}