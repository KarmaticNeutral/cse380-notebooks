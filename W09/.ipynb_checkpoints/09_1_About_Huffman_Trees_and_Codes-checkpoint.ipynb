{
 "cells": [
  {
   "cell_type": "markdown",
   "metadata": {
    "colab_type": "text",
    "id": "view-in-github"
   },
   "source": [
    "<a href=\"https://colab.research.google.com/github/KarmaticNeutral/cse380-notebooks/blob/master/09_1_About_Huffman_Trees_and_Codes.ipynb\" target=\"_parent\"><img src=\"https://colab.research.google.com/assets/colab-badge.svg\" alt=\"Open In Colab\"/></a>"
   ]
  },
  {
   "cell_type": "markdown",
   "metadata": {
    "id": "VPy5vbgRQBMQ"
   },
   "source": [
    "# About Huffman Trees and Codes\n",
    "## Divide Pair Conquer\n",
    "### Due: Monday, 1 March 2021, 11:59 pm"
   ]
  },
  {
   "cell_type": "markdown",
   "metadata": {
    "id": "sgaSqpkyQMwl"
   },
   "source": [
    "## Goal"
   ]
  },
  {
   "cell_type": "markdown",
   "metadata": {
    "id": "_YpNGyjWQbVx"
   },
   "source": [
    "Review Huffman Trees and Codes from DM1 to get ready for your Ponder and Prove assignment."
   ]
  },
  {
   "cell_type": "code",
   "execution_count": 1,
   "metadata": {
    "colab": {
     "base_uri": "https://localhost:8080/"
    },
    "id": "7C-ClNTHQkFw",
    "outputId": "983ab213-c33b-48c4-9ad9-8de356943c54"
   },
   "outputs": [
    {
     "name": "stdout",
     "output_type": "stream",
     "text": [
      "thebookofmormon --> Counter({'o': 5, 'm': 2, 't': 1, 'h': 1, 'e': 1, 'b': 1, 'k': 1, 'f': 1, 'r': 1, 'n': 1})\n",
      "therestoration --> Counter({'t': 3, 'e': 2, 'r': 2, 'o': 2, 'h': 1, 's': 1, 'a': 1, 'i': 1, 'n': 1})\n"
     ]
    }
   ],
   "source": [
    "from math import ceil, log\n",
    "from collections import Counter\n",
    "\n",
    "def show_results(message, code_tuples):\n",
    "  total_characters = len(message)\n",
    "  total_unique_characters = len(code_tuples)\n",
    "  total_bits = 0\n",
    "  for char, count, code in code_tuples:\n",
    "    total_bits += count * len(code)\n",
    "  average_bits_per_character = total_bits / total_characters\n",
    "  fixed_bits_per_character = ceil(log(total_unique_characters, 2))\n",
    "  total_fixed_bits = total_characters * fixed_bits_per_character\n",
    "  compression_ratio = (total_fixed_bits - total_bits) / total_fixed_bits\n",
    "  print(f'          Total Characters: {total_characters}')\n",
    "  print(f'   Total Unique Characters: {total_unique_characters}')\n",
    "  print(f'                Total Bits: {total_bits}')\n",
    "  print(f'Average Bits per Character: {average_bits_per_character:.2f}')\n",
    "  print(f'  Fixed Bits per Character: {fixed_bits_per_character}')\n",
    "  print(f'          Total Fixed Bits: {total_fixed_bits}')\n",
    "  print(f'         Compression Ratio: {compression_ratio:.3f}')\n",
    "\n",
    "message1 = 'thebookofmormon'\n",
    "counter1 = Counter(message1)\n",
    "\n",
    "print(message1, '-->', counter1)\n",
    "\n",
    "message2 = 'therestoration'\n",
    "\n",
    "counter2 = Counter(message2)\n",
    "\n",
    "print(message2, '-->', counter2)"
   ]
  },
  {
   "cell_type": "markdown",
   "metadata": {
    "id": "YnsvrdQkRZIP"
   },
   "source": [
    "### Which message has the lower compression ratio?"
   ]
  },
  {
   "cell_type": "markdown",
   "metadata": {
    "id": "ZQZ9qfo-RgDB"
   },
   "source": [
    "#### Message 1"
   ]
  },
  {
   "cell_type": "markdown",
   "metadata": {
    "id": "66pMEoO_Rkb3"
   },
   "source": [
    "Do all the steps, like the examples in the book, first sorting the counted occurrences:\n",
    "\n",
    "| Char | # |\n",
    "|------|---|\n",
    "|   b  | 1 |\n",
    "|   e  | 1 |\n",
    "|   f  | 1 |\n",
    "|   h  | 1 |\n",
    "|   k  | 1 |\n",
    "|   n  | 1 |\n",
    "|   r  | 1 |\n",
    "|   t  | 1 |\n",
    "|   m  | 2 |\n",
    "|   o  | 5 |"
   ]
  },
  {
   "cell_type": "markdown",
   "metadata": {
    "id": "Sf-Wc2SvSMvh"
   },
   "source": [
    "##### The ever-shrinking queue:"
   ]
  },
  {
   "cell_type": "markdown",
   "metadata": {
    "id": "1NVAHiTySQUZ"
   },
   "source": [
    "* b1 e1 f1 h1 k1 n1 r1 t1 m2 o5\n",
    "* f1 h1 k1 n1 r1 t1 m2 be2 o5\n",
    "* k1 n1 r1 t1 m2 be2 fh2 o5\n",
    "* r1 t1 m2 be2 fh2 kn2 o5\n",
    "* m2 be2 fh2 kn2 rt2 o5\n",
    "* fh2 kn2 rt2 mbe4 o5\n",
    "* rt2 meb4 fhkn4 o5\n",
    "* fhkn4 o5 rtmeb6\n",
    "* rtmbe6 fhkno9\n",
    "* rtmbefhkno15"
   ]
  },
  {
   "cell_type": "markdown",
   "metadata": {
    "id": "FQ542b55SnRo"
   },
   "source": [
    "##### The Huffman Tree:"
   ]
  },
  {
   "cell_type": "code",
   "execution_count": null,
   "metadata": {
    "id": "JEatqgo2S2GS"
   },
   "outputs": [],
   "source": [
    "'''\n",
    "       rtmbefhkno15\n",
    "         /        \\\n",
    "     rtmbe6      fhkno9\n",
    "     /   \\        /    \\\n",
    "  rt2   mbe4   fhkn4   o5\n",
    "  /\\    / \\     /   \\\n",
    "r1 t1 m2 be2  fh2   kn2\n",
    "         / \\  / \\   / \\\n",
    "       b1 e1 f1 h1 k1 n1\n",
    "'''"
   ]
  },
  {
   "cell_type": "markdown",
   "metadata": {
    "id": "Zz3k9BfdSqMh"
   },
   "source": [
    "##### The Code Tuples"
   ]
  },
  {
   "cell_type": "markdown",
   "metadata": {
    "id": "k8NwLvJzTzOd"
   },
   "source": [
    "Read the codes from the tree:"
   ]
  },
  {
   "cell_type": "code",
   "execution_count": 6,
   "metadata": {
    "colab": {
     "base_uri": "https://localhost:8080/"
    },
    "id": "7dT6TB3MS7wY",
    "outputId": "70b37764-669d-45e1-eb40-b98125acb125"
   },
   "outputs": [
    {
     "name": "stdout",
     "output_type": "stream",
     "text": [
      "          Total Characters: 15\n",
      "   Total Unique Characters: 10\n",
      "                Total Bits: 46\n",
      "Average Bits per Character: 3.07\n",
      "  Fixed Bits per Character: 4\n",
      "          Total Fixed Bits: 60\n",
      "         Compression Ratio: 0.233\n"
     ]
    }
   ],
   "source": [
    "message1_code_tuples = \\\n",
    "[('b', 1, '0110'),\n",
    " ('e', 1, '0111'),\n",
    " ('f', 1, '1000'),\n",
    " ('h', 1, '1001'),\n",
    " ('k', 1, '1010'),\n",
    " ('m', 2, '010'),\n",
    " ('n', 1, '1011'),\n",
    " ('o', 5, '11'),\n",
    " ('r', 1, '000'),\n",
    " ('t', 1, '001'),\n",
    "]\n",
    "\n",
    "show_results(message1, message1_code_tuples)"
   ]
  },
  {
   "cell_type": "markdown",
   "metadata": {
    "id": "EekOyNAyVbY3"
   },
   "source": [
    "#### Message 2"
   ]
  },
  {
   "cell_type": "markdown",
   "metadata": {
    "id": "5ktqJRmOVbY3"
   },
   "source": [
    "Do all the steps, like the examples in the book, first sorting the counted occurrences:\n",
    "\n",
    "| Char | # |\n",
    "|------|---|\n",
    "|   a  | 1 |\n",
    "|   h  | 1 |\n",
    "|   i  | 1 |\n",
    "|   n  | 1 |\n",
    "|   s  | 1 |\n",
    "|   e  | 2 |\n",
    "|   o  | 2 |\n",
    "|   r  | 2 |\n",
    "|   t  | 3 |"
   ]
  },
  {
   "cell_type": "markdown",
   "metadata": {
    "id": "BjOIgAZZVbY4"
   },
   "source": [
    "##### The ever-shrinking queue:"
   ]
  },
  {
   "cell_type": "markdown",
   "metadata": {
    "id": "LEVjSFE9VbY4"
   },
   "source": [
    "* a1 h1 i1 n1 s1 e2 o2 r2 t3\n",
    "* i1 n1 s1 e2 o2 r2 ah2 t3\n",
    "* s1 e2 o2 r2 ah2 in2 t3\n",
    "* o2 r2 ah2 in2 t3 se3\n",
    "* ah2 in2 t3 se3 or4\n",
    "* t3 se3 or4 ahin4\n",
    "* or4 ahin4 tse6\n",
    "* tse6 orahin8\n",
    "* tseorahin14"
   ]
  },
  {
   "cell_type": "markdown",
   "metadata": {
    "id": "ZeozgfOLVbY4"
   },
   "source": [
    "##### The Huffman Tree:"
   ]
  },
  {
   "cell_type": "code",
   "execution_count": null,
   "metadata": {
    "id": "-2FB2vHtVbY4"
   },
   "outputs": [],
   "source": [
    "'''\n",
    "    tseorahin14\n",
    "    /        \\\n",
    " tse6     orahin8\n",
    "  / \\      /    \\\n",
    "t3 se3   or4   ahin4\n",
    "   / \\   / \\    /   \\\n",
    "  s1 e2 o2 r2 ah2   in2\n",
    "              / \\   / \\\n",
    "             a1 h1 i1 n1\n",
    "'''"
   ]
  },
  {
   "cell_type": "markdown",
   "metadata": {
    "id": "Weh87t4iVbY6"
   },
   "source": [
    "##### The Code Tuples"
   ]
  },
  {
   "cell_type": "markdown",
   "metadata": {
    "id": "-uihVyZuVbY6"
   },
   "source": [
    "Read the codes from the tree:"
   ]
  },
  {
   "cell_type": "code",
   "execution_count": 3,
   "metadata": {
    "colab": {
     "base_uri": "https://localhost:8080/"
    },
    "id": "3J20ht-dVbY6",
    "outputId": "9aaab9ad-c681-40cf-cffc-bcb10534cb44"
   },
   "outputs": [
    {
     "name": "stdout",
     "output_type": "stream",
     "text": [
      "          Total Characters: 14\n",
      "   Total Unique Characters: 9\n",
      "                Total Bits: 43\n",
      "Average Bits per Character: 3.07\n",
      "  Fixed Bits per Character: 4\n",
      "          Total Fixed Bits: 56\n",
      "         Compression Ratio: 0.232\n"
     ]
    }
   ],
   "source": [
    "message2_code_tuples = \\\n",
    "[('a', 1, '1100'),\n",
    " ('e', 2, '011'),\n",
    " ('h', 1, '1101'),\n",
    " ('i', 1, '1110'),\n",
    " ('n', 1, '1111'),\n",
    " ('o', 2, '100'),\n",
    " ('r', 2, '101'),\n",
    " ('s', 1, '010'),\n",
    " ('t', 3, '00'),\n",
    "]\n",
    "\n",
    "show_results(message2, message2_code_tuples)"
   ]
  },
  {
   "cell_type": "markdown",
   "metadata": {
    "id": "iNVsz1Pixjxg"
   },
   "source": [
    "### TODO Create Data Tree and Code"
   ]
  },
  {
   "cell_type": "markdown",
   "metadata": {
    "id": "5HGwfaArxmyg"
   },
   "source": [
    "More warmup for your Ponder and Prove assignment this week:\n",
    "\n",
    "Create a Huffman Tree and codes for the gaps between the first few prime (except for the gap of size 1 between 2 and 3). Your goal is to find how many is \"few\" enough to have a compression ratio **better than 24%**.\n"
   ]
  },
  {
   "cell_type": "code",
   "execution_count": 129,
   "metadata": {
    "id": "0Hr58Qn0BpRD"
   },
   "outputs": [],
   "source": [
    "def buildTree(queue):\n",
    "    arr = []\n",
    "    while len(queue) > 1:\n",
    "        if(len(queue) > 2):\n",
    "            item = ([queue[0][0], queue[1][0]], queue[0][1] + queue[1][1])\n",
    "            queue = insertQueue(queue[2:], item)\n",
    "        else:\n",
    "            queue = [[queue[0][0], queue[1][0]]]\n",
    "            \n",
    "    return queue[0]\n",
    "\n",
    "def insertQueue(queue, item):\n",
    "    index = len(queue) // 2\n",
    "    val = item[1]\n",
    "    found = False\n",
    "    end = len(queue) - 1\n",
    "    while not found:\n",
    "        if queue[index][1] > val: \n",
    "            if(index != 0):\n",
    "                if(queue[index - 1][1] < val):\n",
    "                    found = True\n",
    "                    queue.insert(index, item)\n",
    "                    break\n",
    "                else:\n",
    "                    end = index\n",
    "                    index = len(queue[0:index]) // 2\n",
    "            else:\n",
    "                queue.insert(0, item)\n",
    "                break\n",
    "        else:\n",
    "            if(index != len(queue) - 1):\n",
    "                if(queue[index + 1][1] > val):\n",
    "                    found = True\n",
    "                    queue.insert(index + 1, item)\n",
    "                    break\n",
    "                else:\n",
    "                    index = (len(queue[index + 1: end]) // 2) + index + 1\n",
    "            else:\n",
    "                found = True\n",
    "                queue.append(item)\n",
    "                break\n",
    "    return queue"
   ]
  },
  {
   "cell_type": "code",
   "execution_count": 144,
   "metadata": {
    "id": "DrFkD8-SDOiy"
   },
   "outputs": [],
   "source": [
    "def get_encoding(tree, path = \"\"):\n",
    "  if isinstance(tree, str):\n",
    "    table[tree] = path\n",
    "    #print(tree, path)\n",
    "    return tree\n",
    "\n",
    "  if tree[0]:\n",
    "    get_encoding(tree[0], path + '0')\n",
    "  if tree[1]:\n",
    "    get_encoding(tree[1], path + '1')"
   ]
  },
  {
   "cell_type": "code",
   "execution_count": 155,
   "metadata": {
    "colab": {
     "base_uri": "https://localhost:8080/"
    },
    "id": "7TBjHxPqx9WI",
    "outputId": "bb5db91b-7599-4afd-c6fe-2b98ba32052e"
   },
   "outputs": [
    {
     "name": "stdout",
     "output_type": "stream",
     "text": [
      "30     16.666666666666664\n",
      "31     16.666666666666664\n",
      "32     16.666666666666664\n",
      "33     16.666666666666664\n",
      "34     16.666666666666664\n",
      "35     16.666666666666664\n",
      "36     16.666666666666664\n",
      "37     16.666666666666664\n",
      "38     16.666666666666664\n",
      "39     16.666666666666664\n",
      "40     16.666666666666664\n",
      "41     16.666666666666664\n",
      "42     16.666666666666664\n",
      "43     16.666666666666664\n",
      "44     16.666666666666664\n",
      "45     16.666666666666664\n",
      "46     16.666666666666664\n",
      "47     16.666666666666664\n",
      "48     16.666666666666664\n",
      "49     16.666666666666664\n",
      "50     16.666666666666664\n",
      "51     16.666666666666664\n",
      "52     16.666666666666664\n",
      "53     16.666666666666664\n",
      "54     16.666666666666664\n",
      "55     16.666666666666664\n",
      "56     16.666666666666664\n",
      "57     16.666666666666664\n",
      "58     16.666666666666664\n",
      "59     16.666666666666664\n",
      "60     16.666666666666664\n",
      "61     16.666666666666664\n",
      "62     16.666666666666664\n",
      "63     16.666666666666664\n",
      "64     16.666666666666664\n",
      "65     16.666666666666664\n",
      "66     16.666666666666664\n",
      "67     16.666666666666664\n",
      "68     16.666666666666664\n",
      "69     16.666666666666664\n",
      "70     16.666666666666664\n",
      "71     16.666666666666664\n",
      "72     16.666666666666664\n",
      "73     16.666666666666664\n",
      "74     16.666666666666664\n",
      "75     16.666666666666664\n",
      "76     16.666666666666664\n",
      "77     16.666666666666664\n",
      "78     16.666666666666664\n",
      "79     16.666666666666664\n",
      "80     16.666666666666664\n",
      "81     16.666666666666664\n",
      "82     16.666666666666664\n",
      "83     16.666666666666664\n",
      "84     16.666666666666664\n",
      "85     16.666666666666664\n",
      "86     16.666666666666664\n",
      "87     16.666666666666664\n",
      "88     16.666666666666664\n",
      "89     16.666666666666664\n",
      "90     16.666666666666664\n",
      "91     16.666666666666664\n",
      "92     16.666666666666664\n",
      "93     16.666666666666664\n",
      "94     16.666666666666664\n",
      "95     16.666666666666664\n",
      "96     16.666666666666664\n",
      "97     16.666666666666664\n"
     ]
    }
   ],
   "source": [
    "from sympy import primerange\n",
    "i = 15\n",
    "while i < 1000:\n",
    "  list_of_gaps = []\n",
    "  prev = 3\n",
    "  gap = 0\n",
    "  for prime in list(primerange(4, i)):\n",
    "    gap = prime - prev\n",
    "    #print(gap)\n",
    "    prev = prime\n",
    "    list_of_gaps.append(gap)\n",
    "\n",
    "  list_holder = []\n",
    "  for num in list_of_gaps:\n",
    "    list_holder.append(str(num))\n",
    "  list_of_gaps = list_holder\n",
    "\n",
    "  sorted(list_of_gaps)\n",
    "  freq_queue = list(set([(num, list_of_gaps.count(num)) for num in list_of_gaps]))\n",
    "  freq_queue.sort(key = lambda x: x[1])\n",
    "  #print(freq_queue)\n",
    "  #print(buildTree(freq_queue))\n",
    "  table = {}\n",
    "  get_encoding(buildTree(freq_queue))\n",
    "\n",
    "  total_len = 0\n",
    "  for key in table:\n",
    "    total_len += len(table[key])\n",
    "\n",
    "  avg_len = total_len / len(table)\n",
    "\n",
    "  fixed_encoding_per_letter = len(bin(len(table) - 1).replace('0b', ''))\n",
    "\n",
    "  #print(avg_len, fixed_encoding_per_letter)\n",
    "  increase = ((fixed_encoding_per_letter - avg_len) / fixed_encoding_per_letter) * 100\n",
    "\n",
    "  if increase > 16:\n",
    "    print(str(i) + \"     \" + str(increase)) \n",
    "  \n",
    "  i += 1"
   ]
  },
  {
   "cell_type": "markdown",
   "metadata": {
    "id": "3Jr9Iu3hUhKo"
   },
   "source": [
    "I plan to dig in deeper to find the bug in my code. For now the highest ratio I could find is 16.66%"
   ]
  },
  {
   "cell_type": "markdown",
   "metadata": {
    "id": "erXk2rwpBT-l"
   },
   "source": [
    "#### Unused Code"
   ]
  },
  {
   "cell_type": "code",
   "execution_count": 44,
   "metadata": {
    "colab": {
     "base_uri": "https://localhost:8080/"
    },
    "id": "zfHU4Zra5mHC",
    "outputId": "431c991d-68d1-4482-e339-19864e450eee"
   },
   "outputs": [
    {
     "name": "stdout",
     "output_type": "stream",
     "text": [
      "{2: 209, 4: 202, 6: 301, 8: 101, 14: 54, 10: 120, 12: 106, 18: 40, 20: 15, 22: 17, 34: 3, 24: 15, 16: 33, 26: 3, 28: 6, 30: 11, 32: 1, 36: 1}\n",
      "{2: 209, 4: 202, 6: 301, 8: 101, 14: 54, 10: 120, 12: 106, 18: 40, 20: 15, 22: 17, 24: 15, 16: 33, 26: 3, 28: 6, 30: 11, 36: 1, '3234': 4}\n",
      "{2: 209, 4: 202, 6: 301, 8: 101, 14: 54, 10: 120, 12: 106, 18: 40, 20: 15, 22: 17, 24: 15, 16: 33, 28: 6, 30: 11, '3234': 4, '3626': 4}\n",
      "{2: 209, 4: 202, 6: 301, 8: 101, 14: 54, 10: 120, 12: 106, 18: 40, 20: 15, 22: 17, 24: 15, 16: 33, 30: 11, '3626': 4, '323428': 10}\n",
      "{2: 209, 4: 202, 6: 301, 8: 101, 14: 54, 10: 120, 12: 106, 18: 40, 20: 15, 22: 17, 24: 15, 16: 33, '323428': 10, '362630': 15}\n",
      "{2: 209, 4: 202, 6: 301, 8: 101, 14: 54, 10: 120, 12: 106, 18: 40, 22: 17, 24: 15, 16: 33, '362630': 15, '32342820': 25}\n",
      "{2: 209, 4: 202, 6: 301, 8: 101, 14: 54, 10: 120, 12: 106, 18: 40, 16: 33, '362630': 15, '32342820': 25, '2422': 32}\n",
      "{2: 209, 4: 202, 6: 301, 8: 101, 14: 54, 10: 120, 12: 106, 18: 40, '32342820': 25, '2422': 32, '36263016': 48}\n",
      "{2: 209, 4: 202, 6: 301, 8: 101, 14: 54, 10: 120, 12: 106, '2422': 32, '36263016': 48, '3234282018': 65}\n",
      "{2: 209, 4: 202, 6: 301, 8: 101, 10: 120, 12: 106, '36263016': 48, '3234282018': 65, '242214': 86}\n",
      "{2: 209, 4: 202, 6: 301, 10: 120, 12: 106, '3234282018': 65, '242214': 86, '362630168': 149}\n",
      "{2: 209, 4: 202, 6: 301, 10: 120, '242214': 86, '362630168': 149, '323428201812': 171}\n",
      "{2: 209, 4: 202, 6: 301, '362630168': 149, '323428201812': 171, '24221410': 206}\n",
      "{2: 209, 6: 301, '323428201812': 171, '24221410': 206, '3626301684': 351}\n",
      "{6: 301, '24221410': 206, '3626301684': 351, '3234282018122': 380}\n",
      "{'3626301684': 351, '3234282018122': 380, '242214106': 507}\n",
      "{'242214106': 507, '36263016843234282018122': 731}\n",
      "{'24221410636263016843234282018122': 1238}\n"
     ]
    }
   ],
   "source": [
    "\n",
    "  gap_counts = {}\n",
    "  for gap in list_of_gaps:\n",
    "    if gap in gap_counts:\n",
    "      gap_counts[gap] += 1\n",
    "    else:\n",
    "      gap_counts[gap] = 1\n",
    "\n",
    "def huffman_step(huff_tree):\n",
    "    fir_small = ''\n",
    "    sec_small = ''\n",
    "    for key in huff_tree:\n",
    "        if fir_small == '':\n",
    "            fir_small = key\n",
    "        elif huff_tree[fir_small] > huff_tree[key]:\n",
    "            if sec_small == '' or huff_tree[sec_small] > huff_tree[fir_small]:\n",
    "                sec_small = fir_small\n",
    "            fir_small = key\n",
    "        elif sec_small == '' and huff_tree[key] > huff_tree[fir_small]:\n",
    "            sec_small = key\n",
    "\n",
    "    new_val = huff_tree[fir_small] + huff_tree[sec_small]\n",
    "    new_key = str(fir_small) + str(sec_small)\n",
    "    del huff_tree[fir_small]\n",
    "    del huff_tree[sec_small]\n",
    "\n",
    "    huff_tree[new_key] = new_val\n",
    "\n",
    "    return huff_tree\n",
    "\n",
    "print(gap_counts)\n",
    "while len(gap_counts) > 1:\n",
    "    huffman_step(gap_counts)\n",
    "    print(gap_counts)\n",
    "        "
   ]
  }
 ],
 "metadata": {
  "colab": {
   "collapsed_sections": [],
   "include_colab_link": true,
   "name": "09_1_About_Huffman_Trees_and_Codes.ipynb",
   "provenance": []
  },
  "kernelspec": {
   "display_name": "Python 3",
   "language": "python",
   "name": "python3"
  },
  "language_info": {
   "codemirror_mode": {
    "name": "ipython",
    "version": 3
   },
   "file_extension": ".py",
   "mimetype": "text/x-python",
   "name": "python",
   "nbconvert_exporter": "python",
   "pygments_lexer": "ipython3",
   "version": "3.9.1"
  }
 },
 "nbformat": 4,
 "nbformat_minor": 1
}
