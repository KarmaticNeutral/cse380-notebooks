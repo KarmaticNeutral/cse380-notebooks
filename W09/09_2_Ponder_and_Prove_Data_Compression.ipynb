{
  "nbformat": 4,
  "nbformat_minor": 0,
  "metadata": {
    "colab": {
      "name": "09_2_Ponder_and_Prove_Data_Compression.ipynb",
      "provenance": [],
      "include_colab_link": true
    },
    "kernelspec": {
      "name": "python3",
      "display_name": "Python 3"
    }
  },
  "cells": [
    {
      "cell_type": "markdown",
      "metadata": {
        "id": "view-in-github",
        "colab_type": "text"
      },
      "source": [
        "<a href=\"https://colab.research.google.com/github/KarmaticNeutral/cse380-notebooks/blob/master/W09/09_2_Ponder_and_Prove_Data_Compression.ipynb\" target=\"_parent\"><img src=\"https://colab.research.google.com/assets/colab-badge.svg\" alt=\"Open In Colab\"/></a>"
      ]
    },
    {
      "cell_type": "markdown",
      "metadata": {
        "id": "1rG4k7VvQ2WT"
      },
      "source": [
        "# Ponder and Prove Data Compression\n",
        "#### Due: Saturday, 6 March 2021, 11:59 pm."
      ]
    },
    {
      "cell_type": "markdown",
      "metadata": {
        "id": "W0WxE3IAQ2WU"
      },
      "source": [
        "# TODO Explore Huffman Trees and Huffman Codes\n"
      ]
    },
    {
      "cell_type": "markdown",
      "metadata": {
        "id": "w2vby9erSjOv"
      },
      "source": [
        "Your task is examine how to compress a *special piece of information* as compactly as possible, and **calculate various compression ratios**.\n",
        "\n",
        "Recall that the **compression ratio** of a variable-length encoding like Huffman encoding is the percentage $100(f - v)/f$, where $f$ is the number of bits per symbol of the smallest **fixed**-length encoding, and $v$ is the average number of bits per symbol with the variable-length encoding.\n",
        "\n",
        "For example, if there were 9 different symbols in a message, $f=4$ is the number of bits of the smallest fixed-length encoding, because $2^3 = 8$ (not enough for $9$) and $2^4 = 16$ (enough and to spare). If the variable-length encoding of the message had $v=3.12$, the compression ratio would be $100(4 - 3.12)/4 \\approx 22\\%$.\n",
        "\n",
        "Note that calculating the average number of bits per symbol is not strictly necessary. That's because an alternate and equivalent way is to calculate $100(ft - vt)/ft$, where $ft$ is the **total** number of bits encoded with the fixed encoding, and $vt$ is the **total** number of bits encoded with the variable-length encoding.\n",
        "\n",
        "The *special piece of information* to be compressed is a list of the first ten million primes. This is a list that starts\n",
        "\n",
        "|    |\n",
        "|----|\n",
        "|  2 |\n",
        "|  3 |\n",
        "|  5 |\n",
        "|  7 |\n",
        "| 11 |\n",
        "| 13 |\n",
        "| 17 |\n",
        "| 19 |\n",
        "| 23 |\n",
        "| 29 |\n",
        "\n",
        "  and ends\n",
        "\n",
        "|           |\n",
        "|-----------|\n",
        "| 179424551 |\n",
        "| 179424571 |\n",
        "| 179424577 |\n",
        "| 179424601 |\n",
        "| 179424611 |\n",
        "| 179424617 |\n",
        "| 179424629 |\n",
        "| 179424667 |\n",
        "| 179424671 |\n",
        "| 179424673 |\n",
        "\n",
        "As ASCII text stored in a file with one prime per line, the size of this data file is slightly over 89 megabytes. The goal is to compress this down to just over 5 megabytes (5589056 bytes, to be exact). That's a 94% compression ratio!\n",
        "\n",
        "Standard compression tools can only get about a 73% compression ratio for this ASCII data. A more clever approach is needed. Instead of compressing the list of prime numbers, compress a list of the *gaps* between them!\n",
        "\n",
        "It doesn't save much, just the unique (occurring only once) gap size of 1 between 2 and 3, but in the spirit of de Polignac's conjecture that every *even* number appears infinitely often as a gap between consecutive primes, just consider the even-sized gaps. The result will be a list that starts with 2 (the difference between 5 and 3), 2 (the difference between 7 and 5), 4 (the difference between 11 and 7), 2 (the difference between 13 and 11), 4 (the difference between 17 and 13), 2 (the difference between 19 and 17), 4 (the difference between 23 and 19), and 6 (the difference between 29 and 23).\n",
        "\n",
        "Generating this data is the first task. The algorithm for doing so is very straightforward:\n",
        "\n",
        "1. Find the gaps between consecutive odd primes.\n",
        "2. Store these gaps as a list of even numbers.\n",
        "\n",
        "Tabulating the results, the first ten gaps and the last ten gaps are as follows, where the numbers after the equals signs are the gaps to list:\n",
        "\n",
        "|                 |\n",
        "|-----------------|\n",
        "|  5  -   3  =  2 |\n",
        "|  7  -   5  =  2 |\n",
        "| 11  -   7  =  4 |\n",
        "| 13  -  11  =  2 |\n",
        "| 17  -  13  =  4 |\n",
        "| 19  -  17  =  2 |\n",
        "| 23  -  19  =  4 |\n",
        "| 29  -  23  =  6 |\n",
        "| 31  -  29  =  2 |\n",
        "| 37  -  31  =  6 |\n",
        "\n",
        "|                                |\n",
        "|--------------------------------|\n",
        "| 179424551  -  179424533  =  18 |\n",
        "| 179424571  -  179424551  =  20 |\n",
        "| 179424577  -  179424571  =   6 |\n",
        "| 179424601  -  179424577  =  24 |\n",
        "| 179424611  -  179424601  =  10 |\n",
        "| 179424617  -  179424611  =   6 |\n",
        "| 179424629  -  179424617  =  12 |\n",
        "| 179424667  -  179424629  =  38 |\n",
        "| 179424671  -  179424667  =   4 |\n",
        "| 179424673  -  179424671  =   2 |\n",
        "\n",
        "As a correctness check, see if your generated list of gaps has length 9999998.\n",
        "\n",
        "The next step is to count how many times each gap size occurs, so that for the Huffman encoding scheme, the larger the frequency of occurrence, the smaller the number of bits encoding that gap size.\n",
        "\n",
        "As a correctness check, here are the first ten and the last ten gap counts:\n",
        "\n",
        "|  Gap | Count   |\n",
        "|------|---------|\n",
        "|    2 |  738597 |\n",
        "|    4 |  738717 |\n",
        "|    6 | 1297540 |\n",
        "|    8 |  566151 |\n",
        "|   10 |  729808 |\n",
        "|   12 |  920661 |\n",
        "|   14 |  503524 |\n",
        "|   16 |  371677 |\n",
        "|   18 |  667734 |\n",
        "|   20 |  354267 |\n",
        "|      |         |\n",
        "|  190 |       1 |\n",
        "|  192 |       3 |\n",
        "|  194 |       1 |\n",
        "|  196 |       1 |\n",
        "|  198 |       6 |\n",
        "|  202 |       2 |\n",
        "|  204 |       3 |\n",
        "|  210 |       4 |\n",
        "|  220 |       1 |\n",
        "|  222 |       1 |\n",
        "\n",
        "Note two things from these partial gap counts:\n",
        "\n",
        "1. Small even numbers (< 100) are well represented, larger ones (< 1000) less so.\n",
        "2. Ten million primes aren't enough to have *every* even number represented; for example, 200, 206, 208, 212, 214, 216, and 218 do not appear even once.\n"
      ]
    },
    {
      "cell_type": "code",
      "metadata": {
        "id": "Myy7kEdAS6VU",
        "outputId": "e8c8b3f5-9325-4792-d1ce-68d507552c13",
        "colab": {
          "base_uri": "https://localhost:8080/"
        }
      },
      "source": [
        "#!pip install pyprimesieve\r\n",
        "import pyprimesieve\r\n",
        "max = pyprimesieve.primes_nth(10000000)\r\n",
        "list_of_gaps = []\r\n",
        "prev = 3\r\n",
        "primes = list(pyprimesieve.primes(max + 1))\r\n",
        "for prime in primes[2:]:\r\n",
        "    gap = prime - prev\r\n",
        "    if gap == -1:\r\n",
        "        print(prime, gap, prev)\r\n",
        "    prev = prime\r\n",
        "    list_of_gaps.append(gap)\r\n",
        "\r\n",
        "gap_counts = {}\r\n",
        "for gap in list_of_gaps:\r\n",
        "    if gap in gap_counts:\r\n",
        "        gap_counts[gap] += 1\r\n",
        "    else:\r\n",
        "        gap_counts[gap] = 1\r\n",
        "  \r\n",
        "gap_counts"
      ],
      "execution_count": 15,
      "outputs": [
        {
          "output_type": "execute_result",
          "data": {
            "text/plain": [
              "{2: 738597,\n",
              " 4: 738717,\n",
              " 6: 1297540,\n",
              " 8: 566151,\n",
              " 10: 729808,\n",
              " 12: 920661,\n",
              " 14: 503524,\n",
              " 16: 371677,\n",
              " 18: 667734,\n",
              " 20: 354267,\n",
              " 22: 307230,\n",
              " 24: 453215,\n",
              " 26: 211203,\n",
              " 28: 229177,\n",
              " 30: 398713,\n",
              " 32: 123123,\n",
              " 34: 129043,\n",
              " 36: 206722,\n",
              " 38: 94682,\n",
              " 40: 111546,\n",
              " 42: 159956,\n",
              " 44: 64866,\n",
              " 46: 54931,\n",
              " 48: 93693,\n",
              " 50: 52183,\n",
              " 52: 38800,\n",
              " 54: 64157,\n",
              " 56: 32224,\n",
              " 58: 27985,\n",
              " 60: 55305,\n",
              " 62: 16763,\n",
              " 64: 17374,\n",
              " 66: 30960,\n",
              " 68: 12368,\n",
              " 70: 17475,\n",
              " 72: 17255,\n",
              " 74: 8540,\n",
              " 76: 7253,\n",
              " 78: 13758,\n",
              " 80: 6760,\n",
              " 82: 4791,\n",
              " 84: 9818,\n",
              " 86: 3411,\n",
              " 88: 3454,\n",
              " 90: 7056,\n",
              " 92: 2259,\n",
              " 94: 2058,\n",
              " 96: 3544,\n",
              " 98: 1831,\n",
              " 100: 1923,\n",
              " 102: 2374,\n",
              " 104: 1168,\n",
              " 106: 933,\n",
              " 108: 1634,\n",
              " 110: 941,\n",
              " 112: 711,\n",
              " 114: 1125,\n",
              " 116: 439,\n",
              " 118: 433,\n",
              " 120: 948,\n",
              " 122: 287,\n",
              " 124: 318,\n",
              " 126: 533,\n",
              " 128: 183,\n",
              " 130: 211,\n",
              " 132: 301,\n",
              " 134: 128,\n",
              " 136: 100,\n",
              " 138: 210,\n",
              " 140: 140,\n",
              " 142: 90,\n",
              " 144: 123,\n",
              " 146: 46,\n",
              " 148: 67,\n",
              " 150: 94,\n",
              " 152: 52,\n",
              " 154: 43,\n",
              " 156: 57,\n",
              " 158: 19,\n",
              " 160: 27,\n",
              " 162: 27,\n",
              " 164: 20,\n",
              " 166: 9,\n",
              " 168: 25,\n",
              " 170: 18,\n",
              " 172: 4,\n",
              " 174: 10,\n",
              " 176: 11,\n",
              " 178: 12,\n",
              " 180: 10,\n",
              " 182: 5,\n",
              " 184: 4,\n",
              " 186: 3,\n",
              " 188: 1,\n",
              " 190: 1,\n",
              " 192: 3,\n",
              " 194: 1,\n",
              " 196: 1,\n",
              " 198: 6,\n",
              " 202: 2,\n",
              " 204: 3,\n",
              " 210: 4,\n",
              " 220: 1,\n",
              " 222: 1}"
            ]
          },
          "metadata": {
            "tags": []
          },
          "execution_count": 15
        }
      ]
    },
    {
      "cell_type": "markdown",
      "metadata": {
        "id": "7CUIw8_k03JJ"
      },
      "source": [
        "# DONE Determine Exact Size of Data to be Compressed\n"
      ]
    },
    {
      "cell_type": "markdown",
      "metadata": {
        "id": "wB4sXf0X09Gv"
      },
      "source": [
        "Without actually doing it, imagine creating an ASCII file containing the first ten million primes, represented in decimal, one prime per line. Calculate the size of this file, so you can show an exceptional compression ratio from it (see below).\n",
        "\n",
        "Using a binary encoding instead of ASCII, each prime requires 32 bits (4 bytes), so the size of a binary file is easily determined.\n",
        "\n",
        "Using a fixed-width encoding of the gap counts, however, requires knowing how many different gap sizes there are, after which the calculation is straightforward."
      ]
    },
    {
      "cell_type": "code",
      "metadata": {
        "id": "NjxTMakLUg9j"
      },
      "source": [
        "from math import log10, floor\r\n",
        "def line_size(n):\r\n",
        "    return floor(log10(n)) + 1 # +1 for the new line"
      ],
      "execution_count": 10,
      "outputs": []
    },
    {
      "cell_type": "code",
      "metadata": {
        "id": "P9Oym7oXUg3a",
        "outputId": "25f14f65-418e-41ee-d557-63024b9d3424",
        "colab": {
          "base_uri": "https://localhost:8080/"
        }
      },
      "source": [
        "total_digits = 0\r\n",
        "for prime in primes:\r\n",
        "    total_digits += line_size(prime)\r\n",
        "\r\n",
        "total_digits"
      ],
      "execution_count": 16,
      "outputs": [
        {
          "output_type": "execute_result",
          "data": {
            "text/plain": [
              "83484450"
            ]
          },
          "metadata": {
            "tags": []
          },
          "execution_count": 16
        }
      ]
    },
    {
      "cell_type": "code",
      "metadata": {
        "id": "DW6HBqDqUgur",
        "outputId": "ff9f097f-7c57-4ab0-dcd8-f160e83940d8",
        "colab": {
          "base_uri": "https://localhost:8080/",
          "height": 35
        }
      },
      "source": [
        "total_bits = total_digits * 8\r\n",
        "\r\n",
        "\"File size in MB: \" + str((total_digits + 10 ** 7) / 2 ** 20)"
      ],
      "execution_count": 18,
      "outputs": [
        {
          "output_type": "execute_result",
          "data": {
            "application/vnd.google.colaboratory.intrinsic+json": {
              "type": "string"
            },
            "text/plain": [
              "'File size in MB: 89.15371894836426'"
            ]
          },
          "metadata": {
            "tags": []
          },
          "execution_count": 18
        }
      ]
    },
    {
      "cell_type": "markdown",
      "metadata": {
        "id": "9HZChUyC09tJ"
      },
      "source": [
        "# DONE Use Functional Python\n"
      ]
    },
    {
      "cell_type": "markdown",
      "metadata": {
        "id": "j7vG1XqY1CaV"
      },
      "source": [
        "You are encouraged to use the [anytree](https://pypi.org/project/anytree) Python library, which has a nice exporter by way of which you can graphically view trees. (You may recall using this in DM1, and thus know that **anytree** depends on [graphviz](https://graphviz.org), which you also used.)\n",
        "\n",
        "This library uses the object-oriented features of Python to create and visualize trees. You are encouraged to use the functional features of Python as much as possible, achieving your results not by using some existing third-party libraries for building Huffman Trees and Codes, but writing your own code as cleanly and elegantly as you can."
      ]
    },
    {
      "cell_type": "code",
      "metadata": {
        "id": "btjJHtmfWkpZ"
      },
      "source": [
        "class Node():\r\n",
        "    def __init__(this, gap, count, left, right):\r\n",
        "        this.gap = gap\r\n",
        "        this.count = count\r\n",
        "        this.parent = None\r\n",
        "        this.left = left\r\n",
        "        if not left == None:\r\n",
        "            this.left.parent = this\r\n",
        "        this.right = right\r\n",
        "        if not right == None:\r\n",
        "            this.right.parent = this\r\n",
        "\r\n",
        "    def __lt__(this, other):\r\n",
        "        return this.count < other.count\r\n",
        "\r\n",
        "    def print_tree(this, level = 0):\r\n",
        "        print(\"[Gap: \", this.gap, \" Count: \", this.count, \"]\")\r\n",
        "        if this.left != None:\r\n",
        "            for i in range(0, level):\r\n",
        "                print(\"|\\t\", end = '')\r\n",
        "            print(\"L__\", end = '')\r\n",
        "            this.left.print_tree(level + 1)\r\n",
        "        if this.right != None:\r\n",
        "            for i in range(0, level):\r\n",
        "                print(\"|\\t\", end = '')\r\n",
        "            print(\"L__\", end = '')\r\n",
        "            this.right.print_tree(level + 1)\r\n",
        "\r\n",
        "    def code_to_root(this):\r\n",
        "        code = ''\r\n",
        "        node = this\r\n",
        "        while node.parent != None:\r\n",
        "            if node.parent.left == node:\r\n",
        "                code += '0'\r\n",
        "            else:\r\n",
        "                code += '1'\r\n",
        "            node = node.parent\r\n",
        "        return code\r\n",
        "\r\n",
        "    def get_leaves(this):\r\n",
        "        leaves = []\r\n",
        "        if this.left == None and this.right == None:\r\n",
        "            leaves.append(this)\r\n",
        "        else:\r\n",
        "            leaves.extend(this.left.get_leaves())\r\n",
        "            leaves.extend(this.right.get_leaves())\r\n",
        "        return leaves\r\n"
      ],
      "execution_count": 96,
      "outputs": []
    },
    {
      "cell_type": "code",
      "metadata": {
        "id": "3rcDS3dOY3kC"
      },
      "source": [
        "from queue import PriorityQueue\r\n",
        "def make_huffman_tree(gap_counts):\r\n",
        "    q = PriorityQueue()\r\n",
        "    for k, v in gap_counts.items():\r\n",
        "        q.put(Node(str(k), v, None, None))\r\n",
        "    while q.qsize() > 1:\r\n",
        "        left = q.get()\r\n",
        "        right = q.get()\r\n",
        "        q.put(Node(left.gap + right.gap, left.count + right.count, left, right))\r\n",
        "    \r\n",
        "    return q.get()"
      ],
      "execution_count": 97,
      "outputs": []
    },
    {
      "cell_type": "code",
      "metadata": {
        "id": "us3hrXU9mgH8",
        "outputId": "4ca742aa-8d82-408c-de4c-f4d9c2bfc8e4",
        "colab": {
          "base_uri": "https://localhost:8080/"
        }
      },
      "source": [
        "make_huffman_tree(gap_counts).print_tree()"
      ],
      "execution_count": 98,
      "outputs": [
        {
          "output_type": "stream",
          "text": [
            "[Gap:  1224407886889058669611613015216019819220222022218819419019621017218414410698761101201009412615614813412211474325444148345662726470522218642483820102416309210282846810413214017015816617416415418018220418617617812412814215011214616816213613811810880504660362628  Count:  9999998 ]\n",
            "L__[Gap:  1224407886889058669611613015216019819220222022218819419019621017218414410698761101201009412615614813412211474325444148345662726470522218  Count:  4168814 ]\n",
            "|\tL__[Gap:  1224407886889058669611613015216019819220222022218819419019621017218414410698761101201009412615614813412211474325444  Count:  1855241 ]\n",
            "|\t|\tL__[Gap:  12  Count:  920661 ]\n",
            "|\t|\tL__[Gap:  24407886889058669611613015216019819220222022218819419019621017218414410698761101201009412615614813412211474325444  Count:  934580 ]\n",
            "|\t|\t|\tL__[Gap:  24  Count:  453215 ]\n",
            "|\t|\t|\tL__[Gap:  407886889058669611613015216019819220222022218819419019621017218414410698761101201009412615614813412211474325444  Count:  481365 ]\n",
            "|\t|\t|\t|\tL__[Gap:  407886889058669611613015216019819220222022218819419019621017218414410698761101201009412615614813412211474  Count:  229219 ]\n",
            "|\t|\t|\t|\t|\tL__[Gap:  40  Count:  111546 ]\n",
            "|\t|\t|\t|\t|\tL__[Gap:  7886889058669611613015216019819220222022218819419019621017218414410698761101201009412615614813412211474  Count:  117673 ]\n",
            "|\t|\t|\t|\t|\t|\tL__[Gap:  7886889058  Count:  55664 ]\n",
            "|\t|\t|\t|\t|\t|\t|\tL__[Gap:  78868890  Count:  27679 ]\n",
            "|\t|\t|\t|\t|\t|\t|\t|\tL__[Gap:  78  Count:  13758 ]\n",
            "|\t|\t|\t|\t|\t|\t|\t|\tL__[Gap:  868890  Count:  13921 ]\n",
            "|\t|\t|\t|\t|\t|\t|\t|\t|\tL__[Gap:  8688  Count:  6865 ]\n",
            "|\t|\t|\t|\t|\t|\t|\t|\t|\t|\tL__[Gap:  86  Count:  3411 ]\n",
            "|\t|\t|\t|\t|\t|\t|\t|\t|\t|\tL__[Gap:  88  Count:  3454 ]\n",
            "|\t|\t|\t|\t|\t|\t|\t|\t|\tL__[Gap:  90  Count:  7056 ]\n",
            "|\t|\t|\t|\t|\t|\t|\tL__[Gap:  58  Count:  27985 ]\n",
            "|\t|\t|\t|\t|\t|\tL__[Gap:  669611613015216019819220222022218819419019621017218414410698761101201009412615614813412211474  Count:  62009 ]\n",
            "|\t|\t|\t|\t|\t|\t|\tL__[Gap:  66  Count:  30960 ]\n",
            "|\t|\t|\t|\t|\t|\t|\tL__[Gap:  9611613015216019819220222022218819419019621017218414410698761101201009412615614813412211474  Count:  31049 ]\n",
            "|\t|\t|\t|\t|\t|\t|\t|\tL__[Gap:  961161301521601981922022202221881941901962101721841441069876  Count:  14442 ]\n",
            "|\t|\t|\t|\t|\t|\t|\t|\t|\tL__[Gap:  9611613015216019819220222022218819419019621017218414410698  Count:  7189 ]\n",
            "|\t|\t|\t|\t|\t|\t|\t|\t|\t|\tL__[Gap:  96  Count:  3544 ]\n",
            "|\t|\t|\t|\t|\t|\t|\t|\t|\t|\tL__[Gap:  11613015216019819220222022218819419019621017218414410698  Count:  3645 ]\n",
            "|\t|\t|\t|\t|\t|\t|\t|\t|\t|\t|\tL__[Gap:  116130152160198192202220222188194190196210172184144106  Count:  1814 ]\n",
            "|\t|\t|\t|\t|\t|\t|\t|\t|\t|\t|\t|\tL__[Gap:  116130152160198192202220222188194190196210172184144  Count:  881 ]\n",
            "|\t|\t|\t|\t|\t|\t|\t|\t|\t|\t|\t|\t|\tL__[Gap:  116  Count:  439 ]\n",
            "|\t|\t|\t|\t|\t|\t|\t|\t|\t|\t|\t|\t|\tL__[Gap:  130152160198192202220222188194190196210172184144  Count:  442 ]\n",
            "|\t|\t|\t|\t|\t|\t|\t|\t|\t|\t|\t|\t|\t|\tL__[Gap:  130  Count:  211 ]\n",
            "|\t|\t|\t|\t|\t|\t|\t|\t|\t|\t|\t|\t|\t|\tL__[Gap:  152160198192202220222188194190196210172184144  Count:  231 ]\n",
            "|\t|\t|\t|\t|\t|\t|\t|\t|\t|\t|\t|\t|\t|\t|\tL__[Gap:  152160198192202220222188194190196210172184  Count:  108 ]\n",
            "|\t|\t|\t|\t|\t|\t|\t|\t|\t|\t|\t|\t|\t|\t|\t|\tL__[Gap:  152  Count:  52 ]\n",
            "|\t|\t|\t|\t|\t|\t|\t|\t|\t|\t|\t|\t|\t|\t|\t|\tL__[Gap:  160198192202220222188194190196210172184  Count:  56 ]\n",
            "|\t|\t|\t|\t|\t|\t|\t|\t|\t|\t|\t|\t|\t|\t|\t|\t|\tL__[Gap:  160  Count:  27 ]\n",
            "|\t|\t|\t|\t|\t|\t|\t|\t|\t|\t|\t|\t|\t|\t|\t|\t|\tL__[Gap:  198192202220222188194190196210172184  Count:  29 ]\n",
            "|\t|\t|\t|\t|\t|\t|\t|\t|\t|\t|\t|\t|\t|\t|\t|\t|\t|\tL__[Gap:  198192202220222  Count:  13 ]\n",
            "|\t|\t|\t|\t|\t|\t|\t|\t|\t|\t|\t|\t|\t|\t|\t|\t|\t|\t|\tL__[Gap:  198  Count:  6 ]\n",
            "|\t|\t|\t|\t|\t|\t|\t|\t|\t|\t|\t|\t|\t|\t|\t|\t|\t|\t|\tL__[Gap:  192202220222  Count:  7 ]\n",
            "|\t|\t|\t|\t|\t|\t|\t|\t|\t|\t|\t|\t|\t|\t|\t|\t|\t|\t|\t|\tL__[Gap:  192  Count:  3 ]\n",
            "|\t|\t|\t|\t|\t|\t|\t|\t|\t|\t|\t|\t|\t|\t|\t|\t|\t|\t|\t|\tL__[Gap:  202220222  Count:  4 ]\n",
            "|\t|\t|\t|\t|\t|\t|\t|\t|\t|\t|\t|\t|\t|\t|\t|\t|\t|\t|\t|\t|\tL__[Gap:  202  Count:  2 ]\n",
            "|\t|\t|\t|\t|\t|\t|\t|\t|\t|\t|\t|\t|\t|\t|\t|\t|\t|\t|\t|\t|\tL__[Gap:  220222  Count:  2 ]\n",
            "|\t|\t|\t|\t|\t|\t|\t|\t|\t|\t|\t|\t|\t|\t|\t|\t|\t|\t|\t|\t|\t|\tL__[Gap:  220  Count:  1 ]\n",
            "|\t|\t|\t|\t|\t|\t|\t|\t|\t|\t|\t|\t|\t|\t|\t|\t|\t|\t|\t|\t|\t|\tL__[Gap:  222  Count:  1 ]\n",
            "|\t|\t|\t|\t|\t|\t|\t|\t|\t|\t|\t|\t|\t|\t|\t|\t|\t|\tL__[Gap:  188194190196210172184  Count:  16 ]\n",
            "|\t|\t|\t|\t|\t|\t|\t|\t|\t|\t|\t|\t|\t|\t|\t|\t|\t|\t|\tL__[Gap:  188194190196210  Count:  8 ]\n",
            "|\t|\t|\t|\t|\t|\t|\t|\t|\t|\t|\t|\t|\t|\t|\t|\t|\t|\t|\t|\tL__[Gap:  188194190196  Count:  4 ]\n",
            "|\t|\t|\t|\t|\t|\t|\t|\t|\t|\t|\t|\t|\t|\t|\t|\t|\t|\t|\t|\t|\tL__[Gap:  188194  Count:  2 ]\n",
            "|\t|\t|\t|\t|\t|\t|\t|\t|\t|\t|\t|\t|\t|\t|\t|\t|\t|\t|\t|\t|\t|\tL__[Gap:  188  Count:  1 ]\n",
            "|\t|\t|\t|\t|\t|\t|\t|\t|\t|\t|\t|\t|\t|\t|\t|\t|\t|\t|\t|\t|\t|\tL__[Gap:  194  Count:  1 ]\n",
            "|\t|\t|\t|\t|\t|\t|\t|\t|\t|\t|\t|\t|\t|\t|\t|\t|\t|\t|\t|\t|\tL__[Gap:  190196  Count:  2 ]\n",
            "|\t|\t|\t|\t|\t|\t|\t|\t|\t|\t|\t|\t|\t|\t|\t|\t|\t|\t|\t|\t|\t|\tL__[Gap:  190  Count:  1 ]\n",
            "|\t|\t|\t|\t|\t|\t|\t|\t|\t|\t|\t|\t|\t|\t|\t|\t|\t|\t|\t|\t|\t|\tL__[Gap:  196  Count:  1 ]\n",
            "|\t|\t|\t|\t|\t|\t|\t|\t|\t|\t|\t|\t|\t|\t|\t|\t|\t|\t|\t|\tL__[Gap:  210  Count:  4 ]\n",
            "|\t|\t|\t|\t|\t|\t|\t|\t|\t|\t|\t|\t|\t|\t|\t|\t|\t|\t|\tL__[Gap:  172184  Count:  8 ]\n",
            "|\t|\t|\t|\t|\t|\t|\t|\t|\t|\t|\t|\t|\t|\t|\t|\t|\t|\t|\t|\tL__[Gap:  172  Count:  4 ]\n",
            "|\t|\t|\t|\t|\t|\t|\t|\t|\t|\t|\t|\t|\t|\t|\t|\t|\t|\t|\t|\tL__[Gap:  184  Count:  4 ]\n",
            "|\t|\t|\t|\t|\t|\t|\t|\t|\t|\t|\t|\t|\t|\t|\tL__[Gap:  144  Count:  123 ]\n",
            "|\t|\t|\t|\t|\t|\t|\t|\t|\t|\t|\t|\tL__[Gap:  106  Count:  933 ]\n",
            "|\t|\t|\t|\t|\t|\t|\t|\t|\t|\t|\tL__[Gap:  98  Count:  1831 ]\n",
            "|\t|\t|\t|\t|\t|\t|\t|\t|\tL__[Gap:  76  Count:  7253 ]\n",
            "|\t|\t|\t|\t|\t|\t|\t|\tL__[Gap:  1101201009412615614813412211474  Count:  16607 ]\n",
            "|\t|\t|\t|\t|\t|\t|\t|\t|\tL__[Gap:  11012010094126156148134122114  Count:  8067 ]\n",
            "|\t|\t|\t|\t|\t|\t|\t|\t|\t|\tL__[Gap:  110120100  Count:  3812 ]\n",
            "|\t|\t|\t|\t|\t|\t|\t|\t|\t|\t|\tL__[Gap:  110120  Count:  1889 ]\n",
            "|\t|\t|\t|\t|\t|\t|\t|\t|\t|\t|\t|\tL__[Gap:  110  Count:  941 ]\n",
            "|\t|\t|\t|\t|\t|\t|\t|\t|\t|\t|\t|\tL__[Gap:  120  Count:  948 ]\n",
            "|\t|\t|\t|\t|\t|\t|\t|\t|\t|\t|\tL__[Gap:  100  Count:  1923 ]\n",
            "|\t|\t|\t|\t|\t|\t|\t|\t|\t|\tL__[Gap:  94126156148134122114  Count:  4255 ]\n",
            "|\t|\t|\t|\t|\t|\t|\t|\t|\t|\t|\tL__[Gap:  94  Count:  2058 ]\n",
            "|\t|\t|\t|\t|\t|\t|\t|\t|\t|\t|\tL__[Gap:  126156148134122114  Count:  2197 ]\n",
            "|\t|\t|\t|\t|\t|\t|\t|\t|\t|\t|\t|\tL__[Gap:  126156148134122  Count:  1072 ]\n",
            "|\t|\t|\t|\t|\t|\t|\t|\t|\t|\t|\t|\t|\tL__[Gap:  126  Count:  533 ]\n",
            "|\t|\t|\t|\t|\t|\t|\t|\t|\t|\t|\t|\t|\tL__[Gap:  156148134122  Count:  539 ]\n",
            "|\t|\t|\t|\t|\t|\t|\t|\t|\t|\t|\t|\t|\t|\tL__[Gap:  156148134  Count:  252 ]\n",
            "|\t|\t|\t|\t|\t|\t|\t|\t|\t|\t|\t|\t|\t|\t|\tL__[Gap:  156148  Count:  124 ]\n",
            "|\t|\t|\t|\t|\t|\t|\t|\t|\t|\t|\t|\t|\t|\t|\t|\tL__[Gap:  156  Count:  57 ]\n",
            "|\t|\t|\t|\t|\t|\t|\t|\t|\t|\t|\t|\t|\t|\t|\t|\tL__[Gap:  148  Count:  67 ]\n",
            "|\t|\t|\t|\t|\t|\t|\t|\t|\t|\t|\t|\t|\t|\t|\tL__[Gap:  134  Count:  128 ]\n",
            "|\t|\t|\t|\t|\t|\t|\t|\t|\t|\t|\t|\t|\t|\tL__[Gap:  122  Count:  287 ]\n",
            "|\t|\t|\t|\t|\t|\t|\t|\t|\t|\t|\t|\tL__[Gap:  114  Count:  1125 ]\n",
            "|\t|\t|\t|\t|\t|\t|\t|\t|\tL__[Gap:  74  Count:  8540 ]\n",
            "|\t|\t|\t|\tL__[Gap:  325444  Count:  252146 ]\n",
            "|\t|\t|\t|\t|\tL__[Gap:  32  Count:  123123 ]\n",
            "|\t|\t|\t|\t|\tL__[Gap:  5444  Count:  129023 ]\n",
            "|\t|\t|\t|\t|\t|\tL__[Gap:  54  Count:  64157 ]\n",
            "|\t|\t|\t|\t|\t|\tL__[Gap:  44  Count:  64866 ]\n",
            "|\tL__[Gap:  148345662726470522218  Count:  2313573 ]\n",
            "|\t|\tL__[Gap:  148  Count:  1069675 ]\n",
            "|\t|\t|\tL__[Gap:  14  Count:  503524 ]\n",
            "|\t|\t|\tL__[Gap:  8  Count:  566151 ]\n",
            "|\t|\tL__[Gap:  345662726470522218  Count:  1243898 ]\n",
            "|\t|\t|\tL__[Gap:  3456627264705222  Count:  576164 ]\n",
            "|\t|\t|\t|\tL__[Gap:  34566272647052  Count:  268934 ]\n",
            "|\t|\t|\t|\t|\tL__[Gap:  34  Count:  129043 ]\n",
            "|\t|\t|\t|\t|\tL__[Gap:  566272647052  Count:  139891 ]\n",
            "|\t|\t|\t|\t|\t|\tL__[Gap:  566272  Count:  66242 ]\n",
            "|\t|\t|\t|\t|\t|\t|\tL__[Gap:  56  Count:  32224 ]\n",
            "|\t|\t|\t|\t|\t|\t|\tL__[Gap:  6272  Count:  34018 ]\n",
            "|\t|\t|\t|\t|\t|\t|\t|\tL__[Gap:  62  Count:  16763 ]\n",
            "|\t|\t|\t|\t|\t|\t|\t|\tL__[Gap:  72  Count:  17255 ]\n",
            "|\t|\t|\t|\t|\t|\tL__[Gap:  647052  Count:  73649 ]\n",
            "|\t|\t|\t|\t|\t|\t|\tL__[Gap:  6470  Count:  34849 ]\n",
            "|\t|\t|\t|\t|\t|\t|\t|\tL__[Gap:  64  Count:  17374 ]\n",
            "|\t|\t|\t|\t|\t|\t|\t|\tL__[Gap:  70  Count:  17475 ]\n",
            "|\t|\t|\t|\t|\t|\t|\tL__[Gap:  52  Count:  38800 ]\n",
            "|\t|\t|\t|\tL__[Gap:  22  Count:  307230 ]\n",
            "|\t|\t|\tL__[Gap:  18  Count:  667734 ]\n",
            "L__[Gap:  642483820102416309210282846810413214017015816617416415418018220418617617812412814215011214616816213613811810880504660362628  Count:  5831184 ]\n",
            "|\tL__[Gap:  64248382010  Count:  2729946 ]\n",
            "|\t|\tL__[Gap:  6  Count:  1297540 ]\n",
            "|\t|\tL__[Gap:  4248382010  Count:  1432406 ]\n",
            "|\t|\t|\tL__[Gap:  42483820  Count:  702598 ]\n",
            "|\t|\t|\t|\tL__[Gap:  424838  Count:  348331 ]\n",
            "|\t|\t|\t|\t|\tL__[Gap:  42  Count:  159956 ]\n",
            "|\t|\t|\t|\t|\tL__[Gap:  4838  Count:  188375 ]\n",
            "|\t|\t|\t|\t|\t|\tL__[Gap:  48  Count:  93693 ]\n",
            "|\t|\t|\t|\t|\t|\tL__[Gap:  38  Count:  94682 ]\n",
            "|\t|\t|\t|\tL__[Gap:  20  Count:  354267 ]\n",
            "|\t|\t|\tL__[Gap:  10  Count:  729808 ]\n",
            "|\tL__[Gap:  2416309210282846810413214017015816617416415418018220418617617812412814215011214616816213613811810880504660362628  Count:  3101238 ]\n",
            "|\t|\tL__[Gap:  24  Count:  1477314 ]\n",
            "|\t|\t|\tL__[Gap:  2  Count:  738597 ]\n",
            "|\t|\t|\tL__[Gap:  4  Count:  738717 ]\n",
            "|\t|\tL__[Gap:  16309210282846810413214017015816617416415418018220418617617812412814215011214616816213613811810880504660362628  Count:  1623924 ]\n",
            "|\t|\t|\tL__[Gap:  1630  Count:  770390 ]\n",
            "|\t|\t|\t|\tL__[Gap:  16  Count:  371677 ]\n",
            "|\t|\t|\t|\tL__[Gap:  30  Count:  398713 ]\n",
            "|\t|\t|\tL__[Gap:  9210282846810413214017015816617416415418018220418617617812412814215011214616816213613811810880504660362628  Count:  853534 ]\n",
            "|\t|\t|\t|\tL__[Gap:  921028284681041321401701581661741641541801822041861761781241281421501121461681621361381181088050466036  Count:  413154 ]\n",
            "|\t|\t|\t|\t|\tL__[Gap:  9210282846810413214017015816617416415418018220418617617812412814215011214616816213613811810880504660  Count:  206432 ]\n",
            "|\t|\t|\t|\t|\t|\tL__[Gap:  921028284681041321401701581661741641541801822041861761781241281421501121461681621361381181088050  Count:  96196 ]\n",
            "|\t|\t|\t|\t|\t|\t|\tL__[Gap:  9210282846810413214017015816617416415418018220418617617812412814215011214616816213613811810880  Count:  44013 ]\n",
            "|\t|\t|\t|\t|\t|\t|\t|\tL__[Gap:  921028284  Count:  19242 ]\n",
            "|\t|\t|\t|\t|\t|\t|\t|\t|\tL__[Gap:  9210282  Count:  9424 ]\n",
            "|\t|\t|\t|\t|\t|\t|\t|\t|\t|\tL__[Gap:  92102  Count:  4633 ]\n",
            "|\t|\t|\t|\t|\t|\t|\t|\t|\t|\t|\tL__[Gap:  92  Count:  2259 ]\n",
            "|\t|\t|\t|\t|\t|\t|\t|\t|\t|\t|\tL__[Gap:  102  Count:  2374 ]\n",
            "|\t|\t|\t|\t|\t|\t|\t|\t|\t|\tL__[Gap:  82  Count:  4791 ]\n",
            "|\t|\t|\t|\t|\t|\t|\t|\t|\tL__[Gap:  84  Count:  9818 ]\n",
            "|\t|\t|\t|\t|\t|\t|\t|\tL__[Gap:  6810413214017015816617416415418018220418617617812412814215011214616816213613811810880  Count:  24771 ]\n",
            "|\t|\t|\t|\t|\t|\t|\t|\t|\tL__[Gap:  68  Count:  12368 ]\n",
            "|\t|\t|\t|\t|\t|\t|\t|\t|\tL__[Gap:  10413214017015816617416415418018220418617617812412814215011214616816213613811810880  Count:  12403 ]\n",
            "|\t|\t|\t|\t|\t|\t|\t|\t|\t|\tL__[Gap:  104132140170158166174164154180182204186176178124128142150112146168162136138118108  Count:  5643 ]\n",
            "|\t|\t|\t|\t|\t|\t|\t|\t|\t|\t|\tL__[Gap:  104132140170158166174164154180182204186176178124128142150  Count:  2457 ]\n",
            "|\t|\t|\t|\t|\t|\t|\t|\t|\t|\t|\t|\tL__[Gap:  104  Count:  1168 ]\n",
            "|\t|\t|\t|\t|\t|\t|\t|\t|\t|\t|\t|\tL__[Gap:  132140170158166174164154180182204186176178124128142150  Count:  1289 ]\n",
            "|\t|\t|\t|\t|\t|\t|\t|\t|\t|\t|\t|\t|\tL__[Gap:  132140170158166174164154180182204186176178  Count:  604 ]\n",
            "|\t|\t|\t|\t|\t|\t|\t|\t|\t|\t|\t|\t|\t|\tL__[Gap:  132  Count:  301 ]\n",
            "|\t|\t|\t|\t|\t|\t|\t|\t|\t|\t|\t|\t|\t|\tL__[Gap:  140170158166174164154180182204186176178  Count:  303 ]\n",
            "|\t|\t|\t|\t|\t|\t|\t|\t|\t|\t|\t|\t|\t|\t|\tL__[Gap:  140  Count:  140 ]\n",
            "|\t|\t|\t|\t|\t|\t|\t|\t|\t|\t|\t|\t|\t|\t|\tL__[Gap:  170158166174164154180182204186176178  Count:  163 ]\n",
            "|\t|\t|\t|\t|\t|\t|\t|\t|\t|\t|\t|\t|\t|\t|\t|\tL__[Gap:  170158166174164  Count:  76 ]\n",
            "|\t|\t|\t|\t|\t|\t|\t|\t|\t|\t|\t|\t|\t|\t|\t|\t|\tL__[Gap:  170158  Count:  37 ]\n",
            "|\t|\t|\t|\t|\t|\t|\t|\t|\t|\t|\t|\t|\t|\t|\t|\t|\t|\tL__[Gap:  170  Count:  18 ]\n",
            "|\t|\t|\t|\t|\t|\t|\t|\t|\t|\t|\t|\t|\t|\t|\t|\t|\t|\tL__[Gap:  158  Count:  19 ]\n",
            "|\t|\t|\t|\t|\t|\t|\t|\t|\t|\t|\t|\t|\t|\t|\t|\t|\tL__[Gap:  166174164  Count:  39 ]\n",
            "|\t|\t|\t|\t|\t|\t|\t|\t|\t|\t|\t|\t|\t|\t|\t|\t|\t|\tL__[Gap:  166174  Count:  19 ]\n",
            "|\t|\t|\t|\t|\t|\t|\t|\t|\t|\t|\t|\t|\t|\t|\t|\t|\t|\t|\tL__[Gap:  166  Count:  9 ]\n",
            "|\t|\t|\t|\t|\t|\t|\t|\t|\t|\t|\t|\t|\t|\t|\t|\t|\t|\t|\tL__[Gap:  174  Count:  10 ]\n",
            "|\t|\t|\t|\t|\t|\t|\t|\t|\t|\t|\t|\t|\t|\t|\t|\t|\t|\tL__[Gap:  164  Count:  20 ]\n",
            "|\t|\t|\t|\t|\t|\t|\t|\t|\t|\t|\t|\t|\t|\t|\t|\tL__[Gap:  154180182204186176178  Count:  87 ]\n",
            "|\t|\t|\t|\t|\t|\t|\t|\t|\t|\t|\t|\t|\t|\t|\t|\t|\tL__[Gap:  154  Count:  43 ]\n",
            "|\t|\t|\t|\t|\t|\t|\t|\t|\t|\t|\t|\t|\t|\t|\t|\t|\tL__[Gap:  180182204186176178  Count:  44 ]\n",
            "|\t|\t|\t|\t|\t|\t|\t|\t|\t|\t|\t|\t|\t|\t|\t|\t|\t|\tL__[Gap:  180182204186  Count:  21 ]\n",
            "|\t|\t|\t|\t|\t|\t|\t|\t|\t|\t|\t|\t|\t|\t|\t|\t|\t|\t|\tL__[Gap:  180  Count:  10 ]\n",
            "|\t|\t|\t|\t|\t|\t|\t|\t|\t|\t|\t|\t|\t|\t|\t|\t|\t|\t|\tL__[Gap:  182204186  Count:  11 ]\n",
            "|\t|\t|\t|\t|\t|\t|\t|\t|\t|\t|\t|\t|\t|\t|\t|\t|\t|\t|\t|\tL__[Gap:  182  Count:  5 ]\n",
            "|\t|\t|\t|\t|\t|\t|\t|\t|\t|\t|\t|\t|\t|\t|\t|\t|\t|\t|\t|\tL__[Gap:  204186  Count:  6 ]\n",
            "|\t|\t|\t|\t|\t|\t|\t|\t|\t|\t|\t|\t|\t|\t|\t|\t|\t|\t|\t|\t|\tL__[Gap:  204  Count:  3 ]\n",
            "|\t|\t|\t|\t|\t|\t|\t|\t|\t|\t|\t|\t|\t|\t|\t|\t|\t|\t|\t|\t|\tL__[Gap:  186  Count:  3 ]\n",
            "|\t|\t|\t|\t|\t|\t|\t|\t|\t|\t|\t|\t|\t|\t|\t|\t|\t|\tL__[Gap:  176178  Count:  23 ]\n",
            "|\t|\t|\t|\t|\t|\t|\t|\t|\t|\t|\t|\t|\t|\t|\t|\t|\t|\t|\tL__[Gap:  176  Count:  11 ]\n",
            "|\t|\t|\t|\t|\t|\t|\t|\t|\t|\t|\t|\t|\t|\t|\t|\t|\t|\t|\tL__[Gap:  178  Count:  12 ]\n",
            "|\t|\t|\t|\t|\t|\t|\t|\t|\t|\t|\t|\t|\tL__[Gap:  124128142150  Count:  685 ]\n",
            "|\t|\t|\t|\t|\t|\t|\t|\t|\t|\t|\t|\t|\t|\tL__[Gap:  124  Count:  318 ]\n",
            "|\t|\t|\t|\t|\t|\t|\t|\t|\t|\t|\t|\t|\t|\tL__[Gap:  128142150  Count:  367 ]\n",
            "|\t|\t|\t|\t|\t|\t|\t|\t|\t|\t|\t|\t|\t|\t|\tL__[Gap:  128  Count:  183 ]\n",
            "|\t|\t|\t|\t|\t|\t|\t|\t|\t|\t|\t|\t|\t|\t|\tL__[Gap:  142150  Count:  184 ]\n",
            "|\t|\t|\t|\t|\t|\t|\t|\t|\t|\t|\t|\t|\t|\t|\t|\tL__[Gap:  142  Count:  90 ]\n",
            "|\t|\t|\t|\t|\t|\t|\t|\t|\t|\t|\t|\t|\t|\t|\t|\tL__[Gap:  150  Count:  94 ]\n",
            "|\t|\t|\t|\t|\t|\t|\t|\t|\t|\t|\tL__[Gap:  112146168162136138118108  Count:  3186 ]\n",
            "|\t|\t|\t|\t|\t|\t|\t|\t|\t|\t|\t|\tL__[Gap:  112146168162136138118  Count:  1552 ]\n",
            "|\t|\t|\t|\t|\t|\t|\t|\t|\t|\t|\t|\t|\tL__[Gap:  112  Count:  711 ]\n",
            "|\t|\t|\t|\t|\t|\t|\t|\t|\t|\t|\t|\t|\tL__[Gap:  146168162136138118  Count:  841 ]\n",
            "|\t|\t|\t|\t|\t|\t|\t|\t|\t|\t|\t|\t|\t|\tL__[Gap:  146168162136138  Count:  408 ]\n",
            "|\t|\t|\t|\t|\t|\t|\t|\t|\t|\t|\t|\t|\t|\t|\tL__[Gap:  146168162136  Count:  198 ]\n",
            "|\t|\t|\t|\t|\t|\t|\t|\t|\t|\t|\t|\t|\t|\t|\t|\tL__[Gap:  146168162  Count:  98 ]\n",
            "|\t|\t|\t|\t|\t|\t|\t|\t|\t|\t|\t|\t|\t|\t|\t|\t|\tL__[Gap:  146  Count:  46 ]\n",
            "|\t|\t|\t|\t|\t|\t|\t|\t|\t|\t|\t|\t|\t|\t|\t|\t|\tL__[Gap:  168162  Count:  52 ]\n",
            "|\t|\t|\t|\t|\t|\t|\t|\t|\t|\t|\t|\t|\t|\t|\t|\t|\t|\tL__[Gap:  168  Count:  25 ]\n",
            "|\t|\t|\t|\t|\t|\t|\t|\t|\t|\t|\t|\t|\t|\t|\t|\t|\t|\tL__[Gap:  162  Count:  27 ]\n",
            "|\t|\t|\t|\t|\t|\t|\t|\t|\t|\t|\t|\t|\t|\t|\t|\tL__[Gap:  136  Count:  100 ]\n",
            "|\t|\t|\t|\t|\t|\t|\t|\t|\t|\t|\t|\t|\t|\t|\tL__[Gap:  138  Count:  210 ]\n",
            "|\t|\t|\t|\t|\t|\t|\t|\t|\t|\t|\t|\t|\t|\tL__[Gap:  118  Count:  433 ]\n",
            "|\t|\t|\t|\t|\t|\t|\t|\t|\t|\t|\t|\tL__[Gap:  108  Count:  1634 ]\n",
            "|\t|\t|\t|\t|\t|\t|\t|\t|\t|\tL__[Gap:  80  Count:  6760 ]\n",
            "|\t|\t|\t|\t|\t|\t|\tL__[Gap:  50  Count:  52183 ]\n",
            "|\t|\t|\t|\t|\t|\tL__[Gap:  4660  Count:  110236 ]\n",
            "|\t|\t|\t|\t|\t|\t|\tL__[Gap:  46  Count:  54931 ]\n",
            "|\t|\t|\t|\t|\t|\t|\tL__[Gap:  60  Count:  55305 ]\n",
            "|\t|\t|\t|\t|\tL__[Gap:  36  Count:  206722 ]\n",
            "|\t|\t|\t|\tL__[Gap:  2628  Count:  440380 ]\n",
            "|\t|\t|\t|\t|\tL__[Gap:  26  Count:  211203 ]\n",
            "|\t|\t|\t|\t|\tL__[Gap:  28  Count:  229177 ]\n"
          ],
          "name": "stdout"
        }
      ]
    },
    {
      "cell_type": "code",
      "metadata": {
        "id": "utWof0QejkcD"
      },
      "source": [
        "leaves = make_huffman_tree(gap_counts).get_leaves()\r\n",
        "\r\n",
        "codes = {}\r\n",
        "for leaf in leaves:\r\n",
        "    codes[leaf.gap] = tuple([leaf.code_to_root(), leaf.count])\r\n",
        "codes"
      ],
      "execution_count": null,
      "outputs": []
    },
    {
      "cell_type": "markdown",
      "metadata": {
        "id": "TUB4mD8u1DCa"
      },
      "source": [
        "# DONE Achieve Target Compression Ratios"
      ]
    },
    {
      "cell_type": "markdown",
      "metadata": {
        "id": "8Vw71EqJ18eE"
      },
      "source": [
        "Your solution should correctly compute the following three compression ratios:\n",
        "\n",
        "| Ratio       | Value              |\n",
        "|-------------|--------------------|\n",
        "| From fixed  | 36.125168653605158 |\n",
        "| From binary |              86.03 |\n",
        "| From ASCII  |              94.02 | \n"
      ]
    },
    {
      "cell_type": "code",
      "metadata": {
        "id": "oy-5FVt-c698",
        "outputId": "b27ee330-f577-4ef7-cce0-5c11a74acb33",
        "colab": {
          "base_uri": "https://localhost:8080/"
        }
      },
      "source": [
        "from math import ceil, floor, log, log10\r\n",
        "def compression_ratio(f, v):\r\n",
        "    return 100 * (f - v) / f\r\n",
        "\r\n",
        "def get_encoded_size(codes):\r\n",
        "    return sum([len(code) * count for gap, (code, count) in codes.items()])\r\n",
        "\r\n",
        "def get_fixed_size(codes):\r\n",
        "    bits_per_key = ceil(log(len(codes), 2))\r\n",
        "    total = 0\r\n",
        "    for gap, (code, count) in codes.items():\r\n",
        "        total += bits_per_key * count\r\n",
        "    return total\r\n",
        "\r\n",
        "def get_ascii_size(primes):\r\n",
        "    total = 0\r\n",
        "    for prime in primes:\r\n",
        "        total += len(str(prime) + '\\n') * 8\r\n",
        "    return total\r\n",
        "\r\n",
        "def get_binary_size(primes):\r\n",
        "    return 32 * len(primes)\r\n",
        "\r\n",
        "def report(codes, primes): \r\n",
        "    print(\"Fixed Compression Ratio:\", compression_ratio(get_fixed_size(codes), get_encoded_size(codes)))\r\n",
        "    print(\"Binary Compression Ratio:\", compression_ratio(get_binary_size(primes), get_encoded_size(codes)))\r\n",
        "    print(\"ASCII Compression Ratio:\", compression_ratio(get_ascii_size(primes), get_encoded_size(codes)))\r\n",
        "\r\n",
        "report(codes, primes)"
      ],
      "execution_count": 76,
      "outputs": [
        {
          "output_type": "stream",
          "text": [
            "Fixed Compression Ratio: 36.12516865360516\n",
            "Binary Compression Ratio: 86.0273834375\n",
            "ASCII Compression Ratio: 94.02141572742846\n"
          ],
          "name": "stdout"
        }
      ]
    },
    {
      "cell_type": "markdown",
      "metadata": {
        "id": "81dbKwHenxnT"
      },
      "source": [
        "# DONE My Report on What I Did and What I Learned"
      ]
    },
    {
      "cell_type": "markdown",
      "metadata": {
        "id": "C8BeiIern33B"
      },
      "source": [
        "## Fun\n"
      ]
    },
    {
      "cell_type": "markdown",
      "metadata": {
        "id": "ElukRLoezyxd"
      },
      "source": [
        "I had a blast with this assignment. While it was suggested that we should use the anytree package, I decided that I wanted to create my own system of nodes to use to create my Huffman tree. It was a challenge and I enjoyed completing it."
      ]
    },
    {
      "cell_type": "markdown",
      "metadata": {
        "id": "OzOkZ3son-u9"
      },
      "source": [
        "## New"
      ]
    },
    {
      "cell_type": "markdown",
      "metadata": {
        "id": "3-nYIdEUz4x5"
      },
      "source": [
        "I've always struggled to understand the math behind the final encoding compression ratios. Between the lectures this week, and having to figure out how to generate the final answers myself, it has finally become clear to me."
      ]
    },
    {
      "cell_type": "markdown",
      "metadata": {
        "id": "mJHvoj6GokaZ"
      },
      "source": [
        "## Meaningful\n"
      ]
    },
    {
      "cell_type": "markdown",
      "metadata": {
        "id": "XOxh3XFTz-6N"
      },
      "source": [
        "I am glad to finally have these ideas clear in my mind. I will need to understand them going forward in my education and in my future career."
      ]
    },
    {
      "cell_type": "markdown",
      "metadata": {
        "id": "_RBE03fhpNUG"
      },
      "source": [
        "## Other"
      ]
    },
    {
      "cell_type": "markdown",
      "metadata": {
        "id": "d-sXEeq60C3W"
      },
      "source": [
        "### Collaborators\r\n",
        "I worked alone this week. I did get a lot of ideas from in class activities where I worked with Davis Kerr and Michael Hegerhorst.\r\n",
        "\r\n",
        "### Connections\r\n",
        "In my efforts to recreate this tree in my own system, I connected Huffman encoding to the ideas behind binary search trees from when I was in Data Structures. This honestly was key to really cementing the ideas behind Huffman encoding into my head.\r\n",
        "\r\n",
        "### Going Forward\r\n",
        "While I feel I succeeded at a lot of things during this assignment, I feel as though my grasp of functional programming is weak and I plan to focus on that going forward."
      ]
    },
    {
      "cell_type": "markdown",
      "metadata": {
        "id": "Nrk-8EmgW4NP"
      },
      "source": [
        "# DONE What is True?\n",
        "Click on each warranted checkbox to toggle it to True (or back to False). \n",
        "\n",
        "NOTE: *This only works in Colab. If you run it in some other Jupyter notebook client/server environment you may have to change False to True (or vice versa) manually.*\n",
        "\n",
        "This self-assessment is subject to revision by a grader."
      ]
    },
    {
      "cell_type": "code",
      "metadata": {
        "id": "qGAjzgVRXR4M"
      },
      "source": [
        "#@markdown ## What is True about what I did?\n",
        "#@markdown ### I had fun.\n",
        "cb00 = True #@param {type:'boolean'}\n",
        "#@markdown ### I learned something new.\n",
        "cb01 = True #@param {type:'boolean'}\n",
        "#@markdown ### I achieved something meaningful, or something I can build upon at a later time.\n",
        "cb02 = True #@param {type:'boolean'}\n",
        "#@markdown ## What is True about my report?\n",
        "#@markdown ### I wrote a sufficient number of well-written sentences.\n",
        "cb03 = True #@param {type:'boolean'}\n",
        "#@markdown ### My report is free of mechanical infelicities.\n",
        "cb04 = True #@param {type:'boolean'}\n",
        "#@markdown ### I used Grammarly (or something better described in my report) to check for MIs.\n",
        "cb05 = True #@param {type:'boolean'}\n",
        "#@markdown ### I reported on any connections I found between these problems and something I already know. \n",
        "cb06 = True #@param {type:'boolean'}\n",
        "#@markdown ### I reported who were and what contribution each of my collaborators made.\n",
        "cb07 = True #@param {type:'boolean'}\n",
        "#@markdown ## What is True about my calculations?\n",
        "#@markdown ### I correctly calculated the number of times each gap size occurs. \n",
        "cb08 = True #@param {type:'boolean'}\n",
        "#@markdown ### I correctly calculated the number of bits per gap size with a fixed encoding.\n",
        "cb09 = True #@param {type:'boolean'}\n",
        "#@markdown ### I correctly calculated the total number of bits encoded with the Huffman encoding.\n",
        "cb10 = True #@param {type:'boolean'}\n",
        "#@markdown ### I correctly calculated the total number of bits encoded with the fixed encoding.\n",
        "cb11 = True #@param {type:'boolean'}\n",
        "#@markdown ### I correctly calculated the compression ratio from this fixed encoding.\n",
        "cb12 = True #@param {type:'boolean'}\n",
        "#@markdown ### I correctly calculated the size of the first ten million primes encoded as 32-bit integer binary data.\n",
        "cb13 = True #@param {type:'boolean'}\n",
        "#@markdown ### I correctly calculated the compression ratio from the binary size.\n",
        "cb14 = True #@param {type:'boolean'}\n",
        "#@markdown ### I correctly calculated the size of the first ten million primes encoded as ASCII data.\n",
        "cb15 = True #@param {type:'boolean'}\n",
        "#@markdown ### I correctly calculated the compression ratio from the ASCII size (just the primes, nothing else).\n",
        "cb16 = True #@param {type:'boolean'}"
      ],
      "execution_count": null,
      "outputs": []
    }
  ]
}