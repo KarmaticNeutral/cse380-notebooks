{
 "cells": [
  {
   "cell_type": "markdown",
   "metadata": {},
   "source": [
    "# About Generating Permutations and Combinations\n",
    "## Divide Pair Conquer\n",
    "### Due: Monday, 1 February 2021, 11:59pm\n"
   ]
  },
  {
   "cell_type": "markdown",
   "metadata": {},
   "source": [
    "There are many occasions when you need to *generate* the permutations or\n",
    "combinations of a set, not just count them.\n",
    "\n",
    "There are many algorithms for generating permutations and combinations --- you\n",
    "can find them if you look.\n",
    "\n",
    "For an application, from a biographical sketch about Donald Knuth by Kenneth\n",
    "Rosen, we learn that\n"
   ]
  },
  {
   "cell_type": "markdown",
   "metadata": {},
   "source": [
    "> \"Knuth grew up in Milwaukee, where his father taught bookkeeping at a Lutheran\n",
    "high school and owned a small printing business. He was an excellent student,\n",
    "earning academic achievement awards. He applied his intelligence in\n",
    "unconventional ways, winning a contest when he was in the eighth grade by\n",
    "finding as many words as possible that could be formed from the letters in\n",
    "\n",
    "---\n",
    "\n",
    "> **Ziegler's Giant Bar**.\n",
    "\n",
    "___\n",
    "\n",
    "> This won a television set for his school and a candy bar for everyone in his class.\n"
   ]
  },
  {
   "cell_type": "markdown",
   "metadata": {},
   "source": [
    "Knuth found over 4500 words. How many can **you** find?"
   ]
  },
  {
   "cell_type": "code",
   "execution_count": 1,
   "metadata": {},
   "outputs": [
    {
     "name": "stdout",
     "output_type": "stream",
     "text": [
      "370103\n"
     ]
    }
   ],
   "source": [
    "my_file = open(\"words.txt\", \"r\")\n",
    "words = my_file.readlines()\n",
    "print(len(words))"
   ]
  },
  {
   "cell_type": "code",
   "execution_count": 35,
   "metadata": {},
   "outputs": [
    {
     "name": "stdout",
     "output_type": "stream",
     "text": [
      "Words in this dictionary:  370103\n",
      "Words that can be spelled with the letters in 'Ziegler's Giant Bar':  5345\n"
     ]
    }
   ],
   "source": [
    "# Help from this arte: https://www.geeksforgeeks.org/possible-words-using-given-characters-python/\n",
    "# And from this post: https://stackoverfliclow.com/questions/35964155/checking-if-list-is-a-sublist\n",
    "\n",
    "def check_if_sublist(sublist, lst):\n",
    "    full_list = []\n",
    "    for item in lst:\n",
    "        full_list.append(item)\n",
    "\n",
    "    for item in sublist:\n",
    "        if item in full_list:\n",
    "            full_list.remove(item)\n",
    "        else:\n",
    "            return False\n",
    "    return True\n",
    "\n",
    "def get_letters(word): \n",
    "    letters = []\n",
    "    for i in word: \n",
    "        letters.append(i)\n",
    "    return letters\n",
    "  \n",
    "def get_possible_words(words, char_set):\n",
    "    pos_words = []\n",
    "    for word in words:\n",
    "        flag = 1\n",
    "        letters = get_letters(word) \n",
    "        if check_if_sublist(letters, char_set):\n",
    "            pos_words.append(word)\n",
    "    print(\"Words that can be spelled with the letters in 'Ziegler's Giant Bar': \", len(pos_words))\n",
    "\n",
    "words_file = open(\"words.txt\", \"r\")\n",
    "words = words_file.read().splitlines()\n",
    "print(\"Words in this dictionary: \", len(words))\n",
    "\n",
    "char_set = ['z', 'i', 'e', 'g', 'l', 'e', 'r', 's', 'g', 'i', 'a', 'n', 't', 'b', 'a', 'r', ' '] \n",
    "get_possible_words(words, char_set) "
   ]
  },
  {
   "cell_type": "code",
   "execution_count": null,
   "metadata": {},
   "outputs": [],
   "source": []
  }
 ],
 "metadata": {
  "kernelspec": {
   "display_name": "Python 3",
   "language": "python",
   "name": "python3"
  },
  "language_info": {
   "codemirror_mode": {
    "name": "ipython",
    "version": 3
   },
   "file_extension": ".py",
   "mimetype": "text/x-python",
   "name": "python",
   "nbconvert_exporter": "python",
   "pygments_lexer": "ipython3",
   "version": "3.9.1"
  }
 },
 "nbformat": 4,
 "nbformat_minor": 4
}
  "nbformat": 4,
  "nbformat_minor": 0,
  "metadata": {
    "kernelspec": {
      "display_name": "Python 3",
      "language": "python",
      "name": "python3"
    },
    "language_info": {
      "codemirror_mode": {
        "name": "ipython",
        "version": 3
      },
      "file_extension": ".py",
      "mimetype": "text/x-python",
      "name": "python",
      "nbconvert_exporter": "python",
      "pygments_lexer": "ipython3",
      "version": "3.9.1"
    },
    "colab": {
      "name": "about_generating_permutations_and_combinations.ipynb",
      "provenance": [],
      "include_colab_link": true
    }
  },
  "cells": [
    {
      "cell_type": "markdown",
      "metadata": {
        "id": "view-in-github",
        "colab_type": "text"
      },
      "source": [
        "<a href=\"https://colab.research.google.com/github/KarmaticNeutral/cse380-notebooks/blob/master/W05/about_generating_permutations_and_combinations.ipynb\" target=\"_parent\"><img src=\"https://colab.research.google.com/assets/colab-badge.svg\" alt=\"Open In Colab\"/></a>"
      ]
    },
    {
      "cell_type": "markdown",
      "metadata": {
        "id": "eFPr8XZsOHpo"
      },
      "source": [
        "This is where you would see feedback."
      ]
    },
    {
      "cell_type": "markdown",
      "metadata": {
        "id": "Nmqd16ESOGYv"
      },
      "source": [
        "# About Generating Permutations and Combinations\n",
        "## Divide Pair Conquer\n",
        "### Due: Monday, 1 February 2021, 11:59pm\n"
      ]
    },
    {
      "cell_type": "markdown",
      "metadata": {
        "id": "dpILaCZ-OGYx"
      },
      "source": [
        "There are many occasions when you need to *generate* the permutations or\n",
        "combinations of a set, not just count them.\n",
        "\n",
        "There are many algorithms for generating permutations and combinations --- you\n",
        "can find them if you look.\n",
        "\n",
        "For an application, from a biographical sketch about Donald Knuth by Kenneth\n",
        "Rosen, we learn that\n"
      ]
    },
    {
      "cell_type": "markdown",
      "metadata": {
        "id": "HdUccDUUOGYx"
      },
      "source": [
        "> \"Knuth grew up in Milwaukee, where his father taught bookkeeping at a Lutheran\n",
        "high school and owned a small printing business. He was an excellent student,\n",
        "earning academic achievement awards. He applied his intelligence in\n",
        "unconventional ways, winning a contest when he was in the eighth grade by\n",
        "finding as many words as possible that could be formed from the letters in\n",
        "\n",
        "---\n",
        "\n",
        "> **Ziegler's Giant Bar**.\n",
        "\n",
        "___\n",
        "\n",
        "> This won a television set for his school and a candy bar for everyone in his class.\n"
      ]
    },
    {
      "cell_type": "markdown",
      "metadata": {
        "id": "TgWFQVqFOGYy"
      },
      "source": [
        "Knuth found over 4500 words. How many can **you** find?"
      ]
    },
    {
      "cell_type": "code",
      "metadata": {
        "id": "WxoRgmYIOGYz",
        "outputId": "28e37fd6-a593-4e75-efd8-c2fcce8661f3"
      },
      "source": [
        "my_file = open(\"words.txt\", \"r\")\n",
        "words = my_file.readlines()\n",
        "print(len(words))"
      ],
      "execution_count": null,
      "outputs": [
        {
          "output_type": "stream",
          "text": [
            "370103\n"
          ],
          "name": "stdout"
        }
      ]
    },
    {
      "cell_type": "code",
      "metadata": {
        "id": "UmKYTz_2OGY0",
        "outputId": "377c8ee8-740b-4be7-cf84-5bd92f3d7865"
      },
      "source": [
        "# Help from this article: https://www.geeksforgeeks.org/possible-words-using-given-characters-python/\n",
        "# And from this post: https://stackoverflow.com/questions/35964155/checking-if-list-is-a-sublist\n",
        "\n",
        "def check_if_sublist(sublist, lst):\n",
        "    full_list = []\n",
        "    for item in lst:\n",
        "        full_list.append(item)\n",
        "\n",
        "    for item in sublist:\n",
        "        if item in full_list:\n",
        "            full_list.remove(item)\n",
        "        else:\n",
        "            return False\n",
        "    return True\n",
        "\n",
        "def get_letters(word): \n",
        "    letters = []\n",
        "    for i in word: \n",
        "        letters.append(i)\n",
        "    return letters\n",
        "  \n",
        "def get_possible_words(words, char_set):\n",
        "    pos_words = []\n",
        "    for word in words:\n",
        "        flag = 1\n",
        "        letters = get_letters(word) \n",
        "        if check_if_sublist(letters, char_set):\n",
        "            pos_words.append(word)\n",
        "    print(\"Words that can be spelled with the letters in 'Ziegler's Giant Bar': \", len(pos_words))\n",
        "\n",
        "words_file = open(\"words.txt\", \"r\")\n",
        "words = words_file.read().splitlines()\n",
        "print(\"Words in this dictionary: \", len(words))\n",
        "\n",
        "char_set = ['z', 'i', 'e', 'g', 'l', 'e', 'r', 's', 'g', 'i', 'a', 'n', 't', 'b', 'a', 'r', ' '] \n",
        "get_possible_words(words, char_set) "
      ],
      "execution_count": null,
      "outputs": [
        {
          "output_type": "stream",
          "text": [
            "Words in this dictionary:  370103\n",
            "Words that can be spelled with the letters in 'Ziegler's Giant Bar':  5345\n"
          ],
          "name": "stdout"
        }
      ]
    },
    {
      "cell_type": "code",
      "metadata": {
        "id": "RcG5lMPYOGY1"
      },
      "source": [
        ""
      ],
      "execution_count": null,
      "outputs": []
    }
  ]
}