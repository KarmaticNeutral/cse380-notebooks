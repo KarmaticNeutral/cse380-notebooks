{
 "cells": [
  {
   "cell_type": "code",
   "execution_count": 1,
   "metadata": {},
   "outputs": [],
   "source": [
    "def choose(n, k):\n",
    "    if k == 0:\n",
    "        return 1\n",
    "    return (n * choose(n - 1, k - 1)) / k"
   ]
  },
  {
   "cell_type": "code",
   "execution_count": 2,
   "metadata": {},
   "outputs": [
    {
     "data": {
      "text/plain": [
       "252.0"
      ]
     },
     "execution_count": 2,
     "metadata": {},
     "output_type": "execute_result"
    }
   ],
   "source": [
    "choose(10, 5)"
   ]
  },
  {
   "cell_type": "code",
   "execution_count": 3,
   "metadata": {},
   "outputs": [
    {
     "data": {
      "text/plain": [
       "3"
      ]
     },
     "execution_count": 3,
     "metadata": {},
     "output_type": "execute_result"
    }
   ],
   "source": [
    "def num_2s_prime_fac(n):\n",
    "    x = n\n",
    "    num_2s = 0\n",
    "    while x % 2 == 0:\n",
    "        num_2s = num_2s + 1\n",
    "        x = x / 2\n",
    "    return num_2s\n",
    "\n",
    "num_2s_prime_fac(200)"
   ]
  },
  {
   "cell_type": "code",
   "execution_count": 4,
   "metadata": {},
   "outputs": [
    {
     "data": {
      "text/plain": [
       "0"
      ]
     },
     "execution_count": 4,
     "metadata": {},
     "output_type": "execute_result"
    }
   ],
   "source": [
    "num_2s_prime_fac(1)"
   ]
  },
  {
   "cell_type": "code",
   "execution_count": 5,
   "metadata": {},
   "outputs": [],
   "source": [
    "def conjecture(m):\n",
    "    o = choose(2 * m, m) / 2 ** num_2s_prime_fac(m)\n",
    "    return o % 2 == 1 and o > 0"
   ]
  },
  {
   "cell_type": "code",
   "execution_count": 6,
   "metadata": {},
   "outputs": [],
   "source": [
    "def verify_block(current_number, block_size):\n",
    "    print(current_number)\n",
    "    for n in range(current_number, current_number + block_size):\n",
    "        if not conjecture(n):\n",
    "            print(\"FALSE AT \", n)\n",
    "            break"
   ]
  },
  {
   "cell_type": "code",
   "execution_count": null,
   "metadata": {},
   "outputs": [],
   "source": [
    "from datetime import datetime, timedelta\n",
    "\n",
    "start_date = datetime.now()\n",
    "end_date = datetime.now() + timedelta(hours = 0.0025)\n",
    "\n",
    "print(\"Start Time: \", start_date)\n",
    "print(\"Intended End Time: \", end_date)\n",
    "num_1s_bin = lambda n: bin(n).count('1')\n",
    "block_size = 100\n",
    "current_number = 1\n",
    "\n",
    "while(datetime.now() < end_date):\n",
    "    verify_block(current_number, block_size)\n",
    "    current_number += block_size\n",
    "\n",
    "print(\"Final Count: \", current_number)"
   ]
  },
  {
   "cell_type": "code",
   "execution_count": null,
   "metadata": {},
   "outputs": [],
   "source": []
  }
 ],
 "metadata": {
  "kernelspec": {
   "display_name": "Python 3",
   "language": "python",
   "name": "python3"
  },
  "language_info": {
   "codemirror_mode": {
    "name": "ipython",
    "version": 3
   },
   "file_extension": ".py",
   "mimetype": "text/x-python",
   "name": "python",
   "nbconvert_exporter": "python",
   "pygments_lexer": "ipython3",
   "version": "3.9.1"
  }
 },
 "nbformat": 4,
 "nbformat_minor": 4
}
