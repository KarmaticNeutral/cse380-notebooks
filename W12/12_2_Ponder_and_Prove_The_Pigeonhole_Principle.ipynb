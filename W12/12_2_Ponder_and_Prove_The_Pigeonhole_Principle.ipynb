{
  "nbformat": 4,
  "nbformat_minor": 0,
  "metadata": {
    "colab": {
      "name": "12_2_Ponder_and_Prove_The_Pigeonhole_Principle.ipynb",
      "provenance": [],
      "include_colab_link": true
    },
    "kernelspec": {
      "name": "python3",
      "display_name": "Python 3"
    },
    "language_info": {
      "name": "python"
    }
  },
  "cells": [
    {
      "cell_type": "markdown",
      "metadata": {
        "id": "view-in-github",
        "colab_type": "text"
      },
      "source": [
        "<a href=\"https://colab.research.google.com/github/KarmaticNeutral/cse380-notebooks/blob/master/W12/12_2_Ponder_and_Prove_The_Pigeonhole_Principle.ipynb\" target=\"_parent\"><img src=\"https://colab.research.google.com/assets/colab-badge.svg\" alt=\"Open In Colab\"/></a>"
      ]
    },
    {
      "cell_type": "markdown",
      "metadata": {
        "id": "ivY_Ypmxx7Vm"
      },
      "source": [
        "# Ponder and Prove The Pigeonhole Principle\n",
        "## Due: Saturday, 27 March 2021"
      ]
    },
    {
      "cell_type": "markdown",
      "metadata": {
        "id": "zF2K38sxyH5Z"
      },
      "source": [
        "## Exploration"
      ]
    },
    {
      "cell_type": "markdown",
      "metadata": {
        "id": "uBgYLYK5yJzk"
      },
      "source": [
        "You are invited to explore some of the ramifications of the *Pigeonhole Principle*, a fascinating counting principle belonging to combinatorics.\n"
      ]
    },
    {
      "cell_type": "markdown",
      "metadata": {
        "id": "cIS4n3DpyXA1"
      },
      "source": [
        "### Requirements"
      ]
    },
    {
      "cell_type": "markdown",
      "metadata": {
        "id": "FqgealMfyZc8"
      },
      "source": [
        "Read Brother Kent Bessey's essay entitled *Pigeons and Pigeonholes*, think about and explore the topics therein, and write your response thereto.\n",
        "\n",
        "Include in your response a description of a discussion about this essay that you will have had with someone *not in the class* (nor in any of the STEM majors). This person can be a spouse, friend, roommate, or relative. The point is to find someone who is not mathematically strong, and has probably never heard of the Pigeonhole Principle, or combinatorics (or discrete mathematics) in general."
      ]
    },
    {
      "cell_type": "markdown",
      "metadata": {
        "id": "aPEEcqUGzFds"
      },
      "source": [
        "#### Copyright Note"
      ]
    },
    {
      "cell_type": "markdown",
      "metadata": {
        "id": "9EPgpQ0hzHr5"
      },
      "source": [
        "Brother Kent A. Bessey, Professor of Mathematics at BYU-Idaho, holds the copyright to this essay, which means:\n",
        "\n",
        "> All rights reserved (by him). Reproduced by permission (from him).\n",
        "Read-only. Please do not copy, print, transmit or save a copy of\n",
        "this work.\n",
        "\n",
        "He has authorized your temporary use of his work, which [you can find here](https://firstthreeodds.org/17657741833134731255/pigeons-and-pigeonholes.pdf)."
      ]
    },
    {
      "cell_type": "markdown",
      "metadata": {
        "id": "vRKIt3NOzkwH"
      },
      "source": [
        "### DONE Concretize the Abstract by Writing Some Code"
      ]
    },
    {
      "cell_type": "markdown",
      "metadata": {
        "id": "ngXSoVu3znIJ"
      },
      "source": [
        "Specifically, write some Python code to help you figure out the problem on page 40, which Brother Bessey prefaces by saying:\n",
        "\n",
        "> I leave it to the reader to verify the calculations for a final (albeit challenging) exercise ...!\n",
        "\n",
        "Include the results of your grappling with this problem, and note the two stubbed functions below that you must flesh out in order to verify the calculations and explain the hows and whys."
      ]
    },
    {
      "cell_type": "markdown",
      "metadata": {
        "id": "_WzNcDTlPX8L"
      },
      "source": [
        ">At least two people in Idaho have the same initials (including\n",
        "middle initial, if any) and the following characteristics: either all\n",
        "of them or none of them are LDS; all of them or none of them\n",
        "like cats; all of them or none of them were born before 1967; all of\n",
        "them or none of them wear contacts; all of them or none of them\n",
        "bite their fingernails; all of them or none of them live within 3 ½\n",
        "miles of a McDonald’s."
      ]
    },
    {
      "cell_type": "markdown",
      "metadata": {
        "id": "zgRoe3nJVgRd"
      },
      "source": [
        "### Answer\n",
        "All of the categories have only 2 options. This means that each represents 2 possible pigeon holes that all of the pigeons must fit in to. In other words, all people in Idaho either wear contacts or they don't. \n",
        "\n",
        "As we consider these separate categories in the same problem however, we must be able to distinguish the separate categories still. \n",
        "\n",
        "We start with 2 pigeonholes, then as we add another category, we must make sure all possible types of people are represented. Namely:\n",
        "\n",
        "*   Fits Category 1, Fits Category 2\n",
        "*   Fits,            Doesn't Fit\n",
        "*   Doesn't Fit,     Fits\n",
        "*   Doesn't Fit,     Doesn't Fit\n",
        "\n",
        "From there, as we add a third category, we need to preserve all four of these categories and be able to represent each of the four with an additional distinction of fitting or not fitting the new category. In other words, we will need 2 more pigeonholes for each of the previous pigeonholes, bringing us to 8.\n",
        "\n",
        "What we have been doing is multiply by the number of pigeonholes in the new category when we add it to the division. So: \n",
        "\n",
        "$ 2 * 2 * 2 * 2 * 2 * 2 = 64$ represents our total number of pigeon holes from just the \"Are-Or-Are-Not\" categories from the initial problem.\n",
        "\n",
        "Then we take that 64 and multiply it by the total possible number of sets of 3 initials in Idaho. Again, we can use this same logic of multiplying each time we add a new category. We start with 26, as there are 26 letters in our alphabet. Then, because some people don't have a middle initial, we multiply by 27, allowing for a blank and the normal 26 characters. Then we final multiply by 26 again for the last initial. \n",
        "\n",
        "$ 26 * 27 * 26 = 18252 $ \n",
        "\n",
        "Now we have 2 larger categories: the possible initials, and the possible Boolean distinctions. We can simply multiply those together to get our final number of pigeonholes.\n",
        "\n",
        "$ 18252 * 64 = 1,168,128 $\n",
        "\n",
        "Since there are 1.787 million people in Idaho and we have 1.168 million Pigeon holes, there must be 2 people in some of the holes.\n",
        "\n",
        "In conclusion, there are at least two people that share all of these traits in Idaho."
      ]
    },
    {
      "cell_type": "markdown",
      "metadata": {
        "id": "EBQNhzqGzzIF"
      },
      "source": [
        "#### Stub Code"
      ]
    },
    {
      "cell_type": "code",
      "metadata": {
        "id": "fCOUkHjqz10k"
      },
      "source": [
        "class Pigeon:\n",
        "    first_initial = ''\n",
        "    middle_initial = ''\n",
        "    last_initial = ''\n",
        "    LDS = False\n",
        "    cats = False\n",
        "    birth_before_1967 = False\n",
        "    contacts = False\n",
        "    bite_fingernails = False\n",
        "    mcdonalds_close = False\n",
        "\n",
        "    def __init__(this, fi, mi, li, lds, cat, birth1967, contact, bite, mcdonalds):\n",
        "        this.first_initial = fi\n",
        "        this.middle_initial = mi\n",
        "        this.last_initial = li\n",
        "        this.LDS = lds\n",
        "        this.cats = cat\n",
        "        this.birth_before_1967 = birth1967\n",
        "        this.contacts = contact\n",
        "        this.bite_fingernails = bite\n",
        "        this.mcdonalds_close = mcdonalds\n",
        "    \n",
        "def calculate_number_of_possible_initials_including_middle_initial_if_any(n):\n",
        "    return n ** 2 * (n + 1) \n",
        "    \n",
        "#This is the way that I would implement this problem and how I am asked to\n",
        "# implement it at work.\n",
        "def pigeonhole_from_pigeon(p):\n",
        "    hole = p.first_initial + p.middle_initial + p.last_initial + \\\n",
        "           ('1' if p.LDS else '0') + ('1' if p.cats else '0') + \\\n",
        "           ('1' if p.birth_before_1967 else '0') + ('1' if p.contacts else '0') + \\\n",
        "           ('1' if p.bite_fingernails else '0') + ('1' if p.mcdonalds_close else '0')\n",
        "    return hole"
      ],
      "execution_count": 9,
      "outputs": []
    },
    {
      "cell_type": "code",
      "metadata": {
        "id": "WvUAfm__Ttmt",
        "outputId": "35756de9-8b8a-4dda-eb12-9d8823820d73",
        "colab": {
          "base_uri": "https://localhost:8080/"
        }
      },
      "source": [
        "calculate_number_of_possible_initials_including_middle_initial_if_any(26)"
      ],
      "execution_count": 10,
      "outputs": [
        {
          "output_type": "execute_result",
          "data": {
            "text/plain": [
              "18252"
            ]
          },
          "metadata": {
            "tags": []
          },
          "execution_count": 10
        }
      ]
    },
    {
      "cell_type": "code",
      "metadata": {
        "id": "zPM0XwiDUHGa",
        "outputId": "aedb3e11-421c-460c-8ae6-597f17499daa",
        "colab": {
          "base_uri": "https://localhost:8080/",
          "height": 35
        }
      },
      "source": [
        "p = Pigeon('T', 'J', 'T', True, False, False, False, True, True)\n",
        "pigeonhole_from_pigeon(p)"
      ],
      "execution_count": 11,
      "outputs": [
        {
          "output_type": "execute_result",
          "data": {
            "application/vnd.google.colaboratory.intrinsic+json": {
              "type": "string"
            },
            "text/plain": [
              "'TJT100011'"
            ]
          },
          "metadata": {
            "tags": []
          },
          "execution_count": 11
        }
      ]
    },
    {
      "cell_type": "code",
      "metadata": {
        "id": "LrYV2mtw43Pp"
      },
      "source": [
        "#This is how I am asked to complete this task for the assignment.\n",
        "\n",
        "def pigeonhole_from_pigeon(pigeon):\n",
        "    categories = [k for k in pigeon if not k == 'Name']\n",
        "    name = pigeon['Name'].split(' ')\n",
        "    final = name[0][0] + (name[1][0] if len(name) > 2 else ' ') + name[-1][0] + ':'\n",
        "    for cat in categories:\n",
        "        final += str(int(pigeon[cat]))\n",
        "    assert(len(final) == 10)\n",
        "    assert(calculate_number_of_possible_initials_including_middle_initial_if_any(26) * (2 ** len(categories)) > 1000000)\n",
        "    return final"
      ],
      "execution_count": 21,
      "outputs": []
    },
    {
      "cell_type": "code",
      "metadata": {
        "id": "oXCFolzo5PmV",
        "outputId": "59274027-a075-4b7b-a27d-d7fb3c8eef50",
        "colab": {
          "base_uri": "https://localhost:8080/",
          "height": 35
        }
      },
      "source": [
        "pigeon = {'Name': 'John Doe', 'LDS': True, 'Likes Cats': True, 'Born Before': True, 'Wears Contacts': False, 'Bites Fingernails': False, 'Lives Close': True}\n",
        "pigeonhole_from_pigeon(pigeon)"
      ],
      "execution_count": 22,
      "outputs": [
        {
          "output_type": "execute_result",
          "data": {
            "application/vnd.google.colaboratory.intrinsic+json": {
              "type": "string"
            },
            "text/plain": [
              "'J D:111001'"
            ]
          },
          "metadata": {
            "tags": []
          },
          "execution_count": 22
        }
      ]
    },
    {
      "cell_type": "markdown",
      "metadata": {
        "id": "JvMpIHMF0JuM"
      },
      "source": [
        "### DONE Find Applications of the Pigeonhole Principle"
      ]
    },
    {
      "cell_type": "markdown",
      "metadata": {
        "id": "9aicPoZG0Lbj"
      },
      "source": [
        "One application of this principle in graph theory is proving the idea that a graph with more than one node must have two nodes that share a degree.\n",
        "\n",
        "https://mindyourdecisions.com/blog/2008/11/25/16-fun-applications-of-the-pigeonhole-principle/\n",
        "\n",
        "1. For every 27 word sequence in the US constitution, at least two words will start will the same letter.\n",
        "2. In New York City, there are two non-bald people who have the same number of hairs on their head.\n",
        "3. Two or more people reading this blog will have the same birthday.\n",
        "4. On Thanksgiving, two or more of the consumed turkeys will have the same weight when rounded to the nearest millionth of a pound.\n",
        "5. At least two WordPress.com blogs have the same number of yearly comments.\n",
        "6. In a packed Carnegie Hall performance, there will be two people who have the same first and last initials.\n",
        "7. If you pick five cards from a standard deck of 52 cards, then at least two will be of the same suit.\n",
        "8. If you have 10 black socks and 10 white socks, and you are picking socks randomly, you will only need to pick three to find a matching pair.\n",
        "9. On New Years at New York’s Time Square, over 820 people will have the same birthday.\n",
        "10. Imagine a certain college has 6,000 American students, at least one from each of the 50 states. Then there must be a group of 120 students coming from same state.\n",
        "11. If you pick five numbers from the integers 1 to 8, then two of them must add up to nine.\n",
        "12. If you draw five points on the surface of an orange in permanent marker, then there is a way to cut the orange in half so that four of the points will lie on the same hemisphere (suppose a point exactly on the cut belongs to both hemispheres).\n",
        "13. Gary is training for a triathlon. Over a 30 day period, he pledges to train at least once per day, and 45 times in all. Then there will be a period of consecutive days where he trains exactly 14 times.\n",
        "14. In any cocktail party with two or more people, there must be at least two people who have the same number of friends.\n",
        "15. Imagine you are trying to cover a chessboard with pieces of domino each that covers exactly two squares. If you remove two diagonally opposite corners, it will be impossible to cover the chessboard.\n",
        "16. In a group of six people, there will always be three people that are mutual friends or mutual strangers. "
      ]
    },
    {
      "cell_type": "markdown",
      "metadata": {
        "id": "81dbKwHenxnT"
      },
      "source": [
        "## DONE My Report on What I Did and What I Learned"
      ]
    },
    {
      "cell_type": "markdown",
      "metadata": {
        "id": "C8BeiIern33B"
      },
      "source": [
        "### Fun\n"
      ]
    },
    {
      "cell_type": "markdown",
      "metadata": {
        "id": "ElukRLoezyxd"
      },
      "source": [
        "I wouldn't use the word fun to describe my experience, but I did enjoy the challenge of thinking about these problems in a different way. I hadn't really thought about these kinds of requirements before and this was a interesting approach to them."
      ]
    },
    {
      "cell_type": "markdown",
      "metadata": {
        "id": "OzOkZ3son-u9"
      },
      "source": [
        "### New"
      ]
    },
    {
      "cell_type": "markdown",
      "metadata": {
        "id": "3-nYIdEUz4x5"
      },
      "source": [
        "The whole concept of the Pigeonhole Principle is new to me. I am glad to have solidified it in my mind."
      ]
    },
    {
      "cell_type": "markdown",
      "metadata": {
        "id": "mJHvoj6GokaZ"
      },
      "source": [
        "### Meaningful\n"
      ]
    },
    {
      "cell_type": "markdown",
      "metadata": {
        "id": "XOxh3XFTz-6N"
      },
      "source": [
        "The most meaningful thing that I achieved was practicing speaking complicated concepts in words that anyone could understand."
      ]
    },
    {
      "cell_type": "markdown",
      "metadata": {
        "id": "_RBE03fhpNUG"
      },
      "source": [
        "### Other"
      ]
    },
    {
      "cell_type": "markdown",
      "metadata": {
        "id": "d-sXEeq60C3W"
      },
      "source": [
        "#### Connections\n",
        "\n",
        "I made a connection to the way that numbers work in different numbering systems when connecting the expansion of the definition of each individual pigeonhole. \n",
        "\n",
        "#### Collaborator\n",
        "\n",
        "I didn't collaborate with anyone this week.\n",
        "\n",
        "#### Contributions\n",
        "\n",
        "I used the logic that brother Neff showed us that took 26 * 26 + 26 * 26 * 26 and compressed it into a simpler algorithm.\n",
        "\n",
        "#### Conversation\n",
        "\n",
        "My conversation was pretty quick and straight forward. I mostly just used the explanation to the answer to the question on page 40 along with a few examples from the mind your decisions page that I shared. The most effect simple example was the 5 cards from a standard deck example and how two have to share a suit.\n",
        "\n",
        "When explaining my answer to the exercise, I needed to explain why we were multiplying the number of pigeonholes together, but other than that I was able to explain my answer quickly and efficiently.\n",
        "\n",
        "#### Report On The Essay\n",
        "Honestly, I found the majority of the paper uninspiring. It felt like the actual explanation of the principle was twice the length it needed to be simply because the author enjoyed doing simple arithmetic. I found other sources far better at enlightening me on the topic.\n",
        "\n",
        "That said, it did a fantastic job of helping me to know that this was not a question of chance, but of fact. I had been thinking of probabilities and proportions due to my time as a statistician. I needed the reality check that was this portion of the pigeonhole principle to be pointed out to me before it really sunk in.\n",
        "\n",
        "As for the assertion into the philosophical, I appreciate the ideas that were introduced indicating that we don't need to know the answer in order to know that there is an answer. This is a point that I have been coming to terms with for a long time in the religious portions of my life. I don't care much for the connection of the pigeonhole principle to these ideas. I guess I just don't see much philosophy or spiritual weight behind numbers."
      ]
    },
    {
      "cell_type": "markdown",
      "metadata": {
        "id": "Nrk-8EmgW4NP"
      },
      "source": [
        "## TODO What is True?\n",
        "Click on each warranted checkbox to toggle it to True (or back to False). \n",
        "\n",
        "NOTE: *This only works in Colab. If you run it in some other Jupyter notebook client/server environment you may have to change False to True (or vice versa) manually.*\n",
        "\n",
        "This self-assessment is subject to revision by a grader."
      ]
    },
    {
      "cell_type": "code",
      "metadata": {
        "id": "qGAjzgVRXR4M"
      },
      "source": [
        "#@markdown ## What is True about what I did?\n",
        "#@markdown ### I had fun.\n",
        "cb00 = False #@param {type:'boolean'}\n",
        "#@markdown ### I learned something new.\n",
        "cb01 = True #@param {type:'boolean'}\n",
        "#@markdown ### I achieved something meaningful, or something I can build upon at a later time.\n",
        "cb02 = True #@param {type:'boolean'}\n",
        "#@markdown ## What is True about my report?\n",
        "#@markdown ### I wrote a sufficient number of well-written sentences.\n",
        "cb03 = True #@param {type:'boolean'}\n",
        "#@markdown ### My report is free of mechanical infelicities.\n",
        "cb04 = True #@param {type:'boolean'}\n",
        "#@markdown ### I used Grammarly (or something better described in my report) to check for MIs.\n",
        "cb05 = True #@param {type:'boolean'}\n",
        "#@markdown ### I reported on any connections I found between these problems and something I already know. \n",
        "cb06 = True #@param {type:'boolean'}\n",
        "#@markdown ### I reported who were and what contribution each of my collaborators made.\n",
        "cb07 = True #@param {type:'boolean'}\n",
        "#@markdown ### I reported what I thought about the essay in general.\n",
        "cb08 = True #@param {type:'boolean'}\n",
        "#@markdown ### I reported what I thought about the certainty-not-chance feature of the pigeonhole principle.\n",
        "cb09 = True #@param {type:'boolean'}\n",
        "#@markdown ### I reported what I thought about the philosophical aspect of the pigeonhole principle per page 41.\n",
        "cb10 = True #@param {type:'boolean'}\n",
        "#@markdown ### I reported on how my discussion with a non-STEM non-classmate went.\n",
        "cb11 = True #@param {type:'boolean'}\n",
        "#@markdown ### I reported on how I grappled with the problem at the bottom of page 40.\n",
        "cb12 = True #@param {type:'boolean'}\n",
        "#@markdown ### I reported on the connection I found between the pigeonhole principle and graphs.\n",
        "cb13 = True #@param {type:'boolean'}\n",
        "#@markdown ## What is True about my code?\n",
        "#@markdown ### I implemented the first function (the one with the absurdly long name) in one or two lines of code.\n",
        "cb14 = True #@param {type:'boolean'}\n",
        "#@markdown ### I used either the sum rule and product rule together or else just the product rule in the first function.\n",
        "cb15 = True #@param {type:'boolean'}\n",
        "#@markdown ### The first function calculates and returns the correct value (see Exercise 250).\n",
        "cb16 = True #@param {type:'boolean'}\n",
        "#@markdown ### The second function inputs a dictionary like {'Name': 'John Doe', 'LDS': True, 'Likes Cats': True, 'Born Before': True, 'Wears Contacts': False, 'Bites Fingernails': False, 'Lives Close': True} and returns the string 'J D:111001'.\n",
        "cb17 = True #@param {type:'boolean'}\n",
        "#@markdown ### The second function calls the first function with the appropriate argument and uses the result.\n",
        "cb18 = True #@param {type:'boolean'}\n",
        "#@markdown ### The second function includes an assert that the length of the string being returned is 10.\n",
        "cb19 = True #@param {type:'boolean'}\n",
        "#@markdown ### The second function includes an assert that the cardinality of its codomain (set of possible return values) is over a million.\n",
        "cb20 = True #@param {type:'boolean'}"
      ],
      "execution_count": null,
      "outputs": []
    }
  ]
}