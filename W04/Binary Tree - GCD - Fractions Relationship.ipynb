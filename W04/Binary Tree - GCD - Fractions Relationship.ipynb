{
 "cells": [
  {
   "cell_type": "code",
   "execution_count": 1,
   "metadata": {},
   "outputs": [],
   "source": [
    "from math import floor, log10\n",
    "def trace_gcd(a, b):\n",
    "    r = -1\n",
    "    num_digits_in_a = str(floor(log10(a)) + 1)\n",
    "    num_digits_in_b = str(floor(log10(b)) + 1)\n",
    "    num_digits_in_r = str(floor(log10(a % b)) + 1)\n",
    "    format_specifier = '{0:' + num_digits_in_a + \\\n",
    "        '} = {1:' + num_digits_in_b + \\\n",
    "        '}({2}) + {3:' + num_digits_in_r + '}'\n",
    "    while r:\n",
    "        q = a // b\n",
    "        r = a % b\n",
    "        print(format_specifier.format(a, b, q, r))\n",
    "        a, b = b, r"
   ]
  },
  {
   "cell_type": "code",
   "execution_count": 2,
   "metadata": {},
   "outputs": [
    {
     "name": "stdout",
     "output_type": "stream",
     "text": [
      "87 = 55(1) + 32\n",
      "55 = 32(1) + 23\n",
      "32 = 23(1) +  9\n",
      "23 =  9(2) +  5\n",
      " 9 =  5(1) +  4\n",
      " 5 =  4(1) +  1\n",
      " 4 =  1(4) +  0\n"
     ]
    }
   ],
   "source": [
    "trace_gcd(87,55)"
   ]
  },
  {
   "cell_type": "code",
   "execution_count": 3,
   "metadata": {},
   "outputs": [
    {
     "name": "stdout",
     "output_type": "stream",
     "text": [
      "89 = 56(1) + 33\n",
      "56 = 33(1) + 23\n",
      "33 = 23(1) + 10\n",
      "23 = 10(2) +  3\n",
      "10 =  3(3) +  1\n",
      " 3 =  1(3) +  0\n"
     ]
    }
   ],
   "source": [
    "trace_gcd(89, 56)"
   ]
  },
  {
   "cell_type": "code",
   "execution_count": 4,
   "metadata": {},
   "outputs": [
    {
     "name": "stdout",
     "output_type": "stream",
     "text": [
      "56 = 89(0) + 56\n",
      "89 = 56(1) + 33\n",
      "56 = 33(1) + 23\n",
      "33 = 23(1) + 10\n",
      "23 = 10(2) +  3\n",
      "10 =  3(3) +  1\n",
      " 3 =  1(3) +  0\n"
     ]
    }
   ],
   "source": [
    "trace_gcd(56, 89)"
   ]
  },
  {
   "cell_type": "code",
   "execution_count": 6,
   "metadata": {},
   "outputs": [
    {
     "name": "stdout",
     "output_type": "stream",
     "text": [
      "Terms = 20\n",
      "CFR: [2, 1, 2, 1, 1, 4, 1, 1, 6, 1, 1, 8, 1, 1, 10, 1, 1, 12, 1, 1]\n",
      "Fraction: 28245729/10391023\n",
      "Float 2.718281828459046\n",
      "[2, 1, 2, 1, 1, 4, 1, 1, 6, 1, 1, 8, 1, 1, 10, 1, 1, 12, 2]\n"
     ]
    }
   ],
   "source": [
    "\n",
    "from fractions import Fraction as frac\n",
    "\n",
    "def contfrac2frac(seq):\n",
    "    \"\"\"Convert the simple continued fraction in `seq`\n",
    "       into a fraction with numerator num and denominator den.\n",
    "    \"\"\"\n",
    "    num, den = 1, 0\n",
    "    for u in reversed(seq):\n",
    "        num, den = den + num * u, num\n",
    "    return frac(num, den)\n",
    "\n",
    "def frac2contfrac(f):\n",
    "    \"\"\"Build the simple continued fraction expansion of fraction f.\n",
    "    \"\"\"\n",
    "    seq = []\n",
    "    frac2contfrac_rec(f, seq)\n",
    "    return seq\n",
    "\n",
    "def frac2contfrac_rec(f, seq):\n",
    "    n = f.numerator\n",
    "    d = f.denominator\n",
    "    if d != 0:\n",
    "        seq.append(n // d)\n",
    "        if n % d != 0:\n",
    "            frac2contfrac_rec(frac(d, n % d), seq)\n",
    "\n",
    "def e_cont_frac(n):\n",
    "    \"\"\"Build `n` terms of the simple continued fraction expansion of e\n",
    "        `n` must be a positive integer\n",
    "    \"\"\"\n",
    "    seq = [2 * (i + 1) // 3 if i % 3 == 2 else 1 for i in range(n)]\n",
    "    seq[0] += 1\n",
    "    return seq\n",
    "\n",
    "def eval_frac(f):\n",
    "    \"\"\"Evaluate the fraction f as a float.\n",
    "    \"\"\"\n",
    "    return f.numerator / f.denominator\n",
    "\n",
    "n = 20\n",
    "seq = e_cont_frac(n)\n",
    "e_as_frac = contfrac2frac(seq)\n",
    "\n",
    "print('Terms =', n)\n",
    "print('CFR:', seq)\n",
    "print('Fraction:', e_as_frac)\n",
    "print('Float {0:0.15f}'.format(eval_frac(e_as_frac)))\n",
    "print(frac2contfrac(e_as_frac))"
   ]
  },
  {
   "cell_type": "code",
   "execution_count": 9,
   "metadata": {},
   "outputs": [
    {
     "name": "stdout",
     "output_type": "stream",
     "text": [
      "[1, 1, 1, 2, 3, 3]\n",
      "1.618033988749895\n",
      "[1, 1, 1, 1, 1, 1, 1, 1, 1, 1, 1, 1, 1, 1, 1, 1, 1, 1, 1, 1, 1, 1, 1, 1, 1, 1, 1, 1, 1, 1, 1, 1, 1, 2]\n",
      "True\n",
      "377 = 233(1) + 144\n",
      "233 = 144(1) +  89\n",
      "144 =  89(1) +  55\n",
      " 89 =  55(1) +  34\n",
      " 55 =  34(1) +  21\n",
      " 34 =  21(1) +  13\n",
      " 21 =  13(1) +   8\n",
      " 13 =   8(1) +   5\n",
      "  8 =   5(1) +   3\n",
      "  5 =   3(1) +   2\n",
      "  3 =   2(1) +   1\n",
      "  2 =   1(2) +   0\n",
      "899 = 493(1) + 406\n",
      "493 = 406(1) +  87\n",
      "406 =  87(4) +  58\n",
      " 87 =  58(1) +  29\n",
      " 58 =  29(2) +   0\n"
     ]
    }
   ],
   "source": [
    "print(frac2contfrac(frac(89, 56)))\n",
    "from math import sqrt\n",
    "phi = (sqrt(5) + 1) / 2\n",
    "print(phi)\n",
    "phi_as_frac = frac(phi).limit_denominator(10000000)\n",
    "cfr_phi_as_frac = frac2contfrac(phi_as_frac)\n",
    "1\n",
    "print(cfr_phi_as_frac)\n",
    "print(all(map(lambda x: x == 1, cfr_phi_as_frac[:-1])))\n",
    "trace_gcd(377, 233)\n",
    "trace_gcd(899, 493)"
   ]
  },
  {
   "cell_type": "code",
   "execution_count": 10,
   "metadata": {},
   "outputs": [
    {
     "name": "stdout",
     "output_type": "stream",
     "text": [
      "5 = 2(2) + 1\n",
      "2 = 1(2) + 0\n"
     ]
    }
   ],
   "source": [
    "trace_gcd(5, 2)\n"
   ]
  },
  {
   "cell_type": "code",
   "execution_count": 11,
   "metadata": {},
   "outputs": [
    {
     "name": "stdout",
     "output_type": "stream",
     "text": [
      "8 = 3(2) + 2\n",
      "3 = 2(1) + 1\n",
      "2 = 1(2) + 0\n"
     ]
    }
   ],
   "source": [
    "trace_gcd(8, 3)"
   ]
  },
  {
   "cell_type": "code",
   "execution_count": 12,
   "metadata": {},
   "outputs": [
    {
     "name": "stdout",
     "output_type": "stream",
     "text": [
      "11 = 4(2) + 3\n",
      " 4 = 3(1) + 1\n",
      " 3 = 1(3) + 0\n"
     ]
    }
   ],
   "source": [
    "trace_gcd(11, 4)"
   ]
  },
  {
   "cell_type": "code",
   "execution_count": 13,
   "metadata": {},
   "outputs": [
    {
     "name": "stdout",
     "output_type": "stream",
     "text": [
      "106 = 39(2) + 28\n",
      " 39 = 28(1) + 11\n",
      " 28 = 11(2) +  6\n",
      " 11 =  6(1) +  5\n",
      "  6 =  5(1) +  1\n",
      "  5 =  1(5) +  0\n",
      "2.71828182845904509079559829842764884233474731445312\n"
     ]
    },
    {
     "ename": "ModuleNotFoundError",
     "evalue": "No module named 'mpmath'",
     "output_type": "error",
     "traceback": [
      "\u001b[1;31m---------------------------------------------------------------------------\u001b[0m",
      "\u001b[1;31mModuleNotFoundError\u001b[0m                       Traceback (most recent call last)",
      "\u001b[1;32m<ipython-input-13-5ce3195549c4>\u001b[0m in \u001b[0;36m<module>\u001b[1;34m\u001b[0m\n\u001b[0;32m      1\u001b[0m \u001b[0mtrace_gcd\u001b[0m\u001b[1;33m(\u001b[0m\u001b[1;36m106\u001b[0m\u001b[1;33m,\u001b[0m \u001b[1;36m39\u001b[0m\u001b[1;33m)\u001b[0m\u001b[1;33m\u001b[0m\u001b[1;33m\u001b[0m\u001b[0m\n\u001b[0;32m      2\u001b[0m \u001b[0mprint\u001b[0m\u001b[1;33m(\u001b[0m\u001b[1;34m'{0:.50f}'\u001b[0m\u001b[1;33m.\u001b[0m\u001b[0mformat\u001b[0m\u001b[1;33m(\u001b[0m\u001b[1;36m1038929163353808\u001b[0m \u001b[1;33m/\u001b[0m \u001b[1;36m382200680031313\u001b[0m\u001b[1;33m)\u001b[0m\u001b[1;33m)\u001b[0m\u001b[1;33m\u001b[0m\u001b[1;33m\u001b[0m\u001b[0m\n\u001b[1;32m----> 3\u001b[1;33m \u001b[1;32mfrom\u001b[0m \u001b[0mmpmath\u001b[0m \u001b[1;32mimport\u001b[0m \u001b[0mmp\u001b[0m\u001b[1;33m\u001b[0m\u001b[1;33m\u001b[0m\u001b[0m\n\u001b[0m\u001b[0;32m      4\u001b[0m \u001b[0mmp\u001b[0m\u001b[1;33m.\u001b[0m\u001b[0mdps\u001b[0m \u001b[1;33m=\u001b[0m \u001b[1;36m50\u001b[0m\u001b[1;33m\u001b[0m\u001b[1;33m\u001b[0m\u001b[0m\n\u001b[0;32m      5\u001b[0m \u001b[0mprint\u001b[0m\u001b[1;33m(\u001b[0m\u001b[0mmp\u001b[0m\u001b[1;33m.\u001b[0m\u001b[0mfdiv\u001b[0m\u001b[1;33m(\u001b[0m\u001b[1;36m1038929163353808\u001b[0m\u001b[1;33m,\u001b[0m \u001b[1;36m382200680031313\u001b[0m\u001b[1;33m)\u001b[0m\u001b[1;33m)\u001b[0m\u001b[1;33m\u001b[0m\u001b[1;33m\u001b[0m\u001b[0m\n",
      "\u001b[1;31mModuleNotFoundError\u001b[0m: No module named 'mpmath'"
     ]
    }
   ],
   "source": [
    "trace_gcd(106, 39)\n",
    "print('{0:.50f}'.format(1038929163353808 / 382200680031313))\n",
    "from mpmath import mp\n",
    "mp.dps = 50\n",
    "print(mp.fdiv(1038929163353808, 382200680031313))\n",
    "from math import e\n",
    "e_cont_frac = frac(e).limit_denominator(10000000000000000)\n",
    "print(e_as_frac, frac2contfrac(e_as_frac))"
   ]
  },
  {
   "cell_type": "code",
   "execution_count": null,
   "metadata": {},
   "outputs": [],
   "source": []
  }
 ],
 "metadata": {
  "kernelspec": {
   "display_name": "Python 3",
   "language": "python",
   "name": "python3"
  },
  "language_info": {
   "codemirror_mode": {
    "name": "ipython",
    "version": 3
   },
   "file_extension": ".py",
   "mimetype": "text/x-python",
   "name": "python",
   "nbconvert_exporter": "python",
   "pygments_lexer": "ipython3",
   "version": "3.9.1"
  }
 },
 "nbformat": 4,
 "nbformat_minor": 4
}
