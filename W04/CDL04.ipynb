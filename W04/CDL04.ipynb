{
 "cells": [
  {
   "cell_type": "code",
   "execution_count": 5,
   "metadata": {},
   "outputs": [
    {
     "name": "stdout",
     "output_type": "stream",
     "text": [
      "Terms = 20\n",
      "CFR: [2, 1, 2, 1, 1, 4, 1, 1, 6, 1, 1, 8, 1, 1, 10, 1, 1, 12, 1, 1]\n",
      "Fraction: 28245729/10391023\n",
      "Float 2.718281828459046\n",
      "[2, 1, 2, 1, 1, 4, 1, 1, 6, 1, 1, 8, 1, 1, 10, 1, 1, 12, 2]\n"
     ]
    }
   ],
   "source": [
    "\n",
    "from fractions import Fraction as frac\n",
    "\n",
    "def contfrac2frac(seq):\n",
    "    \"\"\"Convert the simple continued fraction in `seq`\n",
    "       into a fraction with numerator num and denominator den.\n",
    "    \"\"\"\n",
    "    num, den = 1, 0\n",
    "    for u in reversed(seq):\n",
    "        num, den = den + num * u, num\n",
    "    return frac(num, den)\n",
    "\n",
    "def frac2contfrac(f):\n",
    "    \"\"\"Build the simple continued fraction expansion of fraction f.\n",
    "    \"\"\"\n",
    "    seq = []\n",
    "    frac2contfrac_rec(f, seq)\n",
    "    return seq\n",
    "\n",
    "def frac2contfrac_rec(f, seq):\n",
    "    n = f.numerator\n",
    "    d = f.denominator\n",
    "    if d != 0:\n",
    "        seq.append(n // d)\n",
    "        if n % d != 0:\n",
    "            frac2contfrac_rec(frac(d, n % d), seq)\n",
    "\n",
    "def e_cont_frac(n):\n",
    "    \"\"\"Build `n` terms of the simple continued fraction expansion of e\n",
    "        `n` must be a positive integer\n",
    "    \"\"\"\n",
    "    seq = [2 * (i + 1) // 3 if i % 3 == 2 else 1 for i in range(n)]\n",
    "    seq[0] += 1\n",
    "    return seq\n",
    "\n",
    "def eval_frac(f):\n",
    "    \"\"\"Evaluate the fraction f as a float.\n",
    "    \"\"\"\n",
    "    return f.numerator / f.denominator\n",
    "\n",
    "n = 20\n",
    "seq = e_cont_frac(n)\n",
    "e_as_frac = contfrac2frac(seq)\n",
    "\n",
    "print('Terms =', n)\n",
    "print('CFR:', seq)\n",
    "print('Fraction:', e_as_frac)\n",
    "print('Float {0:0.15f}'.format(eval_frac(e_as_frac)))\n",
    "print(frac2contfrac(e_as_frac))"
   ]
  },
  {
   "cell_type": "code",
   "execution_count": 13,
   "metadata": {},
   "outputs": [
    {
     "data": {
      "text/plain": [
       "[1, 2, 2, 2, 2, 2, 2, 2, 2]"
      ]
     },
     "execution_count": 13,
     "metadata": {},
     "output_type": "execute_result"
    }
   ],
   "source": [
    "frac2contfrac(frac(1393, 985))"
   ]
  },
  {
   "cell_type": "markdown",
   "metadata": {},
   "source": [
    "$\\frac{1393}{985}$ is an inaccurate representation of the irrational square root of two."
   ]
  },
  {
   "cell_type": "code",
   "execution_count": 17,
   "metadata": {},
   "outputs": [
    {
     "data": {
      "text/plain": [
       "[1,\n",
       " 2,\n",
       " 2,\n",
       " 2,\n",
       " 2,\n",
       " 2,\n",
       " 2,\n",
       " 2,\n",
       " 2,\n",
       " 2,\n",
       " 2,\n",
       " 2,\n",
       " 2,\n",
       " 2,\n",
       " 2,\n",
       " 2,\n",
       " 2,\n",
       " 2,\n",
       " 2,\n",
       " 2,\n",
       " 2,\n",
       " 1,\n",
       " 1,\n",
       " 1,\n",
       " 2,\n",
       " 7,\n",
       " 1,\n",
       " 2,\n",
       " 33,\n",
       " 2,\n",
       " 7,\n",
       " 5,\n",
       " 2,\n",
       " 1,\n",
       " 1,\n",
       " 16,\n",
       " 2]"
      ]
     },
     "execution_count": 17,
     "metadata": {},
     "output_type": "execute_result"
    }
   ],
   "source": [
    "frac2contfrac(frac(2 ** 0.5))"
   ]
  },
  {
   "cell_type": "code",
   "execution_count": 19,
   "metadata": {},
   "outputs": [
    {
     "data": {
      "text/plain": [
       "[1,\n",
       " 1,\n",
       " 1,\n",
       " 1,\n",
       " 1,\n",
       " 1,\n",
       " 1,\n",
       " 1,\n",
       " 1,\n",
       " 1,\n",
       " 1,\n",
       " 1,\n",
       " 1,\n",
       " 1,\n",
       " 1,\n",
       " 1,\n",
       " 1,\n",
       " 1,\n",
       " 1,\n",
       " 1,\n",
       " 1,\n",
       " 1,\n",
       " 1,\n",
       " 1,\n",
       " 1,\n",
       " 1,\n",
       " 1,\n",
       " 1,\n",
       " 1,\n",
       " 1,\n",
       " 1,\n",
       " 1,\n",
       " 1,\n",
       " 1,\n",
       " 1,\n",
       " 1,\n",
       " 1,\n",
       " 1,\n",
       " 2,\n",
       " 7,\n",
       " 1,\n",
       " 5,\n",
       " 5,\n",
       " 1,\n",
       " 1,\n",
       " 2,\n",
       " 4,\n",
       " 1,\n",
       " 1,\n",
       " 10,\n",
       " 1,\n",
       " 2,\n",
       " 1,\n",
       " 8]"
      ]
     },
     "execution_count": 19,
     "metadata": {},
     "output_type": "execute_result"
    }
   ],
   "source": [
    "frac2contfrac(frac((1 + (5 ** 0.5)) / 2))"
   ]
  },
  {
   "cell_type": "code",
   "execution_count": null,
   "metadata": {},
   "outputs": [],
   "source": []
  }
 ],
 "metadata": {
  "kernelspec": {
   "display_name": "Python 3",
   "language": "python",
   "name": "python3"
  },
  "language_info": {
   "codemirror_mode": {
    "name": "ipython",
    "version": 3
   },
   "file_extension": ".py",
   "mimetype": "text/x-python",
   "name": "python",
   "nbconvert_exporter": "python",
   "pygments_lexer": "ipython3",
   "version": "3.9.1"
  }
 },
 "nbformat": 4,
 "nbformat_minor": 4
}
