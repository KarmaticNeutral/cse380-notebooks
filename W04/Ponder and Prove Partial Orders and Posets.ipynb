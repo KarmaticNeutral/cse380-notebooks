{
 "cells": [
  {
   "cell_type": "code",
   "execution_count": 4,
   "metadata": {},
   "outputs": [],
   "source": [
    "def subset_inclusion(subset, universal):\n",
    "    return set(subset).issubset(universal)"
   ]
  },
  {
   "cell_type": "code",
   "execution_count": 9,
   "metadata": {},
   "outputs": [
    {
     "name": "stdout",
     "output_type": "stream",
     "text": [
      "Set Membership\n",
      "1 is in the universal set:  True\n",
      "\n",
      "Subset Inclusion\n",
      "True\n",
      "False\n",
      "\n",
      "Set Union\n",
      "Set A: {1, 2, 3}\n",
      "Set B: {3, 4, 5}\n",
      "AuB: {1, 2, 3, 4, 5}\n",
      "\n",
      "Set Intersection\n",
      "Set A: {1, 2, 3}\n",
      "Set B: {3, 4, 5}\n",
      "A∩B: {3}\n"
     ]
    }
   ],
   "source": [
    "subset = [1, 2, 5]\n",
    "universal = [1, 2, 3, 4, 5]\n",
    "nonsubset = [1, 2, 7]\n",
    "\n",
    "print(\"Set Membership\")\n",
    "print(\"1 is in the universal set: \", 1 in universal)\n",
    "\n",
    "print(\"\\nSubset Inclusion\")\n",
    "print(subset_inclusion(subset, universal))\n",
    "print(subset_inclusion(nonsubset, universal))\n",
    "\n",
    "A = {1, 2, 3}\n",
    "B = {3, 4, 5}\n",
    "print(\"\\nSet Union\")\n",
    "print(\"Set A:\", A)\n",
    "print(\"Set B:\", B)\n",
    "print(\"AuB:\", A | B)\n",
    "\n",
    "print(\"\\nSet Intersection\")\n",
    "print(\"Set A:\", A)\n",
    "print(\"Set B:\", B)\n",
    "print(\"A∩B:\", A & B)\n",
    "\n"
   ]
  },
  {
   "cell_type": "code",
   "execution_count": null,
   "metadata": {},
   "outputs": [],
   "source": []
  }
 ],
 "metadata": {
  "kernelspec": {
   "display_name": "Python 3",
   "language": "python",
   "name": "python3"
  },
  "language_info": {
   "codemirror_mode": {
    "name": "ipython",
    "version": 3
   },
   "file_extension": ".py",
   "mimetype": "text/x-python",
   "name": "python",
   "nbconvert_exporter": "python",
   "pygments_lexer": "ipython3",
   "version": "3.9.1"
  }
 },
 "nbformat": 4,
 "nbformat_minor": 4
}
