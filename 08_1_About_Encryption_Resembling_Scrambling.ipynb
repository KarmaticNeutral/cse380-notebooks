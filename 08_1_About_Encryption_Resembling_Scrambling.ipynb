{
  "nbformat": 4,
  "nbformat_minor": 0,
  "metadata": {
    "colab": {
      "name": "08_1_About_Encryption_Resembling_Scrambling.ipynb",
      "provenance": [],
      "include_colab_link": true
    },
    "kernelspec": {
      "name": "python3",
      "display_name": "Python 3"
    }
  },
  "cells": [
    {
      "cell_type": "markdown",
      "metadata": {
        "id": "view-in-github",
        "colab_type": "text"
      },
      "source": [
        "<a href=\"https://colab.research.google.com/github/KarmaticNeutral/cse380-notebooks/blob/master/08_1_About_Encryption_Resembling_Scrambling.ipynb\" target=\"_parent\"><img src=\"https://colab.research.google.com/assets/colab-badge.svg\" alt=\"Open In Colab\"/></a>"
      ]
    },
    {
      "cell_type": "markdown",
      "metadata": {
        "id": "R41Y5Uaav8pu"
      },
      "source": [
        "# About Encryption Resembling Scrambling\n",
        "## Divide Pair Conquer\n",
        "### Due: Monday, 22 February 2021, 11:59 pm"
      ]
    },
    {
      "cell_type": "markdown",
      "metadata": {
        "id": "gSgt80RdwuCJ"
      },
      "source": [
        "## Introduction"
      ]
    },
    {
      "cell_type": "markdown",
      "metadata": {
        "id": "Qdv9SxTAwzAe"
      },
      "source": [
        "### Encryption is Like Scrambling"
      ]
    },
    {
      "cell_type": "markdown",
      "metadata": {
        "id": "33t5wnxNw8Qp"
      },
      "source": [
        "#### Perfect Shuffling"
      ]
    },
    {
      "cell_type": "code",
      "metadata": {
        "id": "jcgt2qMEw-7e"
      },
      "source": [
        "def shuffle(deck):\n",
        "  mid = len(deck) // 2\n",
        "  tuples = list(zip(deck[:mid], deck[mid:]))\n",
        "  return [i for sub in tuples for i in sub]\n",
        "\n",
        "deck0 = ['As', '2s', '3s', '4s', '5s', '6s', '7s', '8s', '9s', '10s', 'Js', 'Qs', 'Ks',\n",
        "         'Ah', '2h', '3h', '4h', '5h', '6h', '7h', '8h', '9h', '10h', 'Jh', 'Qh', 'Kh',\n",
        "         'Ac', '2c', '3c', '4c', '5c', '6c', '7c', '8c', '9c', '10c', 'Jc', 'Qc', 'Kc',\n",
        "         'Ad', '2d', '3d', '4d', '5d', '6d', '7d', '8d', '9d', '10d', 'Jd', 'Qd', 'Kd']\n",
        "\n",
        "deck1 = shuffle(deck0)\n",
        "deck2 = shuffle(deck1)\n",
        "deck3 = shuffle(deck2)\n",
        "deck4 = shuffle(deck3)\n",
        "deck5 = shuffle(deck4)\n",
        "deck6 = shuffle(deck5)\n",
        "deck7 = shuffle(deck6)\n",
        "deck8 = shuffle(deck7)"
      ],
      "execution_count": null,
      "outputs": []
    },
    {
      "cell_type": "code",
      "metadata": {
        "id": "adz3z9-7xH-S"
      },
      "source": [
        "deck0 == deck8"
      ],
      "execution_count": null,
      "outputs": []
    },
    {
      "cell_type": "code",
      "metadata": {
        "id": "LpbepDCuyUnw"
      },
      "source": [
        "deck5"
      ],
      "execution_count": null,
      "outputs": []
    },
    {
      "cell_type": "markdown",
      "metadata": {
        "id": "7FK5C1j5x48S"
      },
      "source": [
        "### What is the PCS Cryptosystem?\n",
        "(Perfect Card Shuffling)\n",
        "\n",
        "1. Get a new deck of cards.\n",
        "2. Choose a number, say 5 (this is your encryption key).\n",
        "3. Write a message, one character per card on your original deck.\n",
        "4. Perfect shuffle the deck 5 times.\n",
        "5. Send the shuffled deck to your friend.\n",
        "6. Your friend does (8 - 5 = 3) perfect shuffles to get the original order back."
      ]
    },
    {
      "cell_type": "markdown",
      "metadata": {
        "id": "UwvpbU4Lwzva"
      },
      "source": [
        "### How Does RSA Scramble?"
      ]
    },
    {
      "cell_type": "markdown",
      "metadata": {
        "id": "u_L0a4HyxZG6"
      },
      "source": [
        "Look at how RSA encryption shuffles/scrambles numbers (say the number 10) with some (very) small primes (say 2 and 11) and the smallest possible encryption exponent (3)."
      ]
    },
    {
      "cell_type": "code",
      "metadata": {
        "id": "5bu0pHFPxUKj"
      },
      "source": [
        "pow(10, 3, 2 * 11)"
      ],
      "execution_count": null,
      "outputs": []
    },
    {
      "cell_type": "markdown",
      "metadata": {
        "id": "FNhZGKBIxz8a"
      },
      "source": [
        "### Alternatively"
      ]
    },
    {
      "cell_type": "markdown",
      "metadata": {
        "id": "RYDJF01vx3Q3"
      },
      "source": [
        "What about with 3 and 11?"
      ]
    },
    {
      "cell_type": "code",
      "metadata": {
        "id": "b9GLFPRWx6pP"
      },
      "source": [
        "pow(10, 3, 33)"
      ],
      "execution_count": null,
      "outputs": []
    },
    {
      "cell_type": "markdown",
      "metadata": {
        "id": "4wxQamU-yACz"
      },
      "source": [
        "### Save Typing"
      ]
    },
    {
      "cell_type": "code",
      "metadata": {
        "id": "mqsYWl5CyCCa"
      },
      "source": [
        "for m in range(22):\n",
        "  c = pow(m, 3, 22)\n",
        "  print(m, c, m == c)"
      ],
      "execution_count": null,
      "outputs": []
    },
    {
      "cell_type": "code",
      "metadata": {
        "id": "NtH0zIouyRrG"
      },
      "source": [
        "for m in range(33):\n",
        "  c = pow(m, 3, 33)\n",
        "  print(m, c, m == c)"
      ],
      "execution_count": null,
      "outputs": []
    },
    {
      "cell_type": "markdown",
      "metadata": {
        "id": "P4XjVdpbyVO6"
      },
      "source": [
        "### Tabulate"
      ]
    },
    {
      "cell_type": "markdown",
      "metadata": {
        "id": "6bgQTBzSyYLV"
      },
      "source": [
        "Count how many scramblings are **not** derangements."
      ]
    },
    {
      "cell_type": "markdown",
      "metadata": {
        "id": "AXZC_waAyfWn"
      },
      "source": [
        "#### Definition"
      ]
    },
    {
      "cell_type": "markdown",
      "metadata": {
        "id": "LHLY0n3Ayg-g"
      },
      "source": [
        "A *derangement* is a permutation where no element is left in its original position."
      ]
    },
    {
      "cell_type": "code",
      "metadata": {
        "id": "ZHJpGswbypA_"
      },
      "source": [
        "from math import gcd\n",
        "from sympy import prime\n",
        "\n",
        "def find_first_e(n, t):\n",
        "  for e in range(3, n):\n",
        "    if gcd(e, t) == 1:\n",
        "      return e\n",
        "  return None\n",
        "\n",
        "headers = '| p | q | n | t | e | # |/| n |=|   %  |\\n'\\\n",
        "          '|---|---|---|---|---|---|-|---|-|------|'\n",
        "\n",
        "print(headers)\n",
        "\n",
        "for i in range(1, 9):\n",
        "  for j in range(i + 1, 9):\n",
        "    p, q = prime(i), prime(j)\n",
        "    n = p * q\n",
        "    t = (p - 1) * (q - 1)\n",
        "    e = find_first_e(n, t)\n",
        "    num = sum(map(lambda m: m == pow(m, e, n), range(0, n)))\n",
        "    print(f'|{p}|{q}|{n}|{t}|{e}|{num}|/|{n}|=|{num/n/.01:.2f}|')"
      ],
      "execution_count": null,
      "outputs": []
    },
    {
      "cell_type": "markdown",
      "metadata": {
        "id": "Wc7xgPsR0nGU"
      },
      "source": [
        "## Your DPC Tasks"
      ]
    },
    {
      "cell_type": "markdown",
      "metadata": {
        "id": "kkhscGNe0uBe"
      },
      "source": [
        "### DONE Investigate"
      ]
    },
    {
      "cell_type": "markdown",
      "metadata": {
        "id": "QRnG8WwI0xce"
      },
      "source": [
        "Why is 65537 ($2^{16} + 1$) typically used as **e**, the encryption exponent?"
      ]
    },
    {
      "cell_type": "markdown",
      "metadata": {
        "id": "ahbAuL-m2xvG"
      },
      "source": [
        "65537 is the largest known prime of a form derived from Fermat's Theorem. ($F_n = 2^{2^n}+1$ ; $F_4 = 65537$)\r\n",
        "- https://en.wikipedia.org/wiki/65,537\r\n",
        "\r\n",
        "\"e=65537 is a common compromise between being high, and increasing the cost of raising to the e-th power: any higher odd e cost at least one more multiplication (or squaring), which is true for odd exponents of the form 2k+1.\"\r\n",
        "- https://crypto.stackexchange.com/questions/3110/impacts-of-not-using-rsa-exponent-of-65537"
      ]
    },
    {
      "cell_type": "code",
      "metadata": {
        "id": "CVHEKvBr1BDk",
        "outputId": "4eee3825-4f17-4716-c7d1-15ef3038adaa",
        "colab": {
          "base_uri": "https://localhost:8080/"
        }
      },
      "source": [
        "e = 2 ** 16 + 1\n",
        "(e, bin(e))"
      ],
      "execution_count": 2,
      "outputs": [
        {
          "output_type": "execute_result",
          "data": {
            "text/plain": [
              "(65537, '0b10000000000000001')"
            ]
          },
          "metadata": {
            "tags": []
          },
          "execution_count": 2
        }
      ]
    },
    {
      "cell_type": "markdown",
      "metadata": {
        "id": "EIGjniwq09De"
      },
      "source": [
        "### DONE Explore"
      ]
    },
    {
      "cell_type": "markdown",
      "metadata": {
        "id": "acs-QjkD1PP6"
      },
      "source": [
        "The book gives some very vague constraints on **p** and **q**, the two primes used in RSA.\n",
        "\n",
        "Research the criteria the security community uses to judge the goodness (suitability) of these two primes, that in practice are randomly chosen.\n",
        "\n",
        "What is bad about the choice of **p** and **q** in this next cell?"
      ]
    },
    {
      "cell_type": "code",
      "metadata": {
        "id": "K1CkvoOi1hIB"
      },
      "source": [
        "p = 5179195214309\n",
        "q = 5179195214311\n",
        "n = p * q\n",
        "t = (p - 1) * (q - 1)\n",
        "e = 65537\n",
        "d = 17826498662743824930707633\n",
        "m = 5179195214304\n",
        "c = pow(m, e, n)\n",
        "m_again = pow(c, d, n)\n",
        "(c, m_again, m == m_again)"
      ],
      "execution_count": null,
      "outputs": []
    },
    {
      "cell_type": "markdown",
      "metadata": {
        "id": "HzTKvHJR4oX8"
      },
      "source": [
        "https://crypto.stackexchange.com/questions/35087/should-rsa-primes-p-and-q-differ-in-length-by-a-few-digits\r\n",
        "\r\n",
        "One thing that matters is that p and q differ in length by at least a few digits.\r\n",
        "\r\n",
        "This is one reason why the p and q values in the cell above are bad as they are the same length."
      ]
    },
    {
      "cell_type": "markdown",
      "metadata": {
        "id": "OCGpVDCv141v"
      },
      "source": [
        "### Bonus"
      ]
    },
    {
      "cell_type": "markdown",
      "metadata": {
        "id": "F8zaiIcQ16F3"
      },
      "source": [
        "From Wikipedia:\n",
        "\n",
        "\n",
        "\n",
        "> The earliest known statement of the [Chinese Remainder Theorem], as a problem with specific numbers, appears in the 3rd-century book *Sun-tzu Suan-ching* by the Chinese mathematician Sun-tzu:\n",
        "\n",
        "> There are certain things whose number is unknown. If we count them by threes,we have two left over; by fives, we have three left over; and by sevens, two are left over. How many things are there?\n",
        "\n",
        "Find all solutions, if any, to the system of congruences:\n",
        "\n",
        "$x \\equiv_{3} 2$\n",
        "\n",
        "$x \\equiv_{5} 3$\n",
        "\n",
        "$x \\equiv_{7} 2$\n",
        "\n"
      ]
    },
    {
      "cell_type": "markdown",
      "metadata": {
        "id": "UQGbqaRl2M8D"
      },
      "source": [
        "Can you solve this by hand?\n",
        "  \n",
        "That is, with just pencil and paper?\n",
        "\n",
        "### Answer\n",
        "\n",
        "I spent a lot of time trying to figure this out systematically on paper and could not. I am interested now though so I am going to try to do it by code."
      ]
    },
    {
      "cell_type": "code",
      "metadata": {
        "id": "6uIkUZiLAGC7",
        "outputId": "46780c34-66cd-4d0d-deae-49b3d5498a17",
        "colab": {
          "base_uri": "https://localhost:8080/"
        }
      },
      "source": [
        "for x in range(3 * 5 * 7):\r\n",
        "  mod3 = x % 3\r\n",
        "  mod5 = x % 5\r\n",
        "  mod7 = x % 7\r\n",
        "  if (mod3 == 2 and mod5 == 3 and mod7 == 2):\r\n",
        "    lowest_answer = x\r\n",
        "\r\n",
        "for n in range(lowest_answer, 10000, 3 * 5 * 7):\r\n",
        "  mod3 = n % 3\r\n",
        "  mod5 = n % 5\r\n",
        "  mod7 = n % 7\r\n",
        "  print(mod3, mod5, mod7, n, mod3 == 2 and mod5 == 3 and mod7 == 2)"
      ],
      "execution_count": 8,
      "outputs": [
        {
          "output_type": "stream",
          "text": [
            "2 3 2 23 True\n",
            "2 3 2 128 True\n",
            "2 3 2 233 True\n",
            "2 3 2 338 True\n",
            "2 3 2 443 True\n",
            "2 3 2 548 True\n",
            "2 3 2 653 True\n",
            "2 3 2 758 True\n",
            "2 3 2 863 True\n",
            "2 3 2 968 True\n",
            "2 3 2 1073 True\n",
            "2 3 2 1178 True\n",
            "2 3 2 1283 True\n",
            "2 3 2 1388 True\n",
            "2 3 2 1493 True\n",
            "2 3 2 1598 True\n",
            "2 3 2 1703 True\n",
            "2 3 2 1808 True\n",
            "2 3 2 1913 True\n",
            "2 3 2 2018 True\n",
            "2 3 2 2123 True\n",
            "2 3 2 2228 True\n",
            "2 3 2 2333 True\n",
            "2 3 2 2438 True\n",
            "2 3 2 2543 True\n",
            "2 3 2 2648 True\n",
            "2 3 2 2753 True\n",
            "2 3 2 2858 True\n",
            "2 3 2 2963 True\n",
            "2 3 2 3068 True\n",
            "2 3 2 3173 True\n",
            "2 3 2 3278 True\n",
            "2 3 2 3383 True\n",
            "2 3 2 3488 True\n",
            "2 3 2 3593 True\n",
            "2 3 2 3698 True\n",
            "2 3 2 3803 True\n",
            "2 3 2 3908 True\n",
            "2 3 2 4013 True\n",
            "2 3 2 4118 True\n",
            "2 3 2 4223 True\n",
            "2 3 2 4328 True\n",
            "2 3 2 4433 True\n",
            "2 3 2 4538 True\n",
            "2 3 2 4643 True\n",
            "2 3 2 4748 True\n",
            "2 3 2 4853 True\n",
            "2 3 2 4958 True\n",
            "2 3 2 5063 True\n",
            "2 3 2 5168 True\n",
            "2 3 2 5273 True\n",
            "2 3 2 5378 True\n",
            "2 3 2 5483 True\n",
            "2 3 2 5588 True\n",
            "2 3 2 5693 True\n",
            "2 3 2 5798 True\n",
            "2 3 2 5903 True\n",
            "2 3 2 6008 True\n",
            "2 3 2 6113 True\n",
            "2 3 2 6218 True\n",
            "2 3 2 6323 True\n",
            "2 3 2 6428 True\n",
            "2 3 2 6533 True\n",
            "2 3 2 6638 True\n",
            "2 3 2 6743 True\n",
            "2 3 2 6848 True\n",
            "2 3 2 6953 True\n",
            "2 3 2 7058 True\n",
            "2 3 2 7163 True\n",
            "2 3 2 7268 True\n",
            "2 3 2 7373 True\n",
            "2 3 2 7478 True\n",
            "2 3 2 7583 True\n",
            "2 3 2 7688 True\n",
            "2 3 2 7793 True\n",
            "2 3 2 7898 True\n",
            "2 3 2 8003 True\n",
            "2 3 2 8108 True\n",
            "2 3 2 8213 True\n",
            "2 3 2 8318 True\n",
            "2 3 2 8423 True\n",
            "2 3 2 8528 True\n",
            "2 3 2 8633 True\n",
            "2 3 2 8738 True\n",
            "2 3 2 8843 True\n",
            "2 3 2 8948 True\n",
            "2 3 2 9053 True\n",
            "2 3 2 9158 True\n",
            "2 3 2 9263 True\n",
            "2 3 2 9368 True\n",
            "2 3 2 9473 True\n",
            "2 3 2 9578 True\n",
            "2 3 2 9683 True\n",
            "2 3 2 9788 True\n",
            "2 3 2 9893 True\n",
            "2 3 2 9998 True\n"
          ],
          "name": "stdout"
        }
      ]
    },
    {
      "cell_type": "markdown",
      "metadata": {
        "id": "qjkhcHRi2Vg8"
      },
      "source": [
        "How about this one?\n",
        "\n",
        "Find all solutions, if any, to the system of congruences:\n",
        "\n",
        "$x \\equiv_{6} 5$\n",
        "\n",
        "$x \\equiv_{10} 3$\n",
        "\n",
        "$x \\equiv_{15} 8$\n"
      ]
    },
    {
      "cell_type": "code",
      "metadata": {
        "id": "qZICUTkrBqXM",
        "outputId": "842d086e-070d-4700-d210-656954af9772",
        "colab": {
          "base_uri": "https://localhost:8080/"
        }
      },
      "source": [
        "got_answers = False\r\n",
        "for x in range(6 * 10 * 15):\r\n",
        "  mod6 = x % 6\r\n",
        "  mod10 = x % 10\r\n",
        "  mod15 = x % 15\r\n",
        "  if (mod3 == 5 and mod10 == 3 and mod15 == 8):\r\n",
        "    got_answers = print_answers(x)\r\n",
        "if (not got_answers):\r\n",
        "  print(\"There are no answers\")\r\n",
        "\r\n",
        "def print_answers(lowest_answer):\r\n",
        "  all_true = True\r\n",
        "  for n in range(lowest_answer, 10000, 6 * 10 * 15):\r\n",
        "   mod6 = n % 6\r\n",
        "   mod10 = x % 10\r\n",
        "   mod15 = x % 15\r\n",
        "   all_true = all_true and mod6 == 5 and mod10 == 3 and mod15 == 8\r\n",
        "   print(mod6, mod10, mod15, n, mod6 == 5 and mod10 == 3 and mod15 == 8)\r\n",
        "  return all_true"
      ],
      "execution_count": 13,
      "outputs": [
        {
          "output_type": "stream",
          "text": [
            "There are no answers\n"
          ],
          "name": "stdout"
        }
      ]
    },
    {
      "cell_type": "markdown",
      "metadata": {
        "id": "cPtcNhGG2Yt5"
      },
      "source": [
        "Challenge yourselves to figure this out without using a computer.\n",
        "\n",
        "(You can use a calculator, but not its programmability, if it has it!)"
      ]
    },
    {
      "cell_type": "markdown",
      "metadata": {
        "id": "AwQuIgw35KrD"
      },
      "source": [
        "#### Hint"
      ]
    },
    {
      "cell_type": "markdown",
      "metadata": {
        "id": "9QqSobla5MWE"
      },
      "source": [
        "You cannot apply the Chinese Remainder Theorem directly, because the moduli are not pairwise coprime. Try using that consequence of the CRT that you used last week to translate these congruences into a set of congruences that together are equivalent to the given ones."
      ]
    }
  ]
}