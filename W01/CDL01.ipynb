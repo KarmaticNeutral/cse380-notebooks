{
 "cells": [
  {
   "cell_type": "code",
   "execution_count": 1,
   "metadata": {},
   "outputs": [],
   "source": [
    "def get_digits(number):\n",
    "    digits = []\n",
    "    result = -1\n",
    "    while (number != 0):\n",
    "        result = number % 10\n",
    "        number = (number - result) / 10\n",
    "        digits.append(result)\n",
    "    return digits"
   ]
  },
  {
   "cell_type": "code",
   "execution_count": 2,
   "metadata": {},
   "outputs": [],
   "source": [
    "def get_sum_of_squares(digits):\n",
    "    sum = 0\n",
    "    for digit in digits:\n",
    "        sum = sum + digit ** 2\n",
    "    return sum"
   ]
  },
  {
   "cell_type": "code",
   "execution_count": 3,
   "metadata": {},
   "outputs": [
    {
     "name": "stdout",
     "output_type": "stream",
     "text": [
      "14.0\n"
     ]
    }
   ],
   "source": [
    "print(get_sum_of_squares(get_digits(123)))"
   ]
  },
  {
   "cell_type": "code",
   "execution_count": 21,
   "metadata": {},
   "outputs": [],
   "source": [
    "def try_cycle(starting_number):\n",
    "    cycle = [starting_number]\n",
    "    this_number = starting_number\n",
    "    while True:\n",
    "\n",
    "        this_number = get_sum_of_squares(get_digits(this_number))\n",
    "        cycle.append(this_number)\n",
    "\n",
    "        if (this_number == starting_number):\n",
    "            break;\n",
    "        if (len(cycle) > 100):\n",
    "            break;\n",
    "    if (len(cycle) < 100):\n",
    "        print(\"Cycle for \" + str(starting_number) + \":\")\n",
    "        print(cycle)"
   ]
  },
  {
   "cell_type": "code",
   "execution_count": 23,
   "metadata": {},
   "outputs": [
    {
     "name": "stdout",
     "output_type": "stream",
     "text": [
      "Any numbers without a cycle listed do not cycle within 100 digits.\n",
      "Cycle for 1:\n",
      "[1, 1]\n",
      "Cycle for 4:\n",
      "[4, 16, 37.0, 58.0, 89.0, 145.0, 42.0, 20.0, 4.0]\n",
      "Cycle for 16:\n",
      "[16, 37.0, 58.0, 89.0, 145.0, 42.0, 20.0, 4.0, 16.0]\n",
      "Cycle for 20:\n",
      "[20, 4.0, 16.0, 37.0, 58.0, 89.0, 145.0, 42.0, 20.0]\n",
      "Cycle for 37:\n",
      "[37, 58.0, 89.0, 145.0, 42.0, 20.0, 4.0, 16.0, 37.0]\n",
      "Cycle for 42:\n",
      "[42, 20.0, 4.0, 16.0, 37.0, 58.0, 89.0, 145.0, 42.0]\n",
      "Cycle for 58:\n",
      "[58, 89.0, 145.0, 42.0, 20.0, 4.0, 16.0, 37.0, 58.0]\n",
      "Cycle for 89:\n",
      "[89, 145.0, 42.0, 20.0, 4.0, 16.0, 37.0, 58.0, 89.0]\n",
      "Cycle for 145:\n",
      "[145, 42.0, 20.0, 4.0, 16.0, 37.0, 58.0, 89.0, 145.0]\n"
     ]
    }
   ],
   "source": [
    "print(\"Any numbers without a cycle listed do not cycle within 100 digits.\")\n",
    "for num in range(1, 1000):\n",
    "    try_cycle(num)"
   ]
  }
 ],
 "metadata": {
  "kernelspec": {
   "display_name": "Python 3",
   "language": "python",
   "name": "python3"
  },
  "language_info": {
   "codemirror_mode": {
    "name": "ipython",
    "version": 3
   },
   "file_extension": ".py",
   "mimetype": "text/x-python",
   "name": "python",
   "nbconvert_exporter": "python",
   "pygments_lexer": "ipython3",
   "version": "3.9.1"
  }
 },
 "nbformat": 4,
 "nbformat_minor": 4
}
