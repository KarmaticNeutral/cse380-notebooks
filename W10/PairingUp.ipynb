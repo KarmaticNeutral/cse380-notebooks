{
  "nbformat": 4,
  "nbformat_minor": 0,
  "metadata": {
    "colab": {
      "name": "Untitled.ipynb",
      "provenance": []
    },
    "kernelspec": {
      "name": "python3",
      "display_name": "Python 3"
    }
  },
  "cells": [
    {
      "cell_type": "code",
      "metadata": {
        "id": "TxFXlBYAQ1Gj",
        "outputId": "a29a176d-c9c0-47a9-cd63-8feeb1a571bd",
        "colab": {
          "base_uri": "https://localhost:8080/"
        }
      },
      "source": [
        "from random import randint\r\n",
        "def create_matrix(n):\r\n",
        "    matrix = []\r\n",
        "    for i in range(1, n + 1):\r\n",
        "        row = []\r\n",
        "        for j in range(1, n + 1):\r\n",
        "            if randint(0, 1) > 0:\r\n",
        "                row.append(0)\r\n",
        "            else:\r\n",
        "                row.append(1)\r\n",
        "        matrix.append(row)\r\n",
        "    return matrix\r\n",
        "\r\n",
        "def rescale_row(matrix):\r\n",
        "    for row in matrix:\r\n",
        "        sum = 0\r\n",
        "        for item in row:\r\n",
        "            sum += item\r\n",
        "        for i in range(0, len(row)):\r\n",
        "            if sum == 0:\r\n",
        "                row[i] = 0\r\n",
        "            else:\r\n",
        "                row[i] = row[i] / sum\r\n",
        "    return matrix\r\n",
        "\r\n",
        "def rescale_col(matrix):\r\n",
        "    for i in range(0, len(matrix)):\r\n",
        "        sum = 0\r\n",
        "        for j in range(0, len(matrix[i])):\r\n",
        "            sum += matrix[j][i]\r\n",
        "        for j in range(0, len(matrix[i])):\r\n",
        "            if sum == 0:\r\n",
        "                matrix[j][i] = 0\r\n",
        "            else:\r\n",
        "                matrix[j][i] = matrix[j][i] / sum\r\n",
        "    return matrix\r\n",
        "        \r\n",
        "def print_matrix(matrix, n):\r\n",
        "    sums = []\r\n",
        "    for row in matrix:\r\n",
        "        sum = 0\r\n",
        "        for item in row:\r\n",
        "            sum += item\r\n",
        "            print(\"\\t{:.1f}\".format(item), end = \"\")\r\n",
        "        print(\" = \", \"{:.1f}\".format(sum))\r\n",
        "        #print(row, sum)\r\n",
        "        sums.append(sum)\r\n",
        "    for i in range(0, len(matrix)):\r\n",
        "        sum = 0\r\n",
        "        for j in range(0, len(matrix[i])):\r\n",
        "            sum += matrix[j][i]\r\n",
        "        print(\"\\t{:.1f}\".format(sum), end = \" \")\r\n",
        "        #print(sum, end = \" \")\r\n",
        "        sums.append(sum)\r\n",
        "    print(\"\\nPairs All: \", pairs_all(sums, n))\r\n",
        "\r\n",
        "def pairs_all(sums, n):\r\n",
        "    for sum in sums:\r\n",
        "        if sum > 1 + (1 / n) or sum < 1 - (1 / n):\r\n",
        "            return False\r\n",
        "    return True\r\n",
        "\r\n",
        "n = 10\r\n",
        "matrix = create_matrix(n)\r\n",
        "print_matrix(matrix, n)\r\n",
        "\r\n",
        "for time in range(0, n ** 5):\r\n",
        "    matrix = rescale_row(matrix)\r\n",
        "    matrix = rescale_col(matrix)\r\n",
        "\r\n",
        "print_matrix(matrix, n)"
      ],
      "execution_count": 56,
      "outputs": [
        {
          "output_type": "stream",
          "text": [
            "\t0.0\t0.0\t1.0\t0.0\t1.0\t1.0\t1.0\t0.0\t1.0\t1.0 =  6.0\n",
            "\t1.0\t0.0\t1.0\t0.0\t1.0\t1.0\t0.0\t1.0\t0.0\t1.0 =  6.0\n",
            "\t1.0\t0.0\t1.0\t0.0\t1.0\t1.0\t0.0\t0.0\t0.0\t0.0 =  4.0\n",
            "\t0.0\t1.0\t1.0\t1.0\t1.0\t0.0\t0.0\t0.0\t1.0\t0.0 =  5.0\n",
            "\t0.0\t1.0\t1.0\t1.0\t0.0\t1.0\t0.0\t1.0\t0.0\t0.0 =  5.0\n",
            "\t0.0\t0.0\t1.0\t1.0\t1.0\t1.0\t0.0\t0.0\t0.0\t1.0 =  5.0\n",
            "\t0.0\t0.0\t0.0\t0.0\t0.0\t0.0\t0.0\t1.0\t1.0\t1.0 =  3.0\n",
            "\t1.0\t1.0\t1.0\t0.0\t0.0\t0.0\t1.0\t1.0\t0.0\t0.0 =  5.0\n",
            "\t0.0\t0.0\t0.0\t1.0\t0.0\t0.0\t1.0\t1.0\t1.0\t0.0 =  4.0\n",
            "\t1.0\t1.0\t1.0\t1.0\t1.0\t0.0\t1.0\t1.0\t1.0\t1.0 =  9.0\n",
            "\t4.0 \t4.0 \t8.0 \t5.0 \t6.0 \t5.0 \t4.0 \t6.0 \t5.0 \t5.0 \n",
            "Pairs All:  False\n",
            "\t0.0\t0.0\t0.1\t0.0\t0.2\t0.2\t0.2\t0.0\t0.2\t0.2 =  1.0\n",
            "\t0.2\t0.0\t0.1\t0.0\t0.2\t0.2\t0.0\t0.1\t0.0\t0.2 =  1.0\n",
            "\t0.4\t0.0\t0.2\t0.0\t0.2\t0.2\t0.0\t0.0\t0.0\t0.0 =  1.0\n",
            "\t0.0\t0.3\t0.1\t0.2\t0.2\t0.0\t0.0\t0.0\t0.2\t0.0 =  1.0\n",
            "\t0.0\t0.3\t0.1\t0.2\t0.0\t0.2\t0.0\t0.2\t0.0\t0.0 =  1.0\n",
            "\t0.0\t0.0\t0.1\t0.2\t0.2\t0.2\t0.0\t0.0\t0.0\t0.2 =  1.0\n",
            "\t0.0\t0.0\t0.0\t0.0\t0.0\t0.0\t0.0\t0.3\t0.3\t0.4 =  1.0\n",
            "\t0.2\t0.3\t0.1\t0.0\t0.0\t0.0\t0.3\t0.1\t0.0\t0.0 =  1.0\n",
            "\t0.0\t0.0\t0.0\t0.2\t0.0\t0.0\t0.3\t0.2\t0.2\t0.0 =  1.0\n",
            "\t0.1\t0.2\t0.1\t0.1\t0.1\t0.0\t0.2\t0.1\t0.1\t0.1 =  1.0\n",
            "\t1.0 \t1.0 \t1.0 \t1.0 \t1.0 \t1.0 \t1.0 \t1.0 \t1.0 \t1.0 \n",
            "Pairs All:  True\n"
          ],
          "name": "stdout"
        }
      ]
    },
    {
      "cell_type": "code",
      "metadata": {
        "id": "3n4VEWR4TWZ7"
      },
      "source": [
        ""
      ],
      "execution_count": 27,
      "outputs": []
    }
  ]
}