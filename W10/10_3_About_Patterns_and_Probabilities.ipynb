{
  "nbformat": 4,
  "nbformat_minor": 0,
  "metadata": {
    "colab": {
      "name": "10_3_About_Patterns_and_Probabilities.ipynb",
      "provenance": [],
      "include_colab_link": true
    },
    "kernelspec": {
      "name": "python3",
      "display_name": "Python 3"
    }
  },
  "cells": [
    {
      "cell_type": "markdown",
      "metadata": {
        "id": "view-in-github",
        "colab_type": "text"
      },
      "source": [
        "<a href=\"https://colab.research.google.com/github/KarmaticNeutral/cse380-notebooks/blob/master/10_3_About_Patterns_and_Probabilities.ipynb\" target=\"_parent\"><img src=\"https://colab.research.google.com/assets/colab-badge.svg\" alt=\"Open In Colab\"/></a>"
      ]
    },
    {
      "cell_type": "markdown",
      "metadata": {
        "id": "ORT063X6qemA"
      },
      "source": [
        "# About Patterns and Probabilities\n",
        "## Class Directed Learning\n",
        "### Due: Tuesday, 9 March 2021, 11:59 pm\n",
        "\n",
        "### Group: Durid Ahmad, Matthew Reed, Paul Powell"
      ]
    },
    {
      "cell_type": "markdown",
      "metadata": {
        "id": "3uLuCScqqu_B"
      },
      "source": [
        "## DONE Explore and Wonder"
      ]
    },
    {
      "cell_type": "markdown",
      "metadata": {
        "id": "NxqhXwDAq2-t"
      },
      "source": [
        "Regarding spanning trees of ladder graphs:\n",
        "\n",
        "What is the probability ($\\lim_{n \\rightarrow \\infty} P(n)$) that a randomly-selected spanning tree of an $n$-rung ladder graph contains the bottom rung?\n",
        "\n",
        "| n | P(n) |\n",
        "|---|------|\n",
        "| 1 |      |\n",
        "| 2 |      |\n",
        "| 3 |      |\n",
        "| 4 |      |\n",
        "| 5 |      |\n"
      ]
    },
    {
      "cell_type": "markdown",
      "metadata": {
        "id": "5I1vmRcJrWuL"
      },
      "source": [
        "### Recurrence Relations"
      ]
    },
    {
      "cell_type": "markdown",
      "metadata": {
        "id": "6DLWZ6IbrZxo"
      },
      "source": [
        "Let $f(n) =$ NSTIBR$(n)$:\n",
        "\n",
        "$f(n) = 4f(n-1) - f(n-2)$ for $n > 1$;\n",
        "\n",
        "$f(0) = 1$,\n",
        "\n",
        "$f(1) = 1$.\n",
        "\n",
        "Let $g(n) =$ NST$(n)$:\n",
        "\n",
        "$g(n) = 4g(n-1) - g(n-2)$ for $n > 1$;\n",
        "\n",
        "$g(0) = 0$,\n",
        "\n",
        "$g(1) = 1$."
      ]
    },
    {
      "cell_type": "markdown",
      "metadata": {
        "id": "Pnza6EawsXDG"
      },
      "source": [
        "#### DONE Check Recurrences"
      ]
    },
    {
      "cell_type": "markdown",
      "metadata": {
        "id": "qZYRsZH7tDn6"
      },
      "source": [
        "Check the calculations in this table (maybe write recursive functions) to verify they are accurate.\n",
        "\n",
        "Do they match what you found yesterday in your DPC?"
      ]
    },
    {
      "cell_type": "markdown",
      "metadata": {
        "id": "YBgTCBGysYf5"
      },
      "source": [
        "| n | f(n) | f(n-1) | 4f(n-1)  | f(n - 2) | diff |\n",
        "|---|-----:|-------:|---------:|---------:|-----:|\n",
        "| 0 |    1 |    N/A |      N/A |      N/A |  N/A |\n",
        "| 1 |    1 |      1 |        4 |      N/A |  N/A |\n",
        "| 2 |    3 |      1 |        4 |        1 |    3 |\n",
        "| 3 |   11 |      3 |       12 |        1 |   11 |\n",
        "| 4 |   41 |     11 |       44 |        3 |   41 |\n",
        "| 5 |  153 |     41 |      164 |       11 |  153 |"
      ]
    },
    {
      "cell_type": "markdown",
      "metadata": {
        "id": "4fqIc8DMsiHo"
      },
      "source": [
        "| n | g(n) | g(n-1) | 4g(n-1)  | g(n - 2) | diff |\n",
        "|---|-----:|-------:|---------:|---------:|-----:|\n",
        "| 0 |    0 |    N/A |      N/A |      N/A |  N/A |\n",
        "| 1 |    1 |      0 |        0 |      N/A |  N/A |\n",
        "| 2 |    4 |      1 |        4 |        0 |    4 |\n",
        "| 3 |   15 |      4 |       16 |        1 |   15 |\n",
        "| 4 |   56 |     15 |       60 |        4 |   56 |\n",
        "| 5 |  209 |     56 |      224 |       15 |  209 |"
      ]
    },
    {
      "cell_type": "code",
      "metadata": {
        "id": "MXAc9aBNGqyR",
        "outputId": "1f166331-4fdc-4c3c-a51b-c502e6461b2f",
        "colab": {
          "base_uri": "https://localhost:8080/"
        }
      },
      "source": [
        "# Help from this post to get the formula: https://math.stackexchange.com/questions/69630/number-of-spanning-trees-in-a-ladder-graph\r\n",
        "from math import ceil\r\n",
        "\r\n",
        "def NST(n):\r\n",
        "    return ceil((((2 + (3 ** 0.5)) ** n) - ((2 - (3 ** 0.5)) ** n)) / (2 * (3 ** 0.5)))\r\n",
        "\r\n",
        "print(NST(1), NST(2), NST(3), NST(4), NST(5), NST(6))\r\n",
        "\r\n",
        "def NSTIBR(n):\r\n",
        "    return NST(n) - NST(n - 1)\r\n",
        "\r\n",
        "print(NSTIBR(1), NSTIBR(2), NSTIBR(3), NSTIBR(4), NSTIBR(5), NSTIBR(6))"
      ],
      "execution_count": 1,
      "outputs": [
        {
          "output_type": "stream",
          "text": [
            "1 4 15 56 209 780\n",
            "1 3 11 41 153 571\n"
          ],
          "name": "stdout"
        }
      ]
    },
    {
      "cell_type": "markdown",
      "metadata": {
        "id": "LOwJs-feG2G9"
      },
      "source": [
        "These values match what I got yesterday."
      ]
    },
    {
      "cell_type": "markdown",
      "metadata": {
        "id": "n1o1Dnn5slb9"
      },
      "source": [
        "### DONE Find closed-form formulas"
      ]
    },
    {
      "cell_type": "markdown",
      "metadata": {
        "id": "K1JrJf4pst3x"
      },
      "source": [
        "Can you find closed-form formulas for $f(n)$ and $g(n)$?\n",
        "\n",
        "A closed-form formula expressing these functions in terms of operations on $n$, **without** referring to previous calculated values of the functions."
      ]
    },
    {
      "cell_type": "code",
      "metadata": {
        "id": "YTyWXyULG-OG",
        "outputId": "6bc3b88e-e6bb-429d-e7fc-3e215fc29439",
        "colab": {
          "base_uri": "https://localhost:8080/"
        }
      },
      "source": [
        "# Help from this post to get the formula: https://math.stackexchange.com/questions/69630/number-of-spanning-trees-in-a-ladder-graph\r\n",
        "from math import ceil\r\n",
        "\r\n",
        "def NST(n):\r\n",
        "    return ceil((((2 + (3 ** 0.5)) ** n) - ((2 - (3 ** 0.5)) ** n)) / (2 * (3 ** 0.5)))\r\n",
        "\r\n",
        "print(NST(1), NST(2), NST(3), NST(4), NST(5), NST(6))\r\n",
        "\r\n",
        "def NSTIBR(n):\r\n",
        "    return NST(n) - NST(n - 1)\r\n",
        "\r\n",
        "print(NSTIBR(1), NSTIBR(2), NSTIBR(3), NSTIBR(4), NSTIBR(5), NSTIBR(6))"
      ],
      "execution_count": 3,
      "outputs": [
        {
          "output_type": "stream",
          "text": [
            "1 4 15 56 209 780\n",
            "1 3 11 41 153 571\n"
          ],
          "name": "stdout"
        }
      ]
    },
    {
      "cell_type": "code",
      "metadata": {
        "id": "vNQXq4KyIwtv",
        "outputId": "73ca35ec-b4e2-4065-a306-5ea13d486803",
        "colab": {
          "base_uri": "https://localhost:8080/"
        }
      },
      "source": [
        "def prung(n):\r\n",
        "    return NSTIBR(n) / NST(n)\r\n",
        "\r\n",
        "for i in range(100, 501, 100):\r\n",
        "    print(\"P(\", i, \") = \", prung(i))"
      ],
      "execution_count": 9,
      "outputs": [
        {
          "output_type": "stream",
          "text": [
            "P( 100 ) =  0.7320508075688773\n",
            "P( 200 ) =  0.7320508075688772\n",
            "P( 300 ) =  0.7320508075688773\n",
            "P( 400 ) =  0.7320508075688773\n",
            "P( 500 ) =  0.7320508075688773\n"
          ],
          "name": "stdout"
        }
      ]
    },
    {
      "cell_type": "markdown",
      "metadata": {
        "id": "9aZUK76CJqUt"
      },
      "source": [
        "The ($\\lim_{n \\rightarrow \\infty} P(n)$) = 0.7320508"
      ]
    },
    {
      "cell_type": "markdown",
      "metadata": {
        "id": "pBhSqKKI2b6u"
      },
      "source": [
        "#### Hint:"
      ]
    },
    {
      "cell_type": "markdown",
      "metadata": {
        "id": "7ovCUy-52dUh"
      },
      "source": [
        "http://www.ist.tugraz.at/aichholzer/teaching/eca/spanning_trees_in_ladders.pdf"
      ]
    },
    {
      "cell_type": "markdown",
      "metadata": {
        "id": "ZyzBmWV_teue"
      },
      "source": [
        "#### Possibly Illuminating Calculations"
      ]
    },
    {
      "cell_type": "markdown",
      "metadata": {
        "id": "GnSc0aQ-qaNI"
      },
      "source": [
        "Remember continued fractions?"
      ]
    },
    {
      "cell_type": "code",
      "metadata": {
        "id": "8X1u-ZeFqQsn"
      },
      "source": [
        "from fractions import Fraction as frac\n",
        "\n",
        "def contfrac2frac(seq):\n",
        "    \"\"\"Convert the simple continued fraction in `seq`\n",
        "       into a fraction with numerator num and denominator den.\n",
        "    \"\"\"\n",
        "    num, den = 1, 0\n",
        "    for u in reversed(seq):\n",
        "        num, den = den + num * u, num\n",
        "    return frac(num, den)\n",
        "\n",
        "def frac2contfrac(f):\n",
        "    \"\"\"Build the simple continued fraction expansion of fraction f.\n",
        "    \"\"\"\n",
        "    seq = []\n",
        "    frac2contfrac_rec(f, seq)\n",
        "    return seq\n",
        "\n",
        "def frac2contfrac_rec(f, seq):\n",
        "    n = f.numerator\n",
        "    d = f.denominator\n",
        "    if d != 0:\n",
        "        seq.append(n // d)\n",
        "        if n % d != 0:\n",
        "            frac2contfrac_rec(frac(d, n % d), seq)\n",
        "\n",
        "def eval_frac(f):\n",
        "    \"\"\"Evaluate the fraction f as a float.\n",
        "    \"\"\"\n",
        "    return f.numerator / f.denominator"
      ],
      "execution_count": 10,
      "outputs": []
    },
    {
      "cell_type": "code",
      "metadata": {
        "id": "YYH6Mf1ztnfu",
        "outputId": "e8f8a379-0898-4216-d4c0-104cb69d511e",
        "colab": {
          "base_uri": "https://localhost:8080/"
        }
      },
      "source": [
        "from math import sqrt\n",
        "\n",
        "value = sqrt(3) - 1\n",
        "value_as_cf = frac2contfrac(frac.from_float(value))[:21]\n",
        "cf_to_value = contfrac2frac(value_as_cf)\n",
        "print(value, value_as_cf, cf_to_value)\n",
        "print(eval_frac(cf_to_value))"
      ],
      "execution_count": 11,
      "outputs": [
        {
          "output_type": "stream",
          "text": [
            "0.7320508075688772 [0, 1, 2, 1, 2, 1, 2, 1, 2, 1, 2, 1, 2, 1, 2, 1, 2, 1, 2, 1, 2] 302632/413403\n",
            "0.732050807565499\n"
          ],
          "name": "stdout"
        }
      ]
    },
    {
      "cell_type": "code",
      "metadata": {
        "id": "yviS2YG_t2rx",
        "outputId": "094b5e92-a8fb-41ed-8111-4a75b4d928a6",
        "colab": {
          "base_uri": "https://localhost:8080/"
        }
      },
      "source": [
        "from pprint import pprint\n",
        "\n",
        "pprint(list(map(lambda n: contfrac2frac(value_as_cf[:n]), range(20, 5, -1))))"
      ],
      "execution_count": 12,
      "outputs": [
        {
          "output_type": "stream",
          "text": [
            "[Fraction(110771, 151316),\n",
            " Fraction(81090, 110771),\n",
            " Fraction(29681, 40545),\n",
            " Fraction(21728, 29681),\n",
            " Fraction(7953, 10864),\n",
            " Fraction(5822, 7953),\n",
            " Fraction(2131, 2911),\n",
            " Fraction(1560, 2131),\n",
            " Fraction(571, 780),\n",
            " Fraction(418, 571),\n",
            " Fraction(153, 209),\n",
            " Fraction(112, 153),\n",
            " Fraction(41, 56),\n",
            " Fraction(30, 41),\n",
            " Fraction(11, 15)]\n"
          ],
          "name": "stdout"
        }
      ]
    },
    {
      "cell_type": "code",
      "metadata": {
        "id": "-Nz7BGDqLbsv"
      },
      "source": [
        ""
      ],
      "execution_count": null,
      "outputs": []
    }
  ]
}